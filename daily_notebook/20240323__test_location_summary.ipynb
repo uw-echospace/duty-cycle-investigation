{
 "cells": [
  {
   "cell_type": "code",
   "execution_count": 1,
   "metadata": {},
   "outputs": [],
   "source": [
    "from pathlib import Path\n",
    "import pandas as pd"
   ]
  },
  {
   "cell_type": "code",
   "execution_count": 2,
   "metadata": {},
   "outputs": [],
   "source": [
    "import sys\n",
    "\n",
    "sys.path.append(\"../src\")\n",
    "sys.path.append(\"../src/tests/\")"
   ]
  },
  {
   "cell_type": "code",
   "execution_count": 3,
   "metadata": {},
   "outputs": [],
   "source": [
    "from core import SITE_NAMES\n",
    "import test_location_summary as test_ls"
   ]
  },
  {
   "cell_type": "code",
   "execution_count": 4,
   "metadata": {},
   "outputs": [],
   "source": [
    "from pathlib import Path\n",
    "import pandas as pd\n",
    "\n",
    "import sys\n",
    "\n",
    "sys.path.append(\"../src\")\n",
    "import pipeline\n",
    "from core import SITE_NAMES\n",
    "from cli import get_file_paths\n",
    "\n",
    "def test_columns_in_location_summary_are_as_expected(location_df):\n",
    "    \"\"\"\n",
    "    Test if the location summary has all the expected columns?\n",
    "    \"\"\"\n",
    "    expected_columns = ['freq_group', 'ref_time', 'call_start_time', 'call_end_time', 'start_time', 'end_time', 'low_freq', 'high_freq', \n",
    "        'event', 'class', 'class_prob', 'det_prob', 'individual', 'input_file', 'Site name', 'Recover Folder', 'SD Card']\n",
    "\n",
    "    existing_columns = list(location_df.columns)\n",
    "    \n",
    "    for column in expected_columns:\n",
    "        assert column in existing_columns\n",
    "\n",
    "\n",
    "def test_if_good_amount_of_calls_exist_in_location_summary(location_df, data_params):\n",
    "    \"\"\"\n",
    "    Test if the location summary has at least 1 call\n",
    "    \"\"\"\n",
    "    date_of_first_call = location_df['call_start_time'].iloc[0].date()\n",
    "    date_of_last_call = location_df['call_start_time'].iloc[-1].date()\n",
    "\n",
    "    mock = pd.date_range(date_of_first_call, date_of_last_call, freq='1S')\n",
    "    between_time_mock = mock[mock.indexer_between_time(pd.to_datetime(data_params['recording_start'], format='%H:%M').time(), \n",
    "                               pd.to_datetime(data_params['recording_end'], format='%H:%M').time())]\n",
    "    \n",
    "    assert (400000 < len(location_df))&(len(location_df) < len(between_time_mock))\n",
    "\n",
    "def test_location_summary_is_dataframe(location_df):\n",
    "    \"\"\"\n",
    "    Test if the location summary is a pandas DataFrame.\n",
    "    \"\"\"\n",
    "    assert isinstance(location_df, pd.DataFrame)\n",
    "\n",
    "def run_tests_on_all_location_summary_methods():\n",
    "    \"\"\"\n",
    "    Generates a location summary dataframe for each location and runs some basic tests to make sure output is valid\n",
    "    \"\"\"\n",
    "\n",
    "    for site_key in SITE_NAMES.keys():\n",
    "        type_key = ''\n",
    "        data_params = dict()\n",
    "        data_params[\"site_name\"] = SITE_NAMES[site_key]\n",
    "        data_params[\"site_tag\"] = site_key\n",
    "        data_params[\"type_tag\"] = type_key\n",
    "        data_params['cur_dc_tag'] = '30of30'\n",
    "        data_params[\"site_name\"] = SITE_NAMES[site_key]\n",
    "        data_params['recording_start'] = '0:00'\n",
    "        data_params['recording_end'] = '16:00'\n",
    "\n",
    "        pipeline_params = dict()\n",
    "        pipeline_params['use_threshold_to_group'] = False\n",
    "        pipeline_params['use_kmeans_to_group'] = True\n",
    "\n",
    "        file_paths = get_file_paths(data_params)\n",
    "\n",
    "        if Path(file_paths['raw_SITE_folder']).exists():\n",
    "            print(site_key)\n",
    "            location_df = pipeline.prepare_location_sumary(data_params, pipeline_params, file_paths)\n",
    "            test_location_summary_is_dataframe(location_df)\n",
    "            test_columns_in_location_summary_are_as_expected(location_df)\n",
    "            test_if_good_amount_of_calls_exist_in_location_summary(location_df, data_params)"
   ]
  },
  {
   "cell_type": "code",
   "execution_count": 5,
   "metadata": {},
   "outputs": [
    {
     "name": "stdout",
     "output_type": "stream",
     "text": [
      "Central\n",
      "Foliage\n",
      "Carp\n",
      "Telephone\n",
      "Opposite\n",
      "Fallen\n"
     ]
    }
   ],
   "source": [
    "run_tests_on_all_location_summary_methods()"
   ]
  }
 ],
 "metadata": {
  "kernelspec": {
   "display_name": "Python 3",
   "language": "python",
   "name": "python3"
  },
  "language_info": {
   "codemirror_mode": {
    "name": "ipython",
    "version": 3
   },
   "file_extension": ".py",
   "mimetype": "text/x-python",
   "name": "python",
   "nbconvert_exporter": "python",
   "pygments_lexer": "ipython3",
   "version": "3.11.4"
  }
 },
 "nbformat": 4,
 "nbformat_minor": 2
}
