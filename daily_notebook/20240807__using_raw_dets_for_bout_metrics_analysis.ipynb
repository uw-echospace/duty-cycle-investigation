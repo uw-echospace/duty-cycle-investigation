{
 "cells": [
  {
   "cell_type": "code",
   "execution_count": 1,
   "metadata": {},
   "outputs": [],
   "source": [
    "import numpy as np\n",
    "import pandas as pd\n",
    "import scipy\n",
    "from scipy import stats\n",
    "import suncalc\n",
    "\n",
    "import dask.dataframe as dd\n",
    "from pathlib import Path\n",
    "import glob\n",
    "import re\n",
    "\n",
    "import datetime as dt\n",
    "\n",
    "import matplotlib.pyplot as plt\n",
    "from matplotlib import colors\n",
    "import soundfile as sf\n",
    "import matplotlib.patches as patches"
   ]
  },
  {
   "cell_type": "code",
   "execution_count": 2,
   "metadata": {},
   "outputs": [],
   "source": [
    "import sys\n",
    "\n",
    "sys.path.append(\"../src\")\n",
    "sys.path.append(\"../src/bout\")"
   ]
  },
  {
   "cell_type": "code",
   "execution_count": 3,
   "metadata": {},
   "outputs": [],
   "source": [
    "import clustering as clstr\n",
    "import bout as bt\n",
    "import plot as bt_plt\n",
    "import activity.subsampling as ss\n",
    "import activity.activity_assembly as actvt\n",
    "import comparison.data_assembly as comp\n",
    "import comparison.plot as complot\n",
    "import pipeline\n",
    "from core import SITE_NAMES, FREQUENCY_COLOR_MAPPINGS\n",
    "\n",
    "from cli import get_file_paths\n",
    "import pipeline"
   ]
  },
  {
   "cell_type": "code",
   "execution_count": 4,
   "metadata": {},
   "outputs": [
    {
     "name": "stdout",
     "output_type": "stream",
     "text": [
      "Carp LF\n"
     ]
    },
    {
     "name": "stderr",
     "output_type": "stream",
     "text": [
      "100%|██████████| 24/24 [03:28<00:00,  8.70s/it]\n"
     ]
    },
    {
     "name": "stdout",
     "output_type": "stream",
     "text": [
      "Carp HF\n"
     ]
    },
    {
     "name": "stderr",
     "output_type": "stream",
     "text": [
      "100%|██████████| 24/24 [00:48<00:00,  2.03s/it]\n"
     ]
    }
   ],
   "source": [
    "avail = np.arange(0, 720, 6) + 6\n",
    "reset_24 = avail[np.where((24*60 % avail) == 0)[0]]\n",
    "\n",
    "cycle_lengths = [6, 18, 30, 60, 120, 180]\n",
    "percent_ons = [1/6, 1/3, 1/2, 2/3]\n",
    "data_params = dict()\n",
    "data_params[\"cycle_lengths\"] = cycle_lengths\n",
    "data_params[\"percent_ons\"] = percent_ons\n",
    "data_params['index_time_block_in_secs'] = '5'\n",
    "dc_tags = ss.get_list_of_dc_tags(data_params[\"cycle_lengths\"], data_params[\"percent_ons\"])\n",
    "\n",
    "site_key = 'Carp'\n",
    "type_keys = ['LF', 'HF']\n",
    "data_params[\"dc_tags\"] = dc_tags\n",
    "data_params[\"site_tag\"] = site_key\n",
    "data_params[\"site_name\"] = SITE_NAMES[site_key]\n",
    "data_params['recording_start'] = '0:00'\n",
    "data_params['recording_end'] = '16:00'\n",
    "data_params['metric_tag'] = 'bout_time_percentage'\n",
    "\n",
    "for type_key in type_keys:\n",
    "    print(site_key, type_key)\n",
    "    data_params[\"type_tag\"] = type_key\n",
    "    data_params[\"detector_tag\"] = 'kd'\n",
    "    file_paths = get_file_paths(data_params)\n",
    "    activity_arr, btp_arr = comp.generate_activity_btp_for_dc_schemes_and_cont(data_params, file_paths, save=True)"
   ]
  }
 ],
 "metadata": {
  "kernelspec": {
   "display_name": "Python 3",
   "language": "python",
   "name": "python3"
  },
  "language_info": {
   "codemirror_mode": {
    "name": "ipython",
    "version": 3
   },
   "file_extension": ".py",
   "mimetype": "text/x-python",
   "name": "python",
   "nbconvert_exporter": "python",
   "pygments_lexer": "ipython3",
   "version": "3.11.4"
  }
 },
 "nbformat": 4,
 "nbformat_minor": 2
}
