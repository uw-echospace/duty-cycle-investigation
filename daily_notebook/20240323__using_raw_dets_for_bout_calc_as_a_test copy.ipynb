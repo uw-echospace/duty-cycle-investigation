{
 "cells": [
  {
   "cell_type": "code",
   "execution_count": 1,
   "metadata": {},
   "outputs": [],
   "source": [
    "import numpy as np\n",
    "import pandas as pd\n",
    "import scipy\n",
    "from scipy import stats\n",
    "import suncalc\n",
    "\n",
    "import dask.dataframe as dd\n",
    "from pathlib import Path\n",
    "import glob\n",
    "import re\n",
    "\n",
    "import datetime as dt\n",
    "\n",
    "import matplotlib.pyplot as plt\n",
    "from matplotlib import colors\n",
    "import soundfile as sf\n",
    "import matplotlib.patches as patches"
   ]
  },
  {
   "cell_type": "code",
   "execution_count": 2,
   "metadata": {},
   "outputs": [],
   "source": [
    "import sys\n",
    "\n",
    "sys.path.append(\"../src\")\n",
    "sys.path.append(\"../src/bout\")\n",
    "sys.path.append(\"../src/tests\")"
   ]
  },
  {
   "cell_type": "code",
   "execution_count": 3,
   "metadata": {},
   "outputs": [],
   "source": [
    "import clustering as clstr\n",
    "import bout as bt\n",
    "import plot as bt_plt\n",
    "import test_activity_metric_functions as test_actvt\n",
    "import activity.subsampling as ss\n",
    "import activity.activity_assembly as actvt\n",
    "import pipeline\n",
    "from core import SITE_NAMES, FREQUENCY_COLOR_MAPPINGS\n",
    "\n",
    "from cli import get_file_paths\n",
    "import pipeline"
   ]
  },
  {
   "cell_type": "code",
   "execution_count": 4,
   "metadata": {},
   "outputs": [
    {
     "name": "stdout",
     "output_type": "stream",
     "text": [
      "Central \n",
      "Central LF\n",
      "Central HF\n",
      "Foliage \n",
      "Foliage LF\n",
      "Foliage HF\n",
      "Carp \n",
      "Carp LF\n",
      "Carp HF\n",
      "Telephone \n",
      "Telephone LF\n",
      "Telephone HF\n",
      "Opposite \n",
      "Opposite LF\n",
      "Opposite HF\n",
      "Fallen \n",
      "Fallen LF\n",
      "Fallen HF\n"
     ]
    }
   ],
   "source": [
    "test_actvt.test_bout_calculation_on_location_sums()"
   ]
  }
 ],
 "metadata": {
  "kernelspec": {
   "display_name": "Python 3",
   "language": "python",
   "name": "python3"
  },
  "language_info": {
   "codemirror_mode": {
    "name": "ipython",
    "version": 3
   },
   "file_extension": ".py",
   "mimetype": "text/x-python",
   "name": "python",
   "nbconvert_exporter": "python",
   "pygments_lexer": "ipython3",
   "version": "3.11.4"
  }
 },
 "nbformat": 4,
 "nbformat_minor": 2
}
