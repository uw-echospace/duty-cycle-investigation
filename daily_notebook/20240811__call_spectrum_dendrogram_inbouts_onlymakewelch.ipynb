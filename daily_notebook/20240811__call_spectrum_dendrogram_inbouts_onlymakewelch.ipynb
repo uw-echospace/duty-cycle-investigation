{
 "cells": [
  {
   "cell_type": "code",
   "execution_count": 1,
   "metadata": {},
   "outputs": [],
   "source": [
    "import numpy as np\n",
    "import pandas as pd\n",
    "import datetime as dt\n",
    "import scipy\n",
    "from pathlib import Path\n",
    "\n",
    "import matplotlib.pyplot as plt\n",
    "from sklearn.cluster import k_means, KMeans\n",
    "from scipy.cluster.hierarchy import dendrogram, linkage\n",
    "import seaborn as sns"
   ]
  },
  {
   "cell_type": "code",
   "execution_count": 2,
   "metadata": {},
   "outputs": [],
   "source": [
    "import sys\n",
    "\n",
    "sys.path.append(\"../src\")"
   ]
  },
  {
   "cell_type": "code",
   "execution_count": 3,
   "metadata": {},
   "outputs": [],
   "source": [
    "from core import SITE_NAMES\n",
    "from calls import plot_call_features, compute_features\n",
    "\n",
    "\n",
    "random_state_for_sites = {'Foliage':800, 'Carp':200, 'Central':0, 'Telephone':0}\n",
    "color_for_groups = {0: 'blue', 1: 'red', 2:'limegreen'}\n",
    "label_for_groups = {0: 'LF1', 1: 'HF1', 2:'HF2'}"
   ]
  },
  {
   "cell_type": "code",
   "execution_count": 4,
   "metadata": {},
   "outputs": [],
   "source": [
    "site_key = 'Carp'\n",
    "input_dir = Path(f'../data/detected_calls/{site_key}')\n",
    "output_dir = Path(f'../data/generated_welch/{site_key}')\n",
    "if not(output_dir.is_dir()):\n",
    "    output_dir.mkdir(parents=True)\n",
    "input_file_type = 'top1_inbouts_call_signals'\n",
    "output_file_type = 'top1_inbouts_welch_signals'\n",
    "\n",
    "location_call_signals = np.load(input_dir / f'2022_{site_key}_{input_file_type}.npy', allow_pickle=True)\n",
    "location_calls_sampled = pd.read_csv(input_dir / f'2022_{site_key}_{input_file_type}.csv', index_col=0, low_memory=False)\n",
    "location_calls_sampled['index'] = location_calls_sampled.index\n",
    "\n",
    "welch_signals = compute_features.generate_welchs_for_calls(location_calls_sampled, location_call_signals)\n",
    "welch_data = pd.DataFrame(welch_signals, columns=np.linspace(0, 96000, welch_signals.shape[1]).astype(int))\n",
    "welch_data.index.name = 'Call #'\n",
    "welch_data.columns.name = 'Frequency (kHz)'\n",
    "welch_data.to_csv(output_dir / f'2022_{site_key}_{output_file_type}.csv')"
   ]
  },
  {
   "cell_type": "code",
   "execution_count": 5,
   "metadata": {},
   "outputs": [],
   "source": [
    "site_key = 'Central'\n",
    "input_dir = Path(f'../data/detected_calls/{site_key}')\n",
    "output_dir = Path(f'../data/generated_welch/{site_key}')\n",
    "if not(output_dir.is_dir()):\n",
    "    output_dir.mkdir(parents=True)\n",
    "input_file_type = 'top1_inbouts_call_signals'\n",
    "output_file_type = 'top1_inbouts_welch_signals'\n",
    "\n",
    "location_call_signals = np.load(input_dir / f'2022_{site_key}_{input_file_type}.npy', allow_pickle=True)\n",
    "location_calls_sampled = pd.read_csv(input_dir / f'2022_{site_key}_{input_file_type}.csv', index_col=0, low_memory=False)\n",
    "location_calls_sampled['index'] = location_calls_sampled.index\n",
    "\n",
    "welch_signals = compute_features.generate_welchs_for_calls(location_calls_sampled, location_call_signals)\n",
    "welch_data = pd.DataFrame(welch_signals, columns=np.linspace(0, 96000, welch_signals.shape[1]).astype(int))\n",
    "welch_data.index.name = 'Call #'\n",
    "welch_data.columns.name = 'Frequency (kHz)'\n",
    "welch_data.to_csv(output_dir / f'2022_{site_key}_{output_file_type}.csv')"
   ]
  },
  {
   "cell_type": "code",
   "execution_count": 6,
   "metadata": {},
   "outputs": [],
   "source": [
    "site_key = 'Foliage'\n",
    "input_dir = Path(f'../data/detected_calls/{site_key}')\n",
    "output_dir = Path(f'../data/generated_welch/{site_key}')\n",
    "if not(output_dir.is_dir()):\n",
    "    output_dir.mkdir(parents=True)\n",
    "input_file_type = 'top1_inbouts_call_signals'\n",
    "output_file_type = 'top1_inbouts_welch_signals'\n",
    "\n",
    "location_call_signals = np.load(input_dir / f'2022_{site_key}_{input_file_type}.npy', allow_pickle=True)\n",
    "location_calls_sampled = pd.read_csv(input_dir / f'2022_{site_key}_{input_file_type}.csv', index_col=0, low_memory=False)\n",
    "location_calls_sampled['index'] = location_calls_sampled.index\n",
    "\n",
    "welch_signals = compute_features.generate_welchs_for_calls(location_calls_sampled, location_call_signals)\n",
    "welch_data = pd.DataFrame(welch_signals, columns=np.linspace(0, 96000, welch_signals.shape[1]).astype(int))\n",
    "welch_data.index.name = 'Call #'\n",
    "welch_data.columns.name = 'Frequency (kHz)'\n",
    "welch_data.to_csv(output_dir / f'2022_{site_key}_{output_file_type}.csv')"
   ]
  },
  {
   "cell_type": "code",
   "execution_count": 13,
   "metadata": {},
   "outputs": [],
   "source": [
    "site_key = 'Telephone'\n",
    "input_dir = Path(f'../data/detected_calls/{site_key}')\n",
    "output_dir = Path(f'../data/generated_welch/{site_key}')\n",
    "if not(output_dir.is_dir()):\n",
    "    output_dir.mkdir(parents=True)\n",
    "input_file_type = 'top1_inbouts_call_signals'\n",
    "output_file_type = 'top1_inbouts_welch_signals'\n",
    "\n",
    "location_call_signals = np.load(input_dir / f'2022_{site_key}_{input_file_type}.npy', allow_pickle=True)\n",
    "location_calls_sampled = pd.read_csv(input_dir / f'2022_{site_key}_{input_file_type}.csv', index_col=0, low_memory=False)\n",
    "location_calls_sampled['index'] = location_calls_sampled.index\n",
    "\n",
    "welch_signals = compute_features.generate_welchs_for_calls(location_calls_sampled, location_call_signals)\n",
    "welch_data = pd.DataFrame(welch_signals, columns=np.linspace(0, 96000, welch_signals.shape[1]).astype(int))\n",
    "welch_data.index.name = 'Call #'\n",
    "welch_data.columns.name = 'Frequency (kHz)'\n",
    "welch_data.to_csv(output_dir / f'2022_{site_key}_{output_file_type}.csv')"
   ]
  },
  {
   "cell_type": "code",
   "execution_count": 15,
   "metadata": {},
   "outputs": [
    {
     "data": {
      "text/plain": [
       "array([array([ 1.70962579e-03, -7.26463348e-04, -1.65528840e-03, ...,\n",
       "              -7.54591859e-03, -8.75610272e-03, -3.09310469e-05])    ,\n",
       "       array([-8.06055475e-04,  1.64288399e-05,  5.84924665e-04, ...,\n",
       "              -2.62544355e-03, -2.77484067e-03, -2.71933440e-04])    ,\n",
       "       array([-0.00154669, -0.00055825,  0.00078432, ...,  0.01029894,\n",
       "               0.01103709,  0.00024658])                              ,\n",
       "       ...,\n",
       "       array([-0.00037176,  0.00041908,  0.00029018, ...,  0.00012692,\n",
       "               0.0003825 , -0.00019487])                              ,\n",
       "       array([-3.49778587e-03, -1.18695424e-03,  1.38620008e-03, ...,\n",
       "              -8.33001250e-04,  8.31596769e-04,  1.84040951e-05])    ,\n",
       "       array([ 2.07472033e-03,  1.28122338e-03, -6.39980412e-04, ...,\n",
       "               3.44189870e-03,  2.33933897e-03,  3.74337313e-05])    ],\n",
       "      dtype=object)"
      ]
     },
     "execution_count": 15,
     "metadata": {},
     "output_type": "execute_result"
    }
   ],
   "source": [
    "location_call_signals"
   ]
  },
  {
   "cell_type": "code",
   "execution_count": 8,
   "metadata": {},
   "outputs": [
    {
     "name": "stdout",
     "output_type": "stream",
     "text": [
      "Central\n",
      "Foliage\n",
      "Carp\n",
      "Telephone\n"
     ]
    }
   ],
   "source": [
    "save_site = 'all_locations'\n",
    "output_dir = Path(f'../data/generated_welch/{save_site}')\n",
    "if not(output_dir.is_dir()):\n",
    "    output_dir.mkdir(parents=True)\n",
    "output_file_type = 'top1_inbouts_welch_signals'\n",
    "\n",
    "all_sites_welch_signals = []\n",
    "for site_key in SITE_NAMES.keys():\n",
    "    input_dir = Path(f'../data/detected_calls/{site_key}')\n",
    "    input_file_type = 'top1_inbouts_call_signals'\n",
    "    if (input_dir / f'2022_{site_key}_{input_file_type}.npy').exists():\n",
    "        print(site_key)\n",
    "        location_call_signals = np.load(input_dir / f'2022_{site_key}_{input_file_type}.npy', allow_pickle=True)\n",
    "        location_calls_sampled = pd.read_csv(input_dir / f'2022_{site_key}_{input_file_type}.csv', index_col=0, low_memory=False)\n",
    "        location_calls_sampled['index'] = location_calls_sampled.index\n",
    "\n",
    "        welch_signals = compute_features.generate_welchs_for_calls(location_calls_sampled, location_call_signals)\n",
    "        all_sites_welch_signals.append(welch_signals)\n",
    "\n",
    "all_sites_welch_signals = np.vstack(all_sites_welch_signals)\n",
    "welch_data = pd.DataFrame(all_sites_welch_signals, columns=np.linspace(0, 96000, all_sites_welch_signals.shape[1]).astype(int))\n",
    "welch_data.index.name = 'Call #'\n",
    "welch_data.columns.name = 'Frequency (kHz)'\n",
    "welch_data.to_csv(output_dir / f'2022_{save_site}_{output_file_type}.csv')"
   ]
  },
  {
   "cell_type": "code",
   "execution_count": 9,
   "metadata": {},
   "outputs": [
    {
     "name": "stdout",
     "output_type": "stream",
     "text": [
      "Central\n",
      "Carp\n"
     ]
    }
   ],
   "source": [
    "save_site = 'only_ponds'\n",
    "output_dir = Path(f'../data/generated_welch/{save_site}')\n",
    "if not(output_dir.is_dir()):\n",
    "    output_dir.mkdir(parents=True)\n",
    "output_file_type = 'top1_inbouts_welch_signals'\n",
    "\n",
    "all_sites_welch_signals = []\n",
    "for site_key in SITE_NAMES.keys():\n",
    "    input_dir = Path(f'../data/detected_calls/{site_key}')\n",
    "    input_file_type = 'top1_inbouts_call_signals'\n",
    "    if (input_dir / f'2022_{site_key}_{input_file_type}.npy').exists() and 'Pond' in SITE_NAMES[site_key]:\n",
    "        print(site_key)\n",
    "        location_call_signals = np.load(input_dir / f'2022_{site_key}_{input_file_type}.npy', allow_pickle=True)\n",
    "        location_calls_sampled = pd.read_csv(input_dir / f'2022_{site_key}_{input_file_type}.csv', index_col=0, low_memory=False)\n",
    "        location_calls_sampled['index'] = location_calls_sampled.index\n",
    "\n",
    "        welch_signals = compute_features.generate_welchs_for_calls(location_calls_sampled, location_call_signals)\n",
    "        all_sites_welch_signals.append(welch_signals)\n",
    "\n",
    "all_sites_welch_signals = np.vstack(all_sites_welch_signals)\n",
    "welch_data = pd.DataFrame(all_sites_welch_signals, columns=np.linspace(0, 96000, all_sites_welch_signals.shape[1]).astype(int))\n",
    "welch_data.index.name = 'Call #'\n",
    "welch_data.columns.name = 'Frequency (kHz)'\n",
    "welch_data.to_csv(output_dir / f'2022_{save_site}_{output_file_type}.csv')"
   ]
  },
  {
   "cell_type": "code",
   "execution_count": 10,
   "metadata": {},
   "outputs": [
    {
     "name": "stdout",
     "output_type": "stream",
     "text": [
      "Central\n",
      "Carp\n"
     ]
    }
   ],
   "source": [
    "save_site = 'only_forests'\n",
    "output_dir = Path(f'../data/generated_welch/{save_site}')\n",
    "if not(output_dir.is_dir()):\n",
    "    output_dir.mkdir(parents=True)\n",
    "output_file_type = 'top1_inbouts_welch_signals'\n",
    "\n",
    "all_sites_welch_signals = []\n",
    "for site_key in SITE_NAMES.keys():\n",
    "    input_dir = Path(f'../data/detected_calls/{site_key}')\n",
    "    input_file_type = 'top1_inbouts_call_signals'\n",
    "    if (input_dir / f'2022_{site_key}_{input_file_type}.npy').exists() and 'Pond' in SITE_NAMES[site_key]:\n",
    "        print(site_key)\n",
    "        location_call_signals = np.load(input_dir / f'2022_{site_key}_{input_file_type}.npy', allow_pickle=True)\n",
    "        location_calls_sampled = pd.read_csv(input_dir / f'2022_{site_key}_{input_file_type}.csv', index_col=0, low_memory=False)\n",
    "        location_calls_sampled['index'] = location_calls_sampled.index\n",
    "\n",
    "        welch_signals = compute_features.generate_welchs_for_calls(location_calls_sampled, location_call_signals)\n",
    "        all_sites_welch_signals.append(welch_signals)\n",
    "\n",
    "all_sites_welch_signals = np.vstack(all_sites_welch_signals)\n",
    "welch_data = pd.DataFrame(all_sites_welch_signals, columns=np.linspace(0, 96000, all_sites_welch_signals.shape[1]).astype(int))\n",
    "welch_data.index.name = 'Call #'\n",
    "welch_data.columns.name = 'Frequency (kHz)'\n",
    "welch_data.to_csv(output_dir / f'2022_{save_site}_{output_file_type}.csv')"
   ]
  }
 ],
 "metadata": {
  "kernelspec": {
   "display_name": "Python 3",
   "language": "python",
   "name": "python3"
  },
  "language_info": {
   "codemirror_mode": {
    "name": "ipython",
    "version": 3
   },
   "file_extension": ".py",
   "mimetype": "text/x-python",
   "name": "python",
   "nbconvert_exporter": "python",
   "pygments_lexer": "ipython3",
   "version": "3.11.4"
  },
  "orig_nbformat": 4
 },
 "nbformat": 4,
 "nbformat_minor": 2
}
