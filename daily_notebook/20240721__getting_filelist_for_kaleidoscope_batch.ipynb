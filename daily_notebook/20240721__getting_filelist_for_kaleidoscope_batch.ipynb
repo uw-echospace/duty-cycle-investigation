{
 "cells": [
  {
   "cell_type": "markdown",
   "metadata": {},
   "source": [
    "# Methods Notebook: Extracting Call Samples for KMeans Clustering"
   ]
  },
  {
   "cell_type": "markdown",
   "metadata": {},
   "source": [
    "## Imports Section:"
   ]
  },
  {
   "cell_type": "code",
   "execution_count": 1,
   "metadata": {},
   "outputs": [],
   "source": [
    "import numpy as np\n",
    "import pandas as pd\n",
    "import random\n",
    "import scipy\n",
    "from scipy import stats\n",
    "import datetime as dt\n",
    "import dask.dataframe as dd\n",
    "\n",
    "\n",
    "import glob\n",
    "import json\n",
    "import matplotlib.pyplot as plt\n",
    "from matplotlib import colors\n",
    "import soundfile as sf\n",
    "import matplotlib.patches as patches\n",
    "from pathlib import Path"
   ]
  },
  {
   "cell_type": "code",
   "execution_count": 2,
   "metadata": {},
   "outputs": [],
   "source": [
    "import sys\n",
    "\n",
    "sys.path.append(\"../src\")"
   ]
  },
  {
   "cell_type": "code",
   "execution_count": 3,
   "metadata": {},
   "outputs": [
    {
     "name": "stdout",
     "output_type": "stream",
     "text": [
      "['/Users/adityakrishna/duty-cycle-investigation/daily_notebook', '/Users/adityakrishna/miniconda3/envs/dc-study/lib/python311.zip', '/Users/adityakrishna/miniconda3/envs/dc-study/lib/python3.11', '/Users/adityakrishna/miniconda3/envs/dc-study/lib/python3.11/lib-dynload', '', '/Users/adityakrishna/miniconda3/envs/dc-study/lib/python3.11/site-packages', '../src', '../src', '../src', '../src/bout', '../src', '/Users/adityakrishna/duty-cycle-investigation/daily_notebook/../src/bout', '/Users/adityakrishna/duty-cycle-investigation/daily_notebook/../src']\n"
     ]
    }
   ],
   "source": [
    "from core import SITE_NAMES, FREQ_GROUPS\n",
    "import bout.assembly as bt\n",
    "import bout.clustering as bt_clustering\n",
    "import bout.plot as bt_plt\n",
    "import activity.subsampling as ss\n",
    "import activity.activity_assembly as dh\n",
    "\n",
    "import calls.compute_features as cf\n",
    "import calls.call_extraction as cextract\n",
    "\n",
    "from cli import get_file_paths"
   ]
  },
  {
   "cell_type": "code",
   "execution_count": 4,
   "metadata": {},
   "outputs": [],
   "source": [
    "ubna_data_df = dd.read_csv('../data/ubna_data_*_mir_collected_audio_records.csv', dtype=str).compute()\n",
    "if 'Unnamed: 0' in ubna_data_df.columns:\n",
    "    ubna_data_df.drop(columns='Unnamed: 0', inplace=True)\n",
    "ubna_data_df[\"datetime_UTC\"] = pd.DatetimeIndex(ubna_data_df[\"datetime_UTC\"])\n",
    "ubna_data_df.set_index(\"datetime_UTC\", inplace=True)"
   ]
  },
  {
   "cell_type": "code",
   "execution_count": 5,
   "metadata": {},
   "outputs": [],
   "source": [
    "def filter_df_with_location(ubna_data_df, cfg):\n",
    "    site_name_cond = ubna_data_df[\"site_name\"] == cfg['site']\n",
    "    file_year_cond = ubna_data_df.index.year == (dt.datetime.strptime(cfg['year'], '%Y')).year\n",
    "    file_month_cond = ubna_data_df.index.month == (dt.datetime.strptime(cfg['month'], '%B')).month\n",
    "    minute_cond = np.logical_or((ubna_data_df.index).minute == 30, (ubna_data_df.index).minute == 0)\n",
    "    datetime_cond = np.logical_and((ubna_data_df.index).second == 0, minute_cond)\n",
    "    file_error_cond = np.logical_and((ubna_data_df[\"file_duration\"]!='File has no comment due to error!'), (ubna_data_df[\"file_duration\"]!='File has no Audiomoth-related comment'))\n",
    "    all_errors_cond = np.logical_and((ubna_data_df[\"file_duration\"]!='Is empty!'), file_error_cond)\n",
    "    file_date_cond = np.logical_and(file_year_cond, file_month_cond)\n",
    "\n",
    "    filtered_location_df = ubna_data_df.loc[site_name_cond&datetime_cond&file_date_cond&all_errors_cond].sort_index()\n",
    "    filtered_location_nightly_df = filtered_location_df.between_time(cfg['recording_start'], cfg['recording_end'], inclusive=\"left\")\n",
    "\n",
    "    return filtered_location_nightly_df"
   ]
  },
  {
   "cell_type": "code",
   "execution_count": 13,
   "metadata": {},
   "outputs": [
    {
     "name": "stdout",
     "output_type": "stream",
     "text": [
      "Error files exist!\n",
      "Will be looking at 542 files from Carp Pond\n"
     ]
    }
   ],
   "source": [
    "cfg = dict()\n",
    "cfg['site'] = 'Carp Pond'\n",
    "cfg['year'] = '2022'\n",
    "cfg['month'] = 'October'\n",
    "cfg['recording_start'] = '00:00'\n",
    "cfg['recording_end'] = '16:00'\n",
    "cfg['duration'] = 1795\n",
    "\n",
    "\n",
    "files_from_location = filter_df_with_location(ubna_data_df, cfg)\n",
    "files_from_location\n",
    "\n",
    "data_params = dict()\n",
    "data_params['ref_audio_files'] = sorted(list(files_from_location[\"file_path\"].apply(lambda x : Path(x)).values))\n",
    "file_status_cond = files_from_location[\"file_status\"] == \"Usable for detection\"\n",
    "file_duration_cond = np.isclose(files_from_location[\"file_duration\"].astype('float'), cfg['duration'])\n",
    "good_location_df = files_from_location.loc[file_status_cond&file_duration_cond]\n",
    "data_params['good_audio_files'] = sorted(list(good_location_df[\"file_path\"].apply(lambda x : Path(x)).values))\n",
    "\n",
    "if data_params['good_audio_files'] == data_params['ref_audio_files']:\n",
    "    print(\"All files from deployment session good!\")\n",
    "else:\n",
    "    print(\"Error files exist!\")\n",
    "\n",
    "print(f\"Will be looking at {len(data_params['good_audio_files'])} files from {cfg['site']}\")\n",
    "\n",
    "paths = good_location_df['file_path'].values\n",
    "with open(f\"{cfg['site'].split()[0].lower()}_{cfg['month'].lower()}__filelist.txt\", 'w') as txt_file:\n",
    "    for line in paths:\n",
    "        txt_file.write(\"\".join(line) + \"\\n\") # works with any number of elements in a line"
   ]
  }
 ],
 "metadata": {
  "kernelspec": {
   "display_name": "Python 3",
   "language": "python",
   "name": "python3"
  },
  "language_info": {
   "codemirror_mode": {
    "name": "ipython",
    "version": 3
   },
   "file_extension": ".py",
   "mimetype": "text/x-python",
   "name": "python",
   "nbconvert_exporter": "python",
   "pygments_lexer": "ipython3",
   "version": "3.11.4"
  },
  "orig_nbformat": 4
 },
 "nbformat": 4,
 "nbformat_minor": 2
}
