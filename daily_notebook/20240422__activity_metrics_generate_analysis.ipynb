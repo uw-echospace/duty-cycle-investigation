{
 "cells": [
  {
   "cell_type": "code",
   "execution_count": 1,
   "metadata": {},
   "outputs": [],
   "source": [
    "import numpy as np\n",
    "import pandas as pd\n",
    "import scipy\n",
    "from scipy import stats\n",
    "import suncalc\n",
    "\n",
    "import dask.dataframe as dd\n",
    "from pathlib import Path\n",
    "from tqdm import tqdm\n",
    "import re\n",
    "\n",
    "import datetime as dt\n",
    "\n",
    "import matplotlib.pyplot as plt\n",
    "from matplotlib import colors\n",
    "import soundfile as sf\n",
    "import matplotlib.patches as patches"
   ]
  },
  {
   "cell_type": "code",
   "execution_count": 2,
   "metadata": {},
   "outputs": [],
   "source": [
    "import sys\n",
    "\n",
    "sys.path.append(\"../src\")\n",
    "sys.path.append(\"../src/activity\")"
   ]
  },
  {
   "cell_type": "code",
   "execution_count": 3,
   "metadata": {},
   "outputs": [],
   "source": [
    "import subsampling as ss\n",
    "import activity_assembly as actvt\n",
    "import bout.assembly as bt\n",
    "import comparison.data_assembly as comp\n",
    "import comparison.plot as complot\n",
    "from core import SITE_NAMES\n",
    "\n",
    "from cli import get_file_paths\n",
    "import plot\n",
    "import pipeline"
   ]
  },
  {
   "cell_type": "code",
   "execution_count": 4,
   "metadata": {},
   "outputs": [],
   "source": [
    "avail = np.arange(0, 120, 6) + 6\n",
    "reset_3 = avail[np.where((3*60 % avail) == 0)[0]]\n",
    "reset_4 = avail[np.where((4*60 % avail) == 0)[0]]\n",
    "reset_6 = avail[np.where((6*60 % avail) == 0)[0]]\n",
    "reset_12 = avail[np.where((12*60 % avail) == 0)[0]]\n",
    "reset_24 = avail[np.where((24*60 % avail) == 0)[0]]"
   ]
  },
  {
   "cell_type": "code",
   "execution_count": 5,
   "metadata": {},
   "outputs": [
    {
     "data": {
      "text/plain": [
       "array([ 6, 12, 18, 30, 36, 60, 90])"
      ]
     },
     "execution_count": 5,
     "metadata": {},
     "output_type": "execute_result"
    }
   ],
   "source": [
    "reset_3"
   ]
  },
  {
   "cell_type": "code",
   "execution_count": 6,
   "metadata": {},
   "outputs": [
    {
     "data": {
      "text/plain": [
       "array([  6,  12,  24,  30,  48,  60, 120])"
      ]
     },
     "execution_count": 6,
     "metadata": {},
     "output_type": "execute_result"
    }
   ],
   "source": [
    "reset_4"
   ]
  },
  {
   "cell_type": "code",
   "execution_count": 7,
   "metadata": {},
   "outputs": [
    {
     "data": {
      "text/plain": [
       "array([  6,  12,  18,  24,  30,  36,  60,  72,  90, 120])"
      ]
     },
     "execution_count": 7,
     "metadata": {},
     "output_type": "execute_result"
    }
   ],
   "source": [
    "reset_6"
   ]
  },
  {
   "cell_type": "code",
   "execution_count": 8,
   "metadata": {},
   "outputs": [
    {
     "data": {
      "text/plain": [
       "array([  6,  12,  18,  24,  30,  36,  48,  60,  72,  90, 120])"
      ]
     },
     "execution_count": 8,
     "metadata": {},
     "output_type": "execute_result"
    }
   ],
   "source": [
    "reset_12"
   ]
  },
  {
   "cell_type": "code",
   "execution_count": 9,
   "metadata": {},
   "outputs": [
    {
     "data": {
      "text/plain": [
       "array([  6,  12,  18,  24,  30,  36,  48,  60,  72,  90,  96, 120])"
      ]
     },
     "execution_count": 9,
     "metadata": {},
     "output_type": "execute_result"
    }
   ],
   "source": [
    "reset_24"
   ]
  },
  {
   "cell_type": "code",
   "execution_count": 10,
   "metadata": {},
   "outputs": [
    {
     "data": {
      "text/plain": [
       "array([  6,  12,  18,  24,  30,  36,  48,  60,  72,  90, 120])"
      ]
     },
     "execution_count": 10,
     "metadata": {},
     "output_type": "execute_result"
    }
   ],
   "source": [
    "f = 6\n",
    "fact_ = reset_12[np.where((reset_12%f) == 0)[0]]\n",
    "fact_"
   ]
  },
  {
   "cell_type": "code",
   "execution_count": 16,
   "metadata": {},
   "outputs": [
    {
     "data": {
      "text/plain": [
       "array([0.16666667, 0.33333333, 0.5       , 0.66666667])"
      ]
     },
     "execution_count": 16,
     "metadata": {},
     "output_type": "execute_result"
    }
   ],
   "source": [
    "step = 1/6\n",
    "step_by = np.arange(0, (2/3)+step, step)\n",
    "step_by = step_by[step_by>=(1/6)]\n",
    "step_by"
   ]
  },
  {
   "cell_type": "code",
   "execution_count": 12,
   "metadata": {},
   "outputs": [
    {
     "data": {
      "text/plain": [
       "['30of30',\n",
       " '2of10',\n",
       " '3of10',\n",
       " '5of10',\n",
       " '7of10',\n",
       " '2of12',\n",
       " '4of12',\n",
       " '6of12',\n",
       " '8of12',\n",
       " '2of15',\n",
       " '5of15',\n",
       " '8of15',\n",
       " '10of15',\n",
       " '3of18',\n",
       " '6of18',\n",
       " '9of18',\n",
       " '12of18',\n",
       " '4of24',\n",
       " '8of24',\n",
       " '12of24',\n",
       " '16of24',\n",
       " '5of30',\n",
       " '10of30',\n",
       " '15of30',\n",
       " '20of30']"
      ]
     },
     "execution_count": 12,
     "metadata": {},
     "output_type": "execute_result"
    }
   ],
   "source": [
    "cycle_lengths = fact_\n",
    "percent_ons = step_by\n",
    "data_params = dict()\n",
    "data_params[\"cycle_lengths\"] = cycle_lengths\n",
    "data_params[\"percent_ons\"] = percent_ons\n",
    "dc_tags = ss.get_list_of_dc_tags(cycle_lengths, percent_ons)\n",
    "dc_tags"
   ]
  },
  {
   "cell_type": "code",
   "execution_count": 13,
   "metadata": {},
   "outputs": [
    {
     "name": "stdout",
     "output_type": "stream",
     "text": [
      "Carp LF\n"
     ]
    },
    {
     "name": "stderr",
     "output_type": "stream",
     "text": [
      "100%|██████████| 24/24 [05:28<00:00, 13.67s/it]\n"
     ]
    },
    {
     "name": "stdout",
     "output_type": "stream",
     "text": [
      "Carp HF\n"
     ]
    },
    {
     "name": "stderr",
     "output_type": "stream",
     "text": [
      "100%|██████████| 24/24 [01:27<00:00,  3.66s/it]\n"
     ]
    },
    {
     "name": "stdout",
     "output_type": "stream",
     "text": [
      "Telephone LF\n"
     ]
    },
    {
     "name": "stderr",
     "output_type": "stream",
     "text": [
      "100%|██████████| 24/24 [00:29<00:00,  1.21s/it]\n"
     ]
    },
    {
     "name": "stdout",
     "output_type": "stream",
     "text": [
      "Telephone HF\n"
     ]
    },
    {
     "name": "stderr",
     "output_type": "stream",
     "text": [
      "100%|██████████| 24/24 [04:56<00:00, 12.37s/it]\n"
     ]
    }
   ],
   "source": [
    "site_keys = ['Carp', 'Telephone']\n",
    "type_keys = ['LF', 'HF']\n",
    "data_params[\"dc_tags\"] = dc_tags\n",
    "data_params['cur_dc_tag'] = '30of30'\n",
    "data_params['metric_tag'] = 'bout_time_percentage'\n",
    "data_params['recording_start'] = '00:00'\n",
    "data_params['recording_end'] = '16:00'\n",
    "\n",
    "for site_key in site_keys:\n",
    "    for type_key in type_keys:\n",
    "        print(site_key, type_key)\n",
    "        data_params[\"site_tag\"] = site_key\n",
    "        data_params[\"site_name\"] = SITE_NAMES[site_key]\n",
    "        data_params[\"type_tag\"] = type_key\n",
    "        file_paths = get_file_paths(data_params)\n",
    "\n",
    "        activity_arr, btp_arr = comp.generate_activity_btp_for_dc_schemes_and_cont(data_params, file_paths, save=True)"
   ]
  },
  {
   "cell_type": "code",
   "execution_count": 14,
   "metadata": {},
   "outputs": [
    {
     "name": "stdout",
     "output_type": "stream",
     "text": [
      "Carp LF\n"
     ]
    },
    {
     "name": "stderr",
     "output_type": "stream",
     "text": [
      "100%|██████████| 24/24 [01:27<00:00,  3.65s/it]\n"
     ]
    },
    {
     "name": "stdout",
     "output_type": "stream",
     "text": [
      "Carp HF\n"
     ]
    },
    {
     "name": "stderr",
     "output_type": "stream",
     "text": [
      "100%|██████████| 24/24 [00:28<00:00,  1.19s/it]\n"
     ]
    },
    {
     "name": "stdout",
     "output_type": "stream",
     "text": [
      "Telephone LF\n"
     ]
    },
    {
     "name": "stderr",
     "output_type": "stream",
     "text": [
      "100%|██████████| 24/24 [00:18<00:00,  1.27it/s]\n"
     ]
    },
    {
     "name": "stdout",
     "output_type": "stream",
     "text": [
      "Telephone HF\n"
     ]
    },
    {
     "name": "stderr",
     "output_type": "stream",
     "text": [
      "100%|██████████| 24/24 [01:32<00:00,  3.83s/it]\n"
     ]
    }
   ],
   "source": [
    "site_keys = ['Carp', 'Telephone']\n",
    "type_keys = ['LF', 'HF']\n",
    "data_params[\"dc_tags\"] = dc_tags\n",
    "data_params['cur_dc_tag'] = '30of30'\n",
    "data_params['metric_tag'] = 'call_rate'\n",
    "data_params['recording_start'] = '00:00'\n",
    "data_params['recording_end'] = '16:00'\n",
    "\n",
    "for site_key in site_keys:\n",
    "    for type_key in type_keys:\n",
    "        print(site_key, type_key)\n",
    "        data_params[\"site_tag\"] = site_key\n",
    "        data_params[\"site_name\"] = SITE_NAMES[site_key]\n",
    "        data_params[\"type_tag\"] = type_key\n",
    "        file_paths = get_file_paths(data_params)\n",
    "\n",
    "        activity_arr, callrate_arr = comp.generate_activity_call_rate_for_dc_schemes_and_cont(data_params, file_paths, save=True)"
   ]
  },
  {
   "cell_type": "code",
   "execution_count": 15,
   "metadata": {},
   "outputs": [
    {
     "name": "stdout",
     "output_type": "stream",
     "text": [
      "Carp LF\n"
     ]
    },
    {
     "name": "stderr",
     "output_type": "stream",
     "text": [
      "100%|██████████| 24/24 [01:29<00:00,  3.71s/it]\n"
     ]
    },
    {
     "name": "stdout",
     "output_type": "stream",
     "text": [
      "Carp HF\n"
     ]
    },
    {
     "name": "stderr",
     "output_type": "stream",
     "text": [
      "100%|██████████| 24/24 [00:29<00:00,  1.24s/it]\n"
     ]
    },
    {
     "name": "stdout",
     "output_type": "stream",
     "text": [
      "Telephone LF\n"
     ]
    },
    {
     "name": "stderr",
     "output_type": "stream",
     "text": [
      "100%|██████████| 24/24 [00:20<00:00,  1.19it/s]\n"
     ]
    },
    {
     "name": "stdout",
     "output_type": "stream",
     "text": [
      "Telephone HF\n"
     ]
    },
    {
     "name": "stderr",
     "output_type": "stream",
     "text": [
      "100%|██████████| 24/24 [01:33<00:00,  3.90s/it]\n"
     ]
    }
   ],
   "source": [
    "site_keys = ['Carp', 'Telephone']\n",
    "type_keys = ['LF', 'HF']\n",
    "data_params[\"dc_tags\"] = dc_tags\n",
    "data_params['cur_dc_tag'] = '30of30'\n",
    "data_params['metric_tag'] = 'activity_index'\n",
    "data_params['index_time_block_in_secs'] = 5\n",
    "data_params['recording_start'] = '00:00'\n",
    "data_params['recording_end'] = '16:00'\n",
    "\n",
    "for site_key in site_keys:\n",
    "    for type_key in type_keys:\n",
    "        print(site_key, type_key)\n",
    "        data_params[\"site_tag\"] = site_key\n",
    "        data_params[\"site_name\"] = SITE_NAMES[site_key]\n",
    "        data_params[\"type_tag\"] = type_key\n",
    "        file_paths = get_file_paths(data_params)\n",
    "\n",
    "        activity_arr, actvtind_arr = comp.generate_activity_index_percent_for_dc_schemes_and_cont(data_params, file_paths, save=True)"
   ]
  }
 ],
 "metadata": {
  "kernelspec": {
   "display_name": "Python 3",
   "language": "python",
   "name": "python3"
  },
  "language_info": {
   "codemirror_mode": {
    "name": "ipython",
    "version": 3
   },
   "file_extension": ".py",
   "mimetype": "text/x-python",
   "name": "python",
   "nbconvert_exporter": "python",
   "pygments_lexer": "ipython3",
   "version": "3.11.4"
  }
 },
 "nbformat": 4,
 "nbformat_minor": 2
}
