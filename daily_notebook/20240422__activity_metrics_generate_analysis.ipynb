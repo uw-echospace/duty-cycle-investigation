{
 "cells": [
  {
   "cell_type": "code",
   "execution_count": 2,
   "metadata": {},
   "outputs": [],
   "source": [
    "import numpy as np\n",
    "import pandas as pd\n",
    "import scipy\n",
    "from scipy import stats\n",
    "import suncalc\n",
    "\n",
    "import dask.dataframe as dd\n",
    "from pathlib import Path\n",
    "from tqdm import tqdm\n",
    "import re\n",
    "\n",
    "import datetime as dt\n",
    "\n",
    "import matplotlib.pyplot as plt\n",
    "from matplotlib import colors\n",
    "import soundfile as sf\n",
    "import matplotlib.patches as patches"
   ]
  },
  {
   "cell_type": "code",
   "execution_count": 3,
   "metadata": {},
   "outputs": [],
   "source": [
    "import sys\n",
    "\n",
    "sys.path.append(\"../src\")\n",
    "sys.path.append(\"../src/activity\")"
   ]
  },
  {
   "cell_type": "code",
   "execution_count": 4,
   "metadata": {},
   "outputs": [],
   "source": [
    "import subsampling as ss\n",
    "import activity_assembly as actvt\n",
    "import bout.assembly as bt\n",
    "import comparison.data_assembly as comp\n",
    "import comparison.plot as complot\n",
    "from core import SITE_NAMES\n",
    "\n",
    "from cli import get_file_paths\n",
    "import plot\n",
    "import pipeline"
   ]
  },
  {
   "cell_type": "code",
   "execution_count": 20,
   "metadata": {},
   "outputs": [],
   "source": [
    "avail = np.arange(0, 120, 2) + 2\n",
    "reset_3 = avail[np.where((3*60 % avail) == 0)[0]]\n",
    "reset_4 = avail[np.where((4*60 % avail) == 0)[0]]\n",
    "reset_6 = avail[np.where((6*60 % avail) == 0)[0]]\n",
    "reset_12 = avail[np.where((12*60 % avail) == 0)[0]]\n",
    "reset_24 = avail[np.where((24*60 % avail) == 0)[0]]"
   ]
  },
  {
   "cell_type": "code",
   "execution_count": 5,
   "metadata": {},
   "outputs": [
    {
     "data": {
      "text/plain": [
       "array([ 6, 12, 18, 30, 36, 60, 90])"
      ]
     },
     "execution_count": 5,
     "metadata": {},
     "output_type": "execute_result"
    }
   ],
   "source": [
    "reset_3"
   ]
  },
  {
   "cell_type": "code",
   "execution_count": 6,
   "metadata": {},
   "outputs": [
    {
     "data": {
      "text/plain": [
       "array([  6,  12,  24,  30,  48,  60, 120])"
      ]
     },
     "execution_count": 6,
     "metadata": {},
     "output_type": "execute_result"
    }
   ],
   "source": [
    "reset_4"
   ]
  },
  {
   "cell_type": "code",
   "execution_count": 7,
   "metadata": {},
   "outputs": [
    {
     "data": {
      "text/plain": [
       "array([  6,  12,  18,  24,  30,  36,  60,  72,  90, 120])"
      ]
     },
     "execution_count": 7,
     "metadata": {},
     "output_type": "execute_result"
    }
   ],
   "source": [
    "reset_6"
   ]
  },
  {
   "cell_type": "code",
   "execution_count": 8,
   "metadata": {},
   "outputs": [
    {
     "data": {
      "text/plain": [
       "array([  6,  12,  18,  24,  30,  36,  48,  60,  72,  90, 120])"
      ]
     },
     "execution_count": 8,
     "metadata": {},
     "output_type": "execute_result"
    }
   ],
   "source": [
    "reset_12"
   ]
  },
  {
   "cell_type": "code",
   "execution_count": 9,
   "metadata": {},
   "outputs": [
    {
     "data": {
      "text/plain": [
       "array([  6,  12,  18,  24,  30,  36,  48,  60,  72,  90,  96, 120])"
      ]
     },
     "execution_count": 9,
     "metadata": {},
     "output_type": "execute_result"
    }
   ],
   "source": [
    "reset_24"
   ]
  },
  {
   "cell_type": "code",
   "execution_count": 21,
   "metadata": {},
   "outputs": [
    {
     "data": {
      "text/plain": [
       "array([  6,  12,  18,  24,  30,  36,  48,  60,  72,  90, 120])"
      ]
     },
     "execution_count": 21,
     "metadata": {},
     "output_type": "execute_result"
    }
   ],
   "source": [
    "f = 6\n",
    "fact_ = reset_12[np.where((reset_12%f) == 0)[0]]\n",
    "fact_"
   ]
  },
  {
   "cell_type": "code",
   "execution_count": 23,
   "metadata": {},
   "outputs": [
    {
     "data": {
      "text/plain": [
       "array([0.16666667, 0.33333333, 0.5       , 0.66666667])"
      ]
     },
     "execution_count": 23,
     "metadata": {},
     "output_type": "execute_result"
    }
   ],
   "source": [
    "step = 1/6\n",
    "step_by = np.arange(0, (2/3)+step, step)\n",
    "step_by = step_by[step_by>=(1/6)]\n",
    "step_by"
   ]
  },
  {
   "cell_type": "code",
   "execution_count": 8,
   "metadata": {},
   "outputs": [
    {
     "data": {
      "text/plain": [
       "['30of30',\n",
       " '1of6',\n",
       " '2of6',\n",
       " '2of6',\n",
       " '2of6',\n",
       " '3of6',\n",
       " '3of6',\n",
       " '4of6',\n",
       " '2of12',\n",
       " '3of12',\n",
       " '4of12',\n",
       " '5of12',\n",
       " '6of12',\n",
       " '7of12',\n",
       " '8of12',\n",
       " '3of18',\n",
       " '4of18',\n",
       " '6of18',\n",
       " '7of18',\n",
       " '9of18',\n",
       " '10of18',\n",
       " '12of18',\n",
       " '4of24',\n",
       " '6of24',\n",
       " '8of24',\n",
       " '10of24',\n",
       " '12of24',\n",
       " '14of24',\n",
       " '16of24',\n",
       " '5of30',\n",
       " '8of30',\n",
       " '10of30',\n",
       " '12of30',\n",
       " '15of30',\n",
       " '17of30',\n",
       " '20of30',\n",
       " '6of36',\n",
       " '9of36',\n",
       " '12of36',\n",
       " '15of36',\n",
       " '18of36',\n",
       " '21of36',\n",
       " '24of36',\n",
       " '8of48',\n",
       " '12of48',\n",
       " '16of48',\n",
       " '20of48',\n",
       " '24of48',\n",
       " '28of48',\n",
       " '32of48',\n",
       " '10of60',\n",
       " '15of60',\n",
       " '20of60',\n",
       " '25of60',\n",
       " '30of60',\n",
       " '35of60',\n",
       " '40of60',\n",
       " '12of72',\n",
       " '18of72',\n",
       " '24of72',\n",
       " '30of72',\n",
       " '36of72',\n",
       " '42of72',\n",
       " '48of72',\n",
       " '15of90',\n",
       " '22of90',\n",
       " '30of90',\n",
       " '38of90',\n",
       " '45of90',\n",
       " '52of90',\n",
       " '60of90',\n",
       " '20of120',\n",
       " '30of120',\n",
       " '40of120',\n",
       " '50of120',\n",
       " '60of120',\n",
       " '70of120',\n",
       " '80of120']"
      ]
     },
     "execution_count": 8,
     "metadata": {},
     "output_type": "execute_result"
    }
   ],
   "source": [
    "cycle_lengths = fact_\n",
    "percent_ons = step_by\n",
    "data_params = dict()\n",
    "data_params[\"cycle_lengths\"] = cycle_lengths\n",
    "data_params[\"percent_ons\"] = percent_ons\n",
    "dc_tags = ss.get_list_of_dc_tags(cycle_lengths, percent_ons)\n",
    "dc_tags"
   ]
  },
  {
   "cell_type": "code",
   "execution_count": 13,
   "metadata": {},
   "outputs": [
    {
     "name": "stdout",
     "output_type": "stream",
     "text": [
      "Carp LF\n"
     ]
    },
    {
     "name": "stderr",
     "output_type": "stream",
     "text": [
      "100%|██████████| 44/44 [08:55<00:00, 12.18s/it]\n"
     ]
    },
    {
     "name": "stdout",
     "output_type": "stream",
     "text": [
      "Carp HF\n"
     ]
    },
    {
     "name": "stderr",
     "output_type": "stream",
     "text": [
      "100%|██████████| 44/44 [02:24<00:00,  3.28s/it]\n"
     ]
    },
    {
     "name": "stdout",
     "output_type": "stream",
     "text": [
      "Telephone LF\n"
     ]
    },
    {
     "name": "stderr",
     "output_type": "stream",
     "text": [
      "100%|██████████| 44/44 [00:43<00:00,  1.01it/s]\n"
     ]
    },
    {
     "name": "stdout",
     "output_type": "stream",
     "text": [
      "Telephone HF\n"
     ]
    },
    {
     "name": "stderr",
     "output_type": "stream",
     "text": [
      "100%|██████████| 44/44 [08:43<00:00, 11.89s/it]\n"
     ]
    }
   ],
   "source": [
    "site_keys = ['Carp', 'Telephone']\n",
    "type_keys = ['LF', 'HF']\n",
    "data_params[\"dc_tags\"] = dc_tags\n",
    "data_params['cur_dc_tag'] = '30of30'\n",
    "data_params['metric_tag'] = 'bout_time_percentage'\n",
    "data_params['recording_start'] = '00:00'\n",
    "data_params['recording_end'] = '16:00'\n",
    "\n",
    "for site_key in site_keys:\n",
    "    for type_key in type_keys:\n",
    "        print(site_key, type_key)\n",
    "        data_params[\"site_tag\"] = site_key\n",
    "        data_params[\"site_name\"] = SITE_NAMES[site_key]\n",
    "        data_params[\"type_tag\"] = type_key\n",
    "        file_paths = get_file_paths(data_params)\n",
    "\n",
    "        activity_arr, btp_arr = comp.generate_activity_btp_for_dc_schemes_and_cont(data_params, file_paths, save=True)"
   ]
  },
  {
   "cell_type": "code",
   "execution_count": 14,
   "metadata": {},
   "outputs": [
    {
     "name": "stdout",
     "output_type": "stream",
     "text": [
      "Carp LF\n"
     ]
    },
    {
     "name": "stderr",
     "output_type": "stream",
     "text": [
      "100%|██████████| 44/44 [5:56:19<00:00, 485.91s/it]   \n"
     ]
    },
    {
     "name": "stdout",
     "output_type": "stream",
     "text": [
      "Carp HF\n"
     ]
    },
    {
     "name": "stderr",
     "output_type": "stream",
     "text": [
      "100%|██████████| 44/44 [1:26:07<00:00, 117.44s/it]  \n"
     ]
    },
    {
     "name": "stdout",
     "output_type": "stream",
     "text": [
      "Telephone LF\n"
     ]
    },
    {
     "name": "stderr",
     "output_type": "stream",
     "text": [
      "100%|██████████| 44/44 [1:47:08<00:00, 146.11s/it]    \n"
     ]
    },
    {
     "name": "stdout",
     "output_type": "stream",
     "text": [
      "Telephone HF\n"
     ]
    },
    {
     "name": "stderr",
     "output_type": "stream",
     "text": [
      "100%|██████████| 44/44 [1:44:54<00:00, 143.07s/it]  \n"
     ]
    }
   ],
   "source": [
    "site_keys = ['Carp', 'Telephone']\n",
    "type_keys = ['LF', 'HF']\n",
    "data_params[\"dc_tags\"] = dc_tags\n",
    "data_params['cur_dc_tag'] = '30of30'\n",
    "data_params['metric_tag'] = 'call_rate'\n",
    "data_params['recording_start'] = '00:00'\n",
    "data_params['recording_end'] = '16:00'\n",
    "\n",
    "for site_key in site_keys:\n",
    "    for type_key in type_keys:\n",
    "        print(site_key, type_key)\n",
    "        data_params[\"site_tag\"] = site_key\n",
    "        data_params[\"site_name\"] = SITE_NAMES[site_key]\n",
    "        data_params[\"type_tag\"] = type_key\n",
    "        file_paths = get_file_paths(data_params)\n",
    "\n",
    "        activity_arr, callrate_arr = comp.generate_activity_call_rate_for_dc_schemes_and_cont(data_params, file_paths, save=True)"
   ]
  },
  {
   "cell_type": "code",
   "execution_count": 15,
   "metadata": {},
   "outputs": [
    {
     "name": "stdout",
     "output_type": "stream",
     "text": [
      "Carp LF\n"
     ]
    },
    {
     "name": "stderr",
     "output_type": "stream",
     "text": [
      "100%|██████████| 44/44 [02:39<00:00,  3.62s/it]\n"
     ]
    },
    {
     "name": "stdout",
     "output_type": "stream",
     "text": [
      "Carp HF\n"
     ]
    },
    {
     "name": "stderr",
     "output_type": "stream",
     "text": [
      "100%|██████████| 44/44 [00:43<00:00,  1.01it/s]\n"
     ]
    },
    {
     "name": "stdout",
     "output_type": "stream",
     "text": [
      "Telephone LF\n"
     ]
    },
    {
     "name": "stderr",
     "output_type": "stream",
     "text": [
      "100%|██████████| 44/44 [00:26<00:00,  1.67it/s]\n"
     ]
    },
    {
     "name": "stdout",
     "output_type": "stream",
     "text": [
      "Telephone HF\n"
     ]
    },
    {
     "name": "stderr",
     "output_type": "stream",
     "text": [
      "100%|██████████| 44/44 [02:52<00:00,  3.92s/it]\n"
     ]
    }
   ],
   "source": [
    "site_keys = ['Carp', 'Telephone']\n",
    "type_keys = ['LF', 'HF']\n",
    "data_params[\"dc_tags\"] = dc_tags\n",
    "data_params['cur_dc_tag'] = '30of30'\n",
    "data_params['metric_tag'] = 'activity_index'\n",
    "data_params['index_time_block_in_secs'] = 5\n",
    "data_params['recording_start'] = '00:00'\n",
    "data_params['recording_end'] = '16:00'\n",
    "\n",
    "for site_key in site_keys:\n",
    "    for type_key in type_keys:\n",
    "        print(site_key, type_key)\n",
    "        data_params[\"site_tag\"] = site_key\n",
    "        data_params[\"site_name\"] = SITE_NAMES[site_key]\n",
    "        data_params[\"type_tag\"] = type_key\n",
    "        file_paths = get_file_paths(data_params)\n",
    "\n",
    "        activity_arr, actvtind_arr = comp.generate_activity_index_percent_for_dc_schemes_and_cont(data_params, file_paths, save=True)"
   ]
  }
 ],
 "metadata": {
  "kernelspec": {
   "display_name": "Python 3",
   "language": "python",
   "name": "python3"
  },
  "language_info": {
   "codemirror_mode": {
    "name": "ipython",
    "version": 3
   },
   "file_extension": ".py",
   "mimetype": "text/x-python",
   "name": "python",
   "nbconvert_exporter": "python",
   "pygments_lexer": "ipython3",
   "version": "3.11.4"
  }
 },
 "nbformat": 4,
 "nbformat_minor": 2
}
