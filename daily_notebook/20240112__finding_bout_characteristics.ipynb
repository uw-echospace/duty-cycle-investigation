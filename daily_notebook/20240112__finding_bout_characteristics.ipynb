{
 "cells": [
  {
   "cell_type": "code",
   "execution_count": 1,
   "metadata": {},
   "outputs": [],
   "source": [
    "import numpy as np\n",
    "import pandas as pd\n",
    "import scipy\n",
    "from scipy import stats\n",
    "import datetime as dt\n",
    "\n",
    "import matplotlib.pyplot as plt\n",
    "from matplotlib import colors\n",
    "import soundfile as sf\n",
    "import matplotlib.patches as patches\n",
    "from pathlib import Path\n",
    "\n",
    "import dask.dataframe as dd"
   ]
  },
  {
   "cell_type": "code",
   "execution_count": 2,
   "metadata": {},
   "outputs": [
    {
     "name": "stdout",
     "output_type": "stream",
     "text": [
      "['/Users/adityakrishna/duty-cycle-investigation/daily_notebook', '/Users/adityakrishna/miniconda3/envs/dc-study/lib/python311.zip', '/Users/adityakrishna/miniconda3/envs/dc-study/lib/python3.11', '/Users/adityakrishna/miniconda3/envs/dc-study/lib/python3.11/lib-dynload', '', '/Users/adityakrishna/miniconda3/envs/dc-study/lib/python3.11/site-packages', '../src']\n"
     ]
    }
   ],
   "source": [
    "import sys\n",
    "\n",
    "sys.path.append(\"../src\")\n",
    "print(sys.path)"
   ]
  },
  {
   "cell_type": "code",
   "execution_count": 3,
   "metadata": {},
   "outputs": [],
   "source": [
    "from core import SITE_NAMES, DC_COLOR_MAPPINGS, FREQ_GROUPS\n",
    "from cli import get_file_paths\n",
    "\n",
    "import clustering as bt_clustering\n",
    "import bout as bt\n",
    "import plot as bt_plt\n",
    "import activity.subsampling as ss\n",
    "import activity.activity_assembly as dh\n",
    "import activity.plot as plotting"
   ]
  },
  {
   "cell_type": "code",
   "execution_count": 4,
   "metadata": {},
   "outputs": [],
   "source": [
    "import pipeline"
   ]
  },
  {
   "cell_type": "code",
   "execution_count": 5,
   "metadata": {},
   "outputs": [],
   "source": [
    "type_key = ''\n",
    "site_key = \"Carp\"\n",
    "# cycle_lengths = [1800, 720, 600, 360, 180, 60, 30, 6]\n",
    "cycle_lengths = [1800, 360]\n",
    "percent_ons = [0.1667]\n",
    "specific_dc_tag = \"1800of1800\""
   ]
  },
  {
   "cell_type": "code",
   "execution_count": 6,
   "metadata": {},
   "outputs": [],
   "source": [
    "fig_details = dict()\n",
    "fig_details['site_name'] = SITE_NAMES[site_key]"
   ]
  },
  {
   "cell_type": "code",
   "execution_count": 7,
   "metadata": {},
   "outputs": [
    {
     "data": {
      "text/plain": [
       "{'assemble_location_summary': True,\n",
       " 'read_csv': False,\n",
       " 'save_activity_grid': True,\n",
       " 'save_presence_grid': True,\n",
       " 'save_dc_night_comparisons': True,\n",
       " 'save_activity_dc_comparisons': True,\n",
       " 'save_presence_dc_comparisons': True,\n",
       " 'show_plots': False,\n",
       " 'show_PST': True}"
      ]
     },
     "execution_count": 7,
     "metadata": {},
     "output_type": "execute_result"
    }
   ],
   "source": [
    "pipeline_params = dict()\n",
    "pipeline_params['assemble_location_summary'] = True\n",
    "pipeline_params[\"read_csv\"] = False\n",
    "pipeline_params[\"save_activity_grid\"] = True\n",
    "pipeline_params[\"save_presence_grid\"] = True\n",
    "pipeline_params[\"save_dc_night_comparisons\"] = True\n",
    "pipeline_params[\"save_activity_dc_comparisons\"] = True\n",
    "pipeline_params[\"save_presence_dc_comparisons\"] = True\n",
    "pipeline_params[\"show_plots\"] = False\n",
    "pipeline_params[\"show_PST\"] = True\n",
    "pipeline_params"
   ]
  },
  {
   "cell_type": "code",
   "execution_count": 8,
   "metadata": {},
   "outputs": [
    {
     "data": {
      "text/plain": [
       "{'site_name': 'Carp Pond',\n",
       " 'site_tag': 'Carp',\n",
       " 'type_tag': '',\n",
       " 'cycle_lengths': [1800, 360],\n",
       " 'percent_ons': [0.1667],\n",
       " 'dc_tags': ['1800of1800', '300of1800', '60of360'],\n",
       " 'cur_dc_tag': '1800of1800',\n",
       " 'resolution_in_min': '30',\n",
       " 'recording_start': '01:00',\n",
       " 'recording_end': '15:00'}"
      ]
     },
     "execution_count": 8,
     "metadata": {},
     "output_type": "execute_result"
    }
   ],
   "source": [
    "data_params = dict()\n",
    "data_params[\"site_name\"] = SITE_NAMES[site_key]\n",
    "data_params[\"site_tag\"] = site_key\n",
    "data_params[\"type_tag\"] = type_key\n",
    "data_params[\"cycle_lengths\"] = cycle_lengths\n",
    "data_params[\"percent_ons\"] = percent_ons\n",
    "dc_tags = ss.get_list_of_dc_tags(data_params[\"cycle_lengths\"], data_params[\"percent_ons\"])\n",
    "data_params[\"dc_tags\"] = dc_tags\n",
    "data_params[\"cur_dc_tag\"] = specific_dc_tag\n",
    "data_params['resolution_in_min'] = '30'\n",
    "data_params['recording_start'] = '01:00'\n",
    "data_params['recording_end'] = '15:00'\n",
    "data_params"
   ]
  },
  {
   "cell_type": "code",
   "execution_count": 9,
   "metadata": {},
   "outputs": [
    {
     "data": {
      "text/plain": [
       "{'raw_SITE_folder': '/Users/adityakrishna/duty-cycle-investigation/src/../data/raw/Carp',\n",
       " 'SITE_folder': '/Users/adityakrishna/duty-cycle-investigation/src/../data/2022_bd2_summary/Carp',\n",
       " 'bd2_TYPE_SITE_YEAR': 'bd2__Carp_2022',\n",
       " 'duty_cycled_folder': '/Users/adityakrishna/duty-cycle-investigation/src/../data/2022_bd2_summary/Carp/duty_cycled',\n",
       " 'dc_dets_TYPE_SITE_summary': 'dc_dets_Carp_summary',\n",
       " 'dc_bouts_TYPE_SITE_summary': 'dc_bouts_Carp_summary',\n",
       " 'dc_inds_TYPE_SITE_summary': 'dc_inds_Carp_summary',\n",
       " 'simulated_schemes_folder': '/Users/adityakrishna/duty-cycle-investigation/src/../data/2022_bd2_summary/Carp/duty_cycled/simulated_schemes',\n",
       " 'figures_SITE_folder': '/Users/adityakrishna/duty-cycle-investigation/src/../figures/Carp',\n",
       " 'activity_det_comparisons_figname': 'activity_det_comparisons_per_dc_Carp',\n",
       " 'dc_det_comparisons_figname': 'dc_det_comparisons_per_night_Carp',\n",
       " 'activity_bout_comparisons_figname': 'activity_bout_comparisons_per_dc_Carp',\n",
       " 'dc_bout_comparisons_figname': 'dc_bout_comparisons_per_night_Carp',\n",
       " 'activity_ind_comparisons_figname': 'activity_ind_comparisons_per_dc_Carp',\n",
       " 'dc_ind_comparisons_figname': 'dc_ind_comparisons_per_night_Carp',\n",
       " 'dc_metric_comparisons_figname': 'metric_comparisons_per_night_Carp',\n",
       " 'presence_comparisons_figname': 'presence_comparisons_per_dc_Carp',\n",
       " 'activity_grid_folder': '/Users/adityakrishna/duty-cycle-investigation/src/../figures/Carp/activity_grids',\n",
       " 'activity_dets_grid_figname': 'Carp_1800of1800_activity_dets_grid',\n",
       " 'activity_bouts_grid_figname': 'Carp_1800of1800_activity_bouts_grid',\n",
       " 'activity_inds_grid_figname': 'Carp_1800of1800_activity_inds_grid',\n",
       " 'presence_grid_folder': '/Users/adityakrishna/duty-cycle-investigation/src/../figures/Carp/presence_grids',\n",
       " 'presence_grid_figname': 'Carp_1800of1800_presence_grid'}"
      ]
     },
     "execution_count": 9,
     "metadata": {},
     "output_type": "execute_result"
    }
   ],
   "source": [
    "file_paths = get_file_paths(data_params)\n",
    "file_paths"
   ]
  },
  {
   "cell_type": "code",
   "execution_count": 28,
   "metadata": {},
   "outputs": [
    {
     "name": "stdout",
     "output_type": "stream",
     "text": [
      "Carp\n"
     ]
    }
   ],
   "source": [
    "dc_tag = data_params['cur_dc_tag']\n",
    "\n",
    "lf1_means = []\n",
    "hf1_means = []\n",
    "hf2_means = []\n",
    "# for site_key in SITE_NAMES.keys():\n",
    "site_key = 'Carp'\n",
    "print(site_key)\n",
    "data_params[\"site_name\"] = SITE_NAMES[site_key]\n",
    "data_params[\"site_tag\"] = site_key\n",
    "file_paths = get_file_paths(data_params)\n",
    "if (Path(f'{file_paths[\"SITE_folder\"]}/{file_paths[\"bd2_TYPE_SITE_YEAR\"]}.csv').is_file()):\n",
    "    location_df = ss.prepare_summary_for_plotting_with_duty_cycle(file_paths, dc_tag)\n",
    "    bout_metrics = bt.generate_bout_metrics_for_location_and_freq(location_df, data_params, dc_tag)\n",
    "    lf1_means.append(bout_metrics[bout_metrics['freq_group']=='LF1'].bout_duration.mean())\n",
    "    hf1_means.append(bout_metrics[bout_metrics['freq_group']=='HF1'].bout_duration.mean())\n",
    "    hf2_means.append(bout_metrics[bout_metrics['freq_group']=='HF2'].bout_duration.mean())"
   ]
  },
  {
   "cell_type": "code",
   "execution_count": 26,
   "metadata": {},
   "outputs": [
    {
     "name": "stdout",
     "output_type": "stream",
     "text": [
      "0\n",
      "1\n",
      "2\n",
      "3\n"
     ]
    }
   ],
   "source": [
    "location_means = dict()\n",
    "for i, site_key in enumerate(list(SITE_NAMES.keys())[:4]):\n",
    "    print(i)\n",
    "    group_means = dict()\n",
    "    group_means['LF1'] = lf1_means[i]\n",
    "    group_means['HF1'] = hf1_means[i]\n",
    "    group_means['HF2'] = hf2_means[i]\n",
    "    location_means[site_key] = group_means"
   ]
  },
  {
   "cell_type": "code",
   "execution_count": 27,
   "metadata": {},
   "outputs": [
    {
     "data": {
      "text/plain": [
       "{'Central': {'LF1': Timedelta('0 days 00:00:07.796126540'),\n",
       "  'HF1': Timedelta('0 days 00:00:02.860802097'),\n",
       "  'HF2': Timedelta('0 days 00:00:01.985767506')},\n",
       " 'Foliage': {'LF1': Timedelta('0 days 00:00:04.067990277'),\n",
       "  'HF1': Timedelta('0 days 00:00:02.830471955'),\n",
       "  'HF2': Timedelta('0 days 00:00:02.050604854')},\n",
       " 'Carp': {'LF1': Timedelta('0 days 00:00:10.683502006'),\n",
       "  'HF1': Timedelta('0 days 00:00:02.946942213'),\n",
       "  'HF2': Timedelta('0 days 00:00:01.856083963')},\n",
       " 'Telephone': {'LF1': Timedelta('0 days 00:00:01.548397754'),\n",
       "  'HF1': Timedelta('0 days 00:00:04.687656705'),\n",
       "  'HF2': Timedelta('0 days 00:00:04.570759147')}}"
      ]
     },
     "execution_count": 27,
     "metadata": {},
     "output_type": "execute_result"
    }
   ],
   "source": [
    "location_means"
   ]
  },
  {
   "cell_type": "code",
   "execution_count": 16,
   "metadata": {},
   "outputs": [
    {
     "data": {
      "text/plain": [
       "Timedelta('0 days 00:00:06.024004144')"
      ]
     },
     "execution_count": 16,
     "metadata": {},
     "output_type": "execute_result"
    }
   ],
   "source": [
    "np.array(lf1_means).mean()"
   ]
  },
  {
   "cell_type": "code",
   "execution_count": 17,
   "metadata": {},
   "outputs": [
    {
     "data": {
      "text/plain": [
       "Timedelta('0 days 00:00:03.331468242')"
      ]
     },
     "execution_count": 17,
     "metadata": {},
     "output_type": "execute_result"
    }
   ],
   "source": [
    "np.array(hf1_means).mean()"
   ]
  },
  {
   "cell_type": "code",
   "execution_count": 19,
   "metadata": {},
   "outputs": [
    {
     "data": {
      "text/plain": [
       "Timedelta('0 days 00:00:02.615803867')"
      ]
     },
     "execution_count": 19,
     "metadata": {},
     "output_type": "execute_result"
    }
   ],
   "source": [
    "np.array(hf2_means).mean()"
   ]
  }
 ],
 "metadata": {
  "kernelspec": {
   "display_name": "Python 3",
   "language": "python",
   "name": "python3"
  },
  "language_info": {
   "codemirror_mode": {
    "name": "ipython",
    "version": 3
   },
   "file_extension": ".py",
   "mimetype": "text/x-python",
   "name": "python",
   "nbconvert_exporter": "python",
   "pygments_lexer": "ipython3",
   "version": "3.11.4"
  },
  "orig_nbformat": 4
 },
 "nbformat": 4,
 "nbformat_minor": 2
}
