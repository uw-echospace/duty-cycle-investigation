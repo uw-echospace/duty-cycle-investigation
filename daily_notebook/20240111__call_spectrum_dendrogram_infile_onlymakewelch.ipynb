{
 "cells": [
  {
   "cell_type": "code",
   "execution_count": 1,
   "metadata": {},
   "outputs": [],
   "source": [
    "import numpy as np\n",
    "import pandas as pd\n",
    "import datetime as dt\n",
    "import scipy\n",
    "from pathlib import Path\n",
    "\n",
    "import matplotlib.pyplot as plt\n",
    "from sklearn.cluster import k_means, KMeans\n",
    "from scipy.cluster.hierarchy import dendrogram, linkage\n",
    "import seaborn as sns"
   ]
  },
  {
   "cell_type": "code",
   "execution_count": 2,
   "metadata": {},
   "outputs": [],
   "source": [
    "import sys\n",
    "\n",
    "sys.path.append(\"../src\")"
   ]
  },
  {
   "cell_type": "code",
   "execution_count": 3,
   "metadata": {},
   "outputs": [],
   "source": [
    "from core import SITE_NAMES\n",
    "from calls import plot_call_features, compute_features\n",
    "\n",
    "\n",
    "random_state_for_sites = {'Foliage':50, 'Carp':60, 'Central':100, 'Telephone':300}\n",
    "color_for_groups = {0: 'blue', 1: 'red', 2:'limegreen'}\n",
    "label_for_groups = {0: 'LF1', 1: 'HF1', 2:'HF2'}"
   ]
  },
  {
   "cell_type": "code",
   "execution_count": 4,
   "metadata": {},
   "outputs": [],
   "source": [
    "site_key = 'Carp'\n",
    "input_dir = Path(f'../data/detected_calls/{site_key}')\n",
    "output_dir = Path(f'../data/generated_welch/{site_key}')\n",
    "if not(output_dir.is_dir()):\n",
    "    output_dir.mkdir(parents=True)\n",
    "input_file_type = 'top1_infile_call_signals'\n",
    "output_file_type = 'top1_infile_welch_signals'\n",
    "\n",
    "location_call_signals = np.load(input_dir / f'2022_{site_key}_{input_file_type}.npy', allow_pickle=True)\n",
    "location_calls_sampled = pd.read_csv(input_dir / f'2022_{site_key}_{input_file_type}.csv', index_col=0, low_memory=False)\n",
    "location_calls_sampled['index'] = location_calls_sampled.index\n",
    "\n",
    "welch_signals = compute_features.generate_welchs_for_calls(location_calls_sampled, location_call_signals)\n",
    "welch_data = pd.DataFrame(welch_signals, columns=np.linspace(0, 96000, welch_signals.shape[1]).astype(int))\n",
    "welch_data.index.name = 'Call #'\n",
    "welch_data.columns.name = 'Frequency (kHz)'\n",
    "welch_data.to_csv(output_dir / f'2022_{site_key}_{output_file_type}.csv')"
   ]
  },
  {
   "cell_type": "code",
   "execution_count": 5,
   "metadata": {},
   "outputs": [],
   "source": [
    "site_key = 'Central'\n",
    "input_dir = Path(f'../data/detected_calls/{site_key}')\n",
    "output_dir = Path(f'../data/generated_welch/{site_key}')\n",
    "if not(output_dir.is_dir()):\n",
    "    output_dir.mkdir(parents=True)\n",
    "input_file_type = 'top1_infile_call_signals'\n",
    "output_file_type = 'top1_infile_welch_signals'\n",
    "\n",
    "location_call_signals = np.load(input_dir / f'2022_{site_key}_{input_file_type}.npy', allow_pickle=True)\n",
    "location_calls_sampled = pd.read_csv(input_dir / f'2022_{site_key}_{input_file_type}.csv', index_col=0, low_memory=False)\n",
    "location_calls_sampled['index'] = location_calls_sampled.index\n",
    "\n",
    "welch_signals = compute_features.generate_welchs_for_calls(location_calls_sampled, location_call_signals)\n",
    "welch_data = pd.DataFrame(welch_signals, columns=np.linspace(0, 96000, welch_signals.shape[1]).astype(int))\n",
    "welch_data.index.name = 'Call #'\n",
    "welch_data.columns.name = 'Frequency (kHz)'\n",
    "welch_data.to_csv(output_dir / f'2022_{site_key}_{output_file_type}.csv')"
   ]
  },
  {
   "cell_type": "code",
   "execution_count": 6,
   "metadata": {},
   "outputs": [],
   "source": [
    "site_key = 'Foliage'\n",
    "input_dir = Path(f'../data/detected_calls/{site_key}')\n",
    "output_dir = Path(f'../data/generated_welch/{site_key}')\n",
    "if not(output_dir.is_dir()):\n",
    "    output_dir.mkdir(parents=True)\n",
    "input_file_type = 'top1_infile_call_signals'\n",
    "output_file_type = 'top1_infile_welch_signals'\n",
    "\n",
    "location_call_signals = np.load(input_dir / f'2022_{site_key}_{input_file_type}.npy', allow_pickle=True)\n",
    "location_calls_sampled = pd.read_csv(input_dir / f'2022_{site_key}_{input_file_type}.csv', index_col=0, low_memory=False)\n",
    "location_calls_sampled['index'] = location_calls_sampled.index\n",
    "\n",
    "welch_signals = compute_features.generate_welchs_for_calls(location_calls_sampled, location_call_signals)\n",
    "welch_data = pd.DataFrame(welch_signals, columns=np.linspace(0, 96000, welch_signals.shape[1]).astype(int))\n",
    "welch_data.index.name = 'Call #'\n",
    "welch_data.columns.name = 'Frequency (kHz)'\n",
    "welch_data.to_csv(output_dir / f'2022_{site_key}_{output_file_type}.csv')"
   ]
  },
  {
   "cell_type": "code",
   "execution_count": 7,
   "metadata": {},
   "outputs": [],
   "source": [
    "site_key = 'Telephone'\n",
    "input_dir = Path(f'../data/detected_calls/{site_key}')\n",
    "output_dir = Path(f'../data/generated_welch/{site_key}')\n",
    "if not(output_dir.is_dir()):\n",
    "    output_dir.mkdir(parents=True)\n",
    "input_file_type = 'top1_infile_call_signals'\n",
    "output_file_type = 'top1_infile_welch_signals'\n",
    "\n",
    "location_call_signals = np.load(input_dir / f'2022_{site_key}_{input_file_type}.npy', allow_pickle=True)\n",
    "location_calls_sampled = pd.read_csv(input_dir / f'2022_{site_key}_{input_file_type}.csv', index_col=0, low_memory=False)\n",
    "location_calls_sampled['index'] = location_calls_sampled.index\n",
    "\n",
    "welch_signals = compute_features.generate_welchs_for_calls(location_calls_sampled, location_call_signals)\n",
    "welch_data = pd.DataFrame(welch_signals, columns=np.linspace(0, 96000, welch_signals.shape[1]).astype(int))\n",
    "welch_data.index.name = 'Call #'\n",
    "welch_data.columns.name = 'Frequency (kHz)'\n",
    "welch_data.to_csv(output_dir / f'2022_{site_key}_{output_file_type}.csv')"
   ]
  },
  {
   "cell_type": "code",
   "execution_count": 8,
   "metadata": {},
   "outputs": [
    {
     "name": "stdout",
     "output_type": "stream",
     "text": [
      "Central\n",
      "Foliage\n",
      "Carp\n",
      "Telephone\n"
     ]
    }
   ],
   "source": [
    "save_site = 'all_locations'\n",
    "output_dir = Path(f'../data/generated_welch/{save_site}')\n",
    "if not(output_dir.is_dir()):\n",
    "    output_dir.mkdir(parents=True)\n",
    "output_file_type = 'top1_infile_welch_signals'\n",
    "\n",
    "all_sites_welch_signals = []\n",
    "for site_key in SITE_NAMES.keys():\n",
    "    input_dir = Path(f'../data/detected_calls/{site_key}')\n",
    "    input_file_type = 'top1_infile_call_signals'\n",
    "    if (input_dir / f'2022_{site_key}_{input_file_type}.npy').exists():\n",
    "        print(site_key)\n",
    "        location_call_signals = np.load(input_dir / f'2022_{site_key}_{input_file_type}.npy', allow_pickle=True)\n",
    "        location_calls_sampled = pd.read_csv(input_dir / f'2022_{site_key}_{input_file_type}.csv', index_col=0, low_memory=False)\n",
    "        location_calls_sampled['index'] = location_calls_sampled.index\n",
    "\n",
    "        welch_signals = compute_features.generate_welchs_for_calls(location_calls_sampled, location_call_signals)\n",
    "        all_sites_welch_signals.append(welch_signals)\n",
    "\n",
    "all_sites_welch_signals = np.vstack(all_sites_welch_signals)\n",
    "welch_data = pd.DataFrame(all_sites_welch_signals, columns=np.linspace(0, 96000, all_sites_welch_signals.shape[1]).astype(int))\n",
    "welch_data.index.name = 'Call #'\n",
    "welch_data.columns.name = 'Frequency (kHz)'\n",
    "welch_data.to_csv(output_dir / f'2022_{save_site}_{output_file_type}.csv')"
   ]
  },
  {
   "cell_type": "code",
   "execution_count": 9,
   "metadata": {},
   "outputs": [
    {
     "name": "stdout",
     "output_type": "stream",
     "text": [
      "Central\n",
      "Carp\n"
     ]
    }
   ],
   "source": [
    "save_site = 'only_ponds'\n",
    "output_dir = Path(f'../data/generated_welch/{save_site}')\n",
    "if not(output_dir.is_dir()):\n",
    "    output_dir.mkdir(parents=True)\n",
    "output_file_type = 'top1_infile_welch_signals'\n",
    "\n",
    "all_sites_welch_signals = []\n",
    "for site_key in SITE_NAMES.keys():\n",
    "    input_dir = Path(f'../data/detected_calls/{site_key}')\n",
    "    input_file_type = 'top1_infile_call_signals'\n",
    "    if (input_dir / f'2022_{site_key}_{input_file_type}.npy').exists() and 'Pond' in SITE_NAMES[site_key]:\n",
    "        print(site_key)\n",
    "        location_call_signals = np.load(input_dir / f'2022_{site_key}_{input_file_type}.npy', allow_pickle=True)\n",
    "        location_calls_sampled = pd.read_csv(input_dir / f'2022_{site_key}_{input_file_type}.csv', index_col=0, low_memory=False)\n",
    "        location_calls_sampled['index'] = location_calls_sampled.index\n",
    "\n",
    "        welch_signals = compute_features.generate_welchs_for_calls(location_calls_sampled, location_call_signals)\n",
    "        all_sites_welch_signals.append(welch_signals)\n",
    "\n",
    "all_sites_welch_signals = np.vstack(all_sites_welch_signals)\n",
    "welch_data = pd.DataFrame(all_sites_welch_signals, columns=np.linspace(0, 96000, all_sites_welch_signals.shape[1]).astype(int))\n",
    "welch_data.index.name = 'Call #'\n",
    "welch_data.columns.name = 'Frequency (kHz)'\n",
    "welch_data.to_csv(output_dir / f'2022_{save_site}_{output_file_type}.csv')"
   ]
  },
  {
   "cell_type": "code",
   "execution_count": 10,
   "metadata": {},
   "outputs": [
    {
     "name": "stdout",
     "output_type": "stream",
     "text": [
      "Central\n",
      "Carp\n"
     ]
    }
   ],
   "source": [
    "save_site = 'only_forests'\n",
    "output_dir = Path(f'../data/generated_welch/{save_site}')\n",
    "if not(output_dir.is_dir()):\n",
    "    output_dir.mkdir(parents=True)\n",
    "output_file_type = 'top1_infile_welch_signals'\n",
    "\n",
    "all_sites_welch_signals = []\n",
    "for site_key in SITE_NAMES.keys():\n",
    "    input_dir = Path(f'../data/detected_calls/{site_key}')\n",
    "    input_file_type = 'top1_infile_call_signals'\n",
    "    if (input_dir / f'2022_{site_key}_{input_file_type}.npy').exists() and 'Pond' in SITE_NAMES[site_key]:\n",
    "        print(site_key)\n",
    "        location_call_signals = np.load(input_dir / f'2022_{site_key}_{input_file_type}.npy', allow_pickle=True)\n",
    "        location_calls_sampled = pd.read_csv(input_dir / f'2022_{site_key}_{input_file_type}.csv', index_col=0, low_memory=False)\n",
    "        location_calls_sampled['index'] = location_calls_sampled.index\n",
    "\n",
    "        welch_signals = compute_features.generate_welchs_for_calls(location_calls_sampled, location_call_signals)\n",
    "        all_sites_welch_signals.append(welch_signals)\n",
    "\n",
    "all_sites_welch_signals = np.vstack(all_sites_welch_signals)\n",
    "welch_data = pd.DataFrame(all_sites_welch_signals, columns=np.linspace(0, 96000, all_sites_welch_signals.shape[1]).astype(int))\n",
    "welch_data.index.name = 'Call #'\n",
    "welch_data.columns.name = 'Frequency (kHz)'\n",
    "welch_data.to_csv(output_dir / f'2022_{save_site}_{output_file_type}.csv')"
   ]
  }
 ],
 "metadata": {
  "kernelspec": {
   "display_name": "Python 3",
   "language": "python",
   "name": "python3"
  },
  "language_info": {
   "codemirror_mode": {
    "name": "ipython",
    "version": 3
   },
   "file_extension": ".py",
   "mimetype": "text/x-python",
   "name": "python",
   "nbconvert_exporter": "python",
   "pygments_lexer": "ipython3",
   "version": "3.11.4"
  },
  "orig_nbformat": 4
 },
 "nbformat": 4,
 "nbformat_minor": 2
}
