{
 "cells": [
  {
   "cell_type": "markdown",
   "metadata": {},
   "source": [
    "## Keeping listening ratio FIXED"
   ]
  },
  {
   "cell_type": "markdown",
   "metadata": {},
   "source": [
    "### **Intuition 1:**\n",
    "#### LOW cycle lengths -> several short intervals spread out over recording period\n",
    "#### 1 min recorded likely representative of the next 5 min that was not recorded"
   ]
  },
  {
   "cell_type": "markdown",
   "metadata": {},
   "source": [
    "### **Intuition 2:**\n",
    "#### MID cycle lengths -> handful of medium-sized intervals spread out over recording period\n",
    "#### 1 hour recorded likely not representive of the next 5 hours that were not recorded"
   ]
  },
  {
   "cell_type": "markdown",
   "metadata": {},
   "source": [
    "### **Intuition 3:**\n",
    "#### HIGH cycle lengths -> very few of large intervals spread out over recording period\n",
    "#### 1 day recorded possibly representive of the next 5 days that were not recorded?"
   ]
  }
 ],
 "metadata": {
  "kernelspec": {
   "display_name": "Python 3",
   "language": "python",
   "name": "python3"
  },
  "language_info": {
   "name": "python",
   "version": "3.11.4"
  }
 },
 "nbformat": 4,
 "nbformat_minor": 2
}
