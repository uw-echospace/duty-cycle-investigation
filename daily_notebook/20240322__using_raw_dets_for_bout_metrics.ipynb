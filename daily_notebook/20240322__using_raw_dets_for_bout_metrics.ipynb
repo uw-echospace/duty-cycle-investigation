{
 "cells": [
  {
   "cell_type": "code",
   "execution_count": 1,
   "metadata": {},
   "outputs": [],
   "source": [
    "import numpy as np\n",
    "import pandas as pd\n",
    "import scipy\n",
    "from scipy import stats\n",
    "import suncalc\n",
    "\n",
    "import dask.dataframe as dd\n",
    "from pathlib import Path\n",
    "import glob\n",
    "import re\n",
    "\n",
    "import datetime as dt\n",
    "\n",
    "import matplotlib.pyplot as plt\n",
    "from matplotlib import colors\n",
    "import soundfile as sf\n",
    "import matplotlib.patches as patches"
   ]
  },
  {
   "cell_type": "code",
   "execution_count": 2,
   "metadata": {},
   "outputs": [],
   "source": [
    "import sys\n",
    "\n",
    "sys.path.append(\"../src\")\n",
    "sys.path.append(\"../src/bout\")"
   ]
  },
  {
   "cell_type": "code",
   "execution_count": 3,
   "metadata": {},
   "outputs": [],
   "source": [
    "import clustering as clstr\n",
    "import bout as bt\n",
    "import plot as bt_plt\n",
    "import activity.subsampling as ss\n",
    "import activity.activity_assembly as actvt\n",
    "import pipeline\n",
    "from core import SITE_NAMES, FREQUENCY_COLOR_MAPPINGS\n",
    "\n",
    "from cli import get_file_paths\n",
    "import pipeline"
   ]
  },
  {
   "cell_type": "code",
   "execution_count": 4,
   "metadata": {},
   "outputs": [
    {
     "data": {
      "text/plain": [
       "{0: 'w', 1: 'r', 2: 'b', 3: 'g', 4: 'orange', 5: 'c', 6: 'pink', 7: 'k'}"
      ]
     },
     "execution_count": 4,
     "metadata": {},
     "output_type": "execute_result"
    }
   ],
   "source": [
    "POINT_CMAP = {0:'w',1:'r',2:'b',3:'g',4:'orange',5:'c',6:'pink',7:'k'}\n",
    "POINT_CMAP"
   ]
  },
  {
   "cell_type": "code",
   "execution_count": 5,
   "metadata": {},
   "outputs": [],
   "source": [
    "def are_there_expected_number_of_cycles(location_df, num_of_detections, cycle_length):\n",
    "    first_date = pd.to_datetime(location_df['call_start_time']).iloc[0].date()\n",
    "    last_date = (pd.to_datetime(location_df['call_start_time'])).iloc[-1].date()\n",
    "    first_dt = dt.datetime.combine(first_date, pd.to_datetime(data_params['recording_start'], format=\"%H:%M\").time())\n",
    "    last_dt = dt.datetime.combine(last_date, pd.to_datetime(data_params['recording_end'], format=\"%H:%M\").time())\n",
    "\n",
    "    all_cycles = pd.date_range(first_dt, last_dt, freq=f'{cycle_length}T')\n",
    "    between_time_cycles = all_cycles[(all_cycles.indexer_between_time(data_params['recording_start'], data_params['recording_end']))]\n",
    "    \n",
    "    assert num_of_detections.shape[0] <= between_time_cycles.shape[0]"
   ]
  },
  {
   "cell_type": "code",
   "execution_count": 6,
   "metadata": {},
   "outputs": [],
   "source": [
    "def all_last_calls_of_cycle_within_recording(dc_applied_df, cycle_length, time_on_in_secs):\n",
    "    resampled_cycle_length_df = dc_applied_df.resample(f'{cycle_length}T', on='cycle_ref_time', origin='start_day')\n",
    "    last_call_of_each_group = resampled_cycle_length_df.last()\n",
    "    assert last_call_of_each_group['end_time_wrt_ref'].all() < time_on_in_secs"
   ]
  },
  {
   "cell_type": "code",
   "execution_count": 7,
   "metadata": {},
   "outputs": [],
   "source": [
    "def simulate_dutycycle_on_detections(location_df, cycle_length, time_on_in_secs, data_params):\n",
    "    \"\"\"\n",
    "    Simulates a provided duty-cycling scheme on the provided location summary of concatenated bd2 outputs.\n",
    "    \"\"\" \n",
    "\n",
    "    location_df = assign_cycle_groups_to_each_call(location_df, cycle_length, data_params)\n",
    "    dc_applied_df = gather_calls_existing_in_on_windows(location_df, time_on_in_secs)\n",
    "    all_last_calls_of_cycle_within_recording(dc_applied_df, cycle_length, time_on_in_secs)\n",
    "\n",
    "    return dc_applied_df\n",
    "\n",
    "def gather_calls_existing_in_on_windows(location_df, time_on_in_secs):\n",
    "\n",
    "    location_df.insert(0, 'end_time_wrt_ref', (location_df['call_end_time'] - location_df['cycle_ref_time']).dt.total_seconds())\n",
    "    location_df.insert(0, 'start_time_wrt_ref', (location_df['call_start_time'] - location_df['cycle_ref_time']).dt.total_seconds())\n",
    "    dc_applied_df = location_df.loc[(location_df['end_time_wrt_ref'] <= time_on_in_secs)&(location_df['start_time_wrt_ref'] >= 0)].copy()\n",
    "\n",
    "    return dc_applied_df\n",
    "\n",
    "def assign_cycle_groups_to_each_call(location_df, cycle_length, data_params):\n",
    "    location_df['ref_time'] = pd.DatetimeIndex(location_df['call_start_time'])\n",
    "    location_df['cycle_ref_time'] = pd.DatetimeIndex(location_df['call_start_time'])\n",
    "    location_df['call_end_time'] = pd.DatetimeIndex(location_df['call_end_time'])\n",
    "    location_df['call_start_time'] = pd.DatetimeIndex(location_df['call_start_time'])\n",
    "\n",
    "    resampled_cycle_length_df = location_df.resample(f'{cycle_length}T', on='cycle_ref_time', origin='start_day')\n",
    "    first_call_of_each_group = resampled_cycle_length_df.first().between_time(data_params['recording_start'], data_params['recording_end'])\n",
    "    are_there_expected_number_of_cycles(location_df, first_call_of_each_group, cycle_length)\n",
    "    location_df['cycle_ref_time'] = pd.DatetimeIndex(resampled_cycle_length_df['cycle_ref_time'].transform(lambda x: x.name))\n",
    "\n",
    "    return location_df"
   ]
  },
  {
   "cell_type": "code",
   "execution_count": 8,
   "metadata": {},
   "outputs": [],
   "source": [
    "def get_bout_duration_per_cycle(bout_metrics, cycle_length_in_mins):\n",
    "    \"\"\"\n",
    "    Constructs a pandas Series that records the duration of time occupied by bouts observed per interval.\n",
    "    The used interval is the cycle_length in minutes\n",
    "    \"\"\"\n",
    "\n",
    "    bout_metrics['ref_time'] = pd.DatetimeIndex(bout_metrics['start_time_of_bout'])\n",
    "    bout_metrics['total_bout_duration_in_secs'] = bout_metrics['bout_duration_in_secs']\n",
    "    bout_metrics = bout_metrics.set_index('ref_time')\n",
    "\n",
    "    bout_duration_per_interval = bout_metrics.resample(f\"{cycle_length_in_mins}T\")['total_bout_duration_in_secs'].sum()\n",
    "\n",
    "    return bout_duration_per_interval\n",
    "\n",
    "def get_metric_per_time_on(metric, time_on):\n",
    "\n",
    "    return metric / (time_on)\n",
    "\n",
    "def filter_and_prepare_metric(metric, dc_tag, data_params):\n",
    "\n",
    "    col_name = f\"{data_params['metric_tag']} ({dc_tag})\"\n",
    "    incomplete_activity_arr = pd.DataFrame(metric.values, index=metric.index, columns=[col_name])\n",
    "    activity_arr = incomplete_activity_arr.between_time(data_params['recording_start'], data_params['recording_end'], inclusive='left')\n",
    "\n",
    "    return pd.DataFrame(list(zip(activity_arr.index, activity_arr[col_name].values)), columns=[\"datetime_UTC\", col_name])"
   ]
  },
  {
   "cell_type": "code",
   "execution_count": 9,
   "metadata": {},
   "outputs": [],
   "source": [
    "def does_duty_cycled_df_have_less_dets_than_original(dc_applied_df, location_df):\n",
    "    assert dc_applied_df.shape[0] < location_df.shape[0]"
   ]
  },
  {
   "cell_type": "code",
   "execution_count": 10,
   "metadata": {},
   "outputs": [],
   "source": [
    "def does_reindexed_match_original_at_original_indices(metric_for_scheme_for_comparison, metric_for_scheme):\n",
    "    assert (metric_for_scheme_for_comparison.loc[metric_for_scheme.index].compare(metric_for_scheme).empty)\n",
    "\n",
    "def do_calls_exist_in_reindexed_version(metric_for_scheme_for_comparison):\n",
    "    assert metric_for_scheme_for_comparison.values.all() >= 0"
   ]
  },
  {
   "cell_type": "code",
   "execution_count": 11,
   "metadata": {},
   "outputs": [],
   "source": [
    "def get_associated_metric_for_cont_column(metric_for_scheme, call_rate_cont_column):\n",
    "    metric_for_scheme_for_comparison = metric_for_scheme.reindex(call_rate_cont_column.index, fill_value=0)\n",
    "    does_reindexed_match_original_at_original_indices(metric_for_scheme_for_comparison, metric_for_scheme)\n",
    "    do_calls_exist_in_reindexed_version(metric_for_scheme_for_comparison)\n",
    "\n",
    "    return metric_for_scheme\n",
    "\n",
    "def select_dates_from_metrics(metric_for_scheme_for_comparison, call_rate_cont_column, data_params):\n",
    "    plt_dcmetr = metric_for_scheme_for_comparison.loc[data_params['start']:data_params['end']].copy()\n",
    "    plt_cmetr = call_rate_cont_column.loc[data_params['start']:data_params['end']].copy()\n",
    "\n",
    "    return plt_dcmetr, plt_cmetr"
   ]
  },
  {
   "cell_type": "code",
   "execution_count": 12,
   "metadata": {},
   "outputs": [],
   "source": [
    "def add_placeholder_call_at_end_of_cycle(df, cycle_length):\n",
    "    end_time_of_last_call = df.loc[len(df)-1, 'call_end_time']\n",
    "    cycle_time_of_last_call = df.loc[len(df)-1, 'cycle_ref_time']\n",
    "    next_cycle_time = cycle_time_of_last_call + pd.Timedelta(minutes=cycle_length)\n",
    "    fake_call_start_time = next_cycle_time\n",
    "    fake_call_end_time = next_cycle_time\n",
    "    duration_from_last_ms = (next_cycle_time - end_time_of_last_call).total_seconds()*1000\n",
    "    start_time_wrt_ref = (next_cycle_time - cycle_time_of_last_call).total_seconds()\n",
    "    end_time_wrt_ref = start_time_wrt_ref\n",
    "\n",
    "    mod_df = pd.concat([df, pd.DataFrame(df.loc[len(df)-1]).T], axis=0, ignore_index=True)\n",
    "\n",
    "    mod_df.loc[len(mod_df)-1, 'call_status'] = 'bout end'\n",
    "    mod_df.loc[len(mod_df)-1, 'change_markers'] = -1\n",
    "    mod_df.loc[len(mod_df)-1, 'bout_tag'] = 0\n",
    "    mod_df.loc[len(mod_df)-1, 'duration_from_last_call_ms'] = duration_from_last_ms\n",
    "    mod_df.loc[len(mod_df)-1, 'start_time_wrt_ref'] = start_time_wrt_ref\n",
    "    mod_df.loc[len(mod_df)-1, 'end_time_wrt_ref'] = end_time_wrt_ref\n",
    "    mod_df.loc[len(mod_df)-1, 'ref_time'] = fake_call_start_time\n",
    "    mod_df.loc[len(mod_df)-1, 'call_start_time'] = fake_call_start_time\n",
    "    mod_df.loc[len(mod_df)-1, 'call_end_time'] = fake_call_end_time\n",
    "    mod_df.loc[len(mod_df)-1, 'cycle_ref_time'] = cycle_time_of_last_call\n",
    "    mod_df.loc[len(mod_df)-1, 'class'] = 'MADE-UP FOR DC INVESTIGATION'\n",
    "\n",
    "    return mod_df\n",
    "\n",
    "def add_placeholder_call_at_start_of_cycle(df):\n",
    "    cycle_time_of_first_call = df.loc[0, 'cycle_ref_time']\n",
    "    fake_call_start_time = cycle_time_of_first_call\n",
    "    fake_call_end_time = cycle_time_of_first_call\n",
    "    duration_from_last_ms = 0\n",
    "    start_time_wrt_ref = 0\n",
    "    end_time_wrt_ref = start_time_wrt_ref\n",
    "\n",
    "    mod_df = pd.concat([pd.DataFrame(df.loc[0]).T, df], axis=0, ignore_index=True)\n",
    "\n",
    "    mod_df.loc[0, 'call_status'] = 'bout start'\n",
    "    mod_df.loc[0, 'change_markers'] = 1\n",
    "    mod_df.loc[0, 'bout_tag'] = 0\n",
    "    mod_df.loc[0, 'duration_from_last_call_ms'] = duration_from_last_ms\n",
    "    mod_df.loc[0, 'start_time_wrt_ref'] = start_time_wrt_ref\n",
    "    mod_df.loc[0, 'end_time_wrt_ref'] = end_time_wrt_ref\n",
    "    mod_df.loc[0, 'ref_time'] = fake_call_start_time\n",
    "    mod_df.loc[0, 'call_start_time'] = fake_call_start_time\n",
    "    mod_df.loc[0, 'call_end_time'] = fake_call_end_time\n",
    "    mod_df.loc[0, 'cycle_ref_time'] = cycle_time_of_first_call\n",
    "    mod_df.loc[0, 'class'] = 'MADE-UP FOR DC INVESTIGATION'\n",
    "\n",
    "    return mod_df\n",
    "\n",
    "def add_placeholder_to_tag_dets_wrt_cycle(cycle_group, cycle_length):\n",
    "    df = cycle_group.copy()\n",
    "    df.reset_index(inplace=True, drop=True)\n",
    "\n",
    "    first_call_within_another_bout = (df.loc[0, 'call_status']=='within bout')|(df.loc[0, 'call_status']=='bout end')\n",
    "    if first_call_within_another_bout:\n",
    "        mod_df = add_placeholder_call_at_start_of_cycle(df)\n",
    "    else:\n",
    "        mod_df = df.copy()\n",
    "\n",
    "    last_call_within_another_bout = (mod_df.loc[len(mod_df)-1, 'call_status']=='within bout')|(mod_df.loc[len(mod_df)-1, 'call_status']=='bout start')\n",
    "    if last_call_within_another_bout:\n",
    "        mod_df = add_placeholder_call_at_end_of_cycle(mod_df, cycle_length)\n",
    "\n",
    "    return mod_df"
   ]
  },
  {
   "cell_type": "code",
   "execution_count": 13,
   "metadata": {},
   "outputs": [],
   "source": [
    "def construct_bout_metrics_from_classified_dets(fgroups_with_bouttags):\n",
    "    \"\"\"\n",
    "    Reads in the dataframe of detected calls with bout tags.\n",
    "    Uses these bout tags to create a new dataframe of bout metrics for the start and end times of each bout.\n",
    "    Also includes the lowest frequency of a call within a bout as the lower bound for the bout\n",
    "    and the highest frequency of a call within a bout as the upper bound frequency for the bout.\n",
    "    Now, also included the number of detections captured within each bout.\n",
    "    \"\"\"\n",
    "\n",
    "    location_df = fgroups_with_bouttags.copy()\n",
    "    location_df.reset_index(drop=True, inplace=True)\n",
    "    group_of_tagged_dets = location_df['freq_group'].unique().item()\n",
    "\n",
    "    end_times_of_bouts = pd.to_datetime(location_df.loc[location_df['call_status']=='bout end', 'call_end_time'])\n",
    "    start_times_of_bouts = pd.to_datetime(location_df.loc[location_df['call_status']=='bout start', 'call_start_time'])\n",
    "    ref_end_times = location_df.loc[location_df['call_status']=='bout end', 'end_time_wrt_ref'].astype('float')\n",
    "    ref_start_times = location_df.loc[location_df['call_status']=='bout start', 'start_time_wrt_ref'].astype('float')\n",
    "    end_times = location_df.loc[location_df['call_status']=='bout end', 'end_time'].astype('float')\n",
    "    start_times = location_df.loc[location_df['call_status']=='bout start', 'start_time'].astype('float')\n",
    "    bout_starts = start_times_of_bouts.index\n",
    "    bout_ends = end_times_of_bouts.index\n",
    "\n",
    "    low_freqs = []\n",
    "    high_freqs = []\n",
    "    ref_time_cycle_start = []\n",
    "    ref_time_cycle_end = []\n",
    "    num_calls_per_bout = []\n",
    "    for i, bout_start in enumerate(bout_starts):\n",
    "        bat_bout = location_df.iloc[bout_start:bout_ends[i]+1]\n",
    "        pass_low_freq = np.min(bat_bout['low_freq'])\n",
    "        pass_high_freq = np.max(bat_bout['high_freq'])\n",
    "        start_cycle = bat_bout['cycle_ref_time'].values[0]\n",
    "        end_cycle = bat_bout['cycle_ref_time'].values[-1]\n",
    "        num_calls = len(bat_bout)\n",
    "        low_freqs += [pass_low_freq]\n",
    "        high_freqs += [pass_high_freq]\n",
    "        ref_time_cycle_start += [start_cycle]\n",
    "        ref_time_cycle_end += [end_cycle]\n",
    "        num_calls_per_bout += [num_calls]\n",
    "\n",
    "    bout_metrics = pd.DataFrame()\n",
    "    bout_metrics['start_time_of_bout'] = start_times_of_bouts.values\n",
    "    bout_metrics['end_time_of_bout'] = end_times_of_bouts.values\n",
    "    bout_metrics['start_time_wrt_ref'] = ref_start_times.values\n",
    "    bout_metrics['end_time_wrt_ref'] = ref_end_times.values\n",
    "    bout_metrics['start_time'] = start_times.values\n",
    "    bout_metrics['end_time'] = end_times.values\n",
    "    bout_metrics['low_freq'] = low_freqs\n",
    "    bout_metrics['high_freq'] = high_freqs\n",
    "    bout_metrics['freq_group'] = group_of_tagged_dets\n",
    "    bout_metrics['cycle_ref_time_start'] = ref_time_cycle_start\n",
    "    bout_metrics['cycle_ref_time_end'] = ref_time_cycle_end\n",
    "    bout_metrics['number_of_dets'] = num_calls_per_bout\n",
    "    bout_metrics['bout_duration'] = end_times_of_bouts.values - start_times_of_bouts.values\n",
    "    bout_metrics['bout_duration_in_secs'] = bout_metrics['bout_duration'].apply(lambda x : x.total_seconds())\n",
    "\n",
    "    return bout_metrics"
   ]
  },
  {
   "cell_type": "code",
   "execution_count": 14,
   "metadata": {},
   "outputs": [],
   "source": [
    "def generate_bout_metrics_for_location_and_freq(location_sum_df, data_params, dc_tag):\n",
    "    \"\"\"\n",
    "    Given a location summary of calls dataframe, create an analogous location summary of bouts by:\n",
    "    1) Calculating the BCI for each frequency group in the summary.\n",
    "    2) Use the calculated BCI for each group to cluster bouts for that group.\n",
    "    3) Put together all bout characteristics into the analogous dataframe.\n",
    "    \"\"\"\n",
    "    cycle_length_in_mins = int(dc_tag.split('of')[1])\n",
    "    time_on_in_mins = int(dc_tag.split('of')[0])\n",
    "\n",
    "    location_sum_df.reset_index(drop=True, inplace=True)\n",
    "\n",
    "    bout_params = bt.get_bout_params_from_location(location_sum_df, data_params)\n",
    "\n",
    "    tagged_dets = bt.classify_bouts_in_bd2_predictions_for_freqgroups(location_sum_df, bout_params)\n",
    "    fixed_dets = tagged_dets.groupby('cycle_ref_time').apply(lambda x: add_placeholder_to_tag_dets_wrt_cycle(x, cycle_length_in_mins))\n",
    "    fixed_dets.reset_index(drop=True, inplace=True)\n",
    "    bout_metrics = construct_bout_metrics_from_classified_dets(fixed_dets)\n",
    "    bt.test_bout_end_times_in_period(bout_metrics, time_on_in_mins)\n",
    "\n",
    "    return bout_metrics"
   ]
  },
  {
   "cell_type": "code",
   "execution_count": 15,
   "metadata": {},
   "outputs": [],
   "source": [
    "def generate_activity_btp_for_dc_schemes(data_params, file_paths):\n",
    "    activity_arr = pd.DataFrame()\n",
    "    location_df = pd.read_csv(f'{file_paths[\"SITE_folder\"]}/{file_paths[\"bd2_TYPE_SITE_YEAR\"]}.csv', index_col=0)\n",
    "\n",
    "    dc_schemes = data_params['dc_tags'][1:]\n",
    "    cont_scheme = data_params['dc_tags'][0]\n",
    "    for dc_tag in dc_schemes:\n",
    "        cycle_length_in_mins = int(dc_tag.split('of')[1])\n",
    "        time_on_in_mins = int(dc_tag.split('of')[0])\n",
    "        time_on_in_secs = (60*time_on_in_mins)\n",
    "\n",
    "        dc_applied_df = simulate_dutycycle_on_detections(location_df.copy(), cycle_length_in_mins, \n",
    "                                                            time_on_in_secs, data_params)\n",
    "        does_duty_cycled_df_have_less_dets_than_original(dc_applied_df, location_df)\n",
    "\n",
    "        bout_metrics = generate_bout_metrics_for_location_and_freq(dc_applied_df, data_params, dc_tag)\n",
    "        bout_duration = get_bout_duration_per_cycle(bout_metrics, cycle_length_in_mins)\n",
    "        bout_time_percentage = 100*get_metric_per_time_on(bout_duration, time_on_in_secs)\n",
    "        bout_time_percentage_dc_column = filter_and_prepare_metric(bout_time_percentage, dc_tag, data_params)\n",
    "        bout_time_percentage_dc_column = bout_time_percentage_dc_column.set_index(\"datetime_UTC\")\n",
    "        are_there_expected_number_of_cycles(dc_applied_df, bout_time_percentage_dc_column, cycle_length_in_mins)\n",
    "\n",
    "        activity_arr = pd.concat([activity_arr, bout_time_percentage_dc_column], axis=1)\n",
    "\n",
    "    return activity_arr\n",
    "\n",
    "def get_continuous_btp_partitioned_for_dc_scheme(metric_col_name, file_paths, data_params):\n",
    "    dc_tag_split = re.findall(r\"\\d+\", metric_col_name)\n",
    "    dc_tag = re.findall(r\"\\d+of\\d+\", metric_col_name)[0]\n",
    "    cycle_length = int(dc_tag_split[-1])\n",
    "    cont_tag = f'{cycle_length}of{cycle_length}'\n",
    "    cycle_length_in_secs = 60*cycle_length\n",
    "\n",
    "    location_df = pd.read_csv(f'{file_paths[\"SITE_folder\"]}/{file_paths[\"bd2_TYPE_SITE_YEAR\"]}.csv', index_col=0)\n",
    "    dc_applied_df = simulate_dutycycle_on_detections(location_df.copy(), cycle_length, \n",
    "                                                        cycle_length_in_secs, data_params)\n",
    "    does_duty_cycled_df_have_less_dets_than_original(dc_applied_df, location_df)\n",
    "    bout_metrics = generate_bout_metrics_for_location_and_freq(dc_applied_df, data_params, cont_tag)\n",
    "\n",
    "    bout_duration = get_bout_duration_per_cycle(bout_metrics, cycle_length)\n",
    "    bout_time_percentage = 100*get_metric_per_time_on(bout_duration, cycle_length_in_secs)\n",
    "    bout_time_percentage_cont_column = filter_and_prepare_metric(bout_time_percentage, dc_tag, data_params)\n",
    "    bout_time_percentage_cont_column = bout_time_percentage_cont_column.set_index(\"datetime_UTC\")\n",
    "    are_there_expected_number_of_cycles(location_df, bout_time_percentage_cont_column, cycle_length)\n",
    "\n",
    "    return bout_time_percentage_cont_column"
   ]
  },
  {
   "cell_type": "code",
   "execution_count": 26,
   "metadata": {},
   "outputs": [],
   "source": [
    "def plot_indiv_dc_control_comp_over_cycle(single_col_dc_metr1, single_col_c_metr, data_params):\n",
    "    dc_tag_split = re.findall(r\"\\d+\", single_col_dc_metr1.columns[0])\n",
    "    total = int(dc_tag_split[-1])\n",
    "    single_col_dc_metr1.index = pd.DatetimeIndex(single_col_dc_metr1.index)\n",
    "    dc_metr1 = pd.pivot_table(single_col_dc_metr1, index=(single_col_dc_metr1.index.time), \n",
    "                        columns=single_col_dc_metr1.index.date, \n",
    "                        values=single_col_dc_metr1.columns[0])\n",
    "    dctag1 = re.search(r\"\\d+of\\d+\", single_col_dc_metr1.columns[0])[0]\n",
    "    metrictag1 = (single_col_dc_metr1.columns[0]).split()[0]\n",
    "    single_col_c_metr.index = pd.DatetimeIndex(single_col_c_metr.index)\n",
    "    paired_col_c_metr = single_col_c_metr[(~single_col_dc_metr1.isna()).values]\n",
    "    c_metr = pd.pivot_table(paired_col_c_metr, index=(paired_col_c_metr.index.time), \n",
    "                    columns=paired_col_c_metr.index.date, \n",
    "                    values=paired_col_c_metr.columns[0])\n",
    "    plt.rcParams.update({'font.size':12})\n",
    "    plt.title(f'{dctag1} and continuous scheme')\n",
    "    plt.plot([0, np.amax(c_metr)], [0, np.amax(c_metr)], linestyle='dashed', color='k')\n",
    "    colors = np.tile(np.arange(0, c_metr.shape[0]),(c_metr.shape[1],1)).T\n",
    "    labels = pd.to_datetime(c_metr.index, format='%H:%M:%S').strftime('%H:%M')\n",
    "    sc = plt.scatter(c_metr, dc_metr1, c=colors, cmap='YlOrRd', edgecolors='k', s=50, alpha=0.8)\n",
    "    cbar = plt.colorbar(sc, ticks=[0, (colors.shape[0]-1)//2, colors.shape[0]-1])\n",
    "    cbar.ax.set_yticklabels([labels[0], labels[len(labels)//2], labels[-1]])\n",
    "    plt.xlabel(f'Continuous Measured {metrictag1}')\n",
    "    plt.xscale('log')\n",
    "    plt.yscale('log')\n",
    "    if (data_params['metric_tag'] == 'bout_time_percentage'):\n",
    "        plt.xlim(1e-2, 1e2)\n",
    "        plt.ylim(1e-2, 1e2)\n",
    "    else:\n",
    "        plt.xlim(1e-1, np.amax(c_metr))\n",
    "        plt.ylim(1e-1, np.amax(c_metr))\n",
    "    plt.ylabel(f'DC Measured {metrictag1}')\n",
    "    plt.grid(which='both')"
   ]
  },
  {
   "cell_type": "code",
   "execution_count": 17,
   "metadata": {},
   "outputs": [
    {
     "name": "stdout",
     "output_type": "stream",
     "text": [
      "Carp LF\n"
     ]
    },
    {
     "data": {
      "text/plain": [
       "{'raw_SITE_folder': '/Users/adityakrishna/duty-cycle-investigation/src/../data/raw/Carp',\n",
       " 'SITE_folder': '/Users/adityakrishna/duty-cycle-investigation/src/../data/2022_bd2_summary/Carp',\n",
       " 'SITE_classes_folder': '/Users/adityakrishna/duty-cycle-investigation/src/../data/classifications/Carp',\n",
       " 'SITE_classes_file': '/Users/adityakrishna/duty-cycle-investigation/src/../data/classifications/Carp/2022_Carp_call_classes.csv',\n",
       " 'bd2_TYPE_SITE_YEAR': 'bd2__LFCarp_2022',\n",
       " 'duty_cycled_folder': '/Users/adityakrishna/duty-cycle-investigation/src/../data/2022_bd2_summary/Carp/duty_cycled',\n",
       " 'dc_dets_TYPE_SITE_summary': 'dc_dets_LFCarp_summary',\n",
       " 'dc_bouts_TYPE_SITE_summary': 'dc_bouts_LFCarp_summary',\n",
       " 'dc_inds_TYPE_SITE_summary': 'dc_inds_LFCarp_summary',\n",
       " 'figures_SITE_folder': '/Users/adityakrishna/duty-cycle-investigation/src/../figures/Carp',\n",
       " 'activity_det_comparisons_figname': 'activity_det_comparisons_per_dc_LFCarp',\n",
       " 'dc_det_comparisons_figname': 'dc_det_comparisons_per_night_LFCarp',\n",
       " 'activity_bout_comparisons_figname': 'activity_bout_comparisons_per_dc_LFCarp',\n",
       " 'dc_bout_comparisons_figname': 'dc_bout_comparisons_per_night_LFCarp',\n",
       " 'activity_ind_comparisons_figname': 'activity_ind_comparisons_per_dc_LFCarp',\n",
       " 'dc_ind_comparisons_figname': 'dc_ind_comparisons_per_night_LFCarp',\n",
       " 'dc_metric_comparisons_figname': 'metric_comparisons_per_night_LFCarp',\n",
       " 'presence_comparisons_figname': 'presence_comparisons_per_dc_LFCarp',\n",
       " 'activity_grid_folder': '/Users/adityakrishna/duty-cycle-investigation/src/../figures/Carp/activity_grids',\n",
       " 'activity_dets_grid_figname': 'LFCarp_30of30_activity_dets_grid',\n",
       " 'activity_bouts_grid_figname': 'LFCarp_30of30_activity_bouts_grid',\n",
       " 'activity_inds_grid_figname': 'LFCarp_30of30_activity_inds_grid',\n",
       " 'presence_grid_folder': '/Users/adityakrishna/duty-cycle-investigation/src/../figures/Carp/presence_grids',\n",
       " 'presence_grid_figname': 'LFCarp_30of30_presence_grid'}"
      ]
     },
     "execution_count": 17,
     "metadata": {},
     "output_type": "execute_result"
    }
   ],
   "source": [
    "avail = np.arange(0, 720, 6) + 6\n",
    "reset_24 = avail[np.where((24*60 % avail) == 0)[0]]\n",
    "\n",
    "cycle_lengths = [6, 18, 30, 60, 144, 180]\n",
    "percent_ons = [1/6, 1/3, 1/2, 2/3]\n",
    "data_params = dict()\n",
    "data_params[\"cycle_lengths\"] = cycle_lengths\n",
    "data_params[\"percent_ons\"] = percent_ons\n",
    "data_params['index_time_block_in_secs'] = '5'\n",
    "dc_tags = ss.get_list_of_dc_tags(data_params[\"cycle_lengths\"], data_params[\"percent_ons\"])\n",
    "\n",
    "site_key = 'Carp'\n",
    "type_keys = ['LF', 'HF']\n",
    "data_params[\"dc_tags\"] = dc_tags\n",
    "data_params[\"site_tag\"] = site_key\n",
    "data_params['cur_dc_tag'] = '30of30'\n",
    "data_params[\"site_name\"] = SITE_NAMES[site_key]\n",
    "\n",
    "# for type_key in type_keys:\n",
    "type_key = 'LF'\n",
    "print(site_key, type_key)\n",
    "data_params[\"type_tag\"] = type_key\n",
    "file_paths = get_file_paths(data_params)\n",
    "file_paths"
   ]
  },
  {
   "cell_type": "code",
   "execution_count": 18,
   "metadata": {},
   "outputs": [],
   "source": [
    "data_params['metric_tag'] = 'bout_time_percentage'\n",
    "data_params['recording_start'] = '00:00'\n",
    "data_params['recording_end'] = '16:00'"
   ]
  },
  {
   "cell_type": "code",
   "execution_count": 19,
   "metadata": {},
   "outputs": [],
   "source": [
    "activity_arr = generate_activity_btp_for_dc_schemes(data_params, file_paths)"
   ]
  },
  {
   "cell_type": "code",
   "execution_count": 20,
   "metadata": {},
   "outputs": [],
   "source": [
    "metric_for_scheme = pd.DataFrame(activity_arr.iloc[:,3].dropna())\n",
    "metric_col_name = metric_for_scheme.columns[0]\n",
    "btp_cont_column = get_continuous_btp_partitioned_for_dc_scheme(metric_col_name, file_paths, data_params)"
   ]
  },
  {
   "cell_type": "code",
   "execution_count": 21,
   "metadata": {},
   "outputs": [],
   "source": [
    "metric_for_scheme_for_comparison = get_associated_metric_for_cont_column(metric_for_scheme, btp_cont_column)\n",
    "\n",
    "data_params['start'] = dt.datetime(2022, 8, 10, 0, 0, 0)\n",
    "data_params['end'] = dt.datetime(2022, 8, 16, 16, 0, 0)\n",
    "\n",
    "plt_dcmetr, plt_cmetr = select_dates_from_metrics(metric_for_scheme_for_comparison, btp_cont_column, data_params)"
   ]
  },
  {
   "cell_type": "code",
   "execution_count": 27,
   "metadata": {},
   "outputs": [
    {
     "data": {
      "image/png": "[encoded data removed]",
      "text/plain": [
       "<Figure size 640x480 with 2 Axes>"
      ]
     },
     "metadata": {},
     "output_type": "display_data"
    }
   ],
   "source": [
    "plot_indiv_dc_control_comp_over_cycle(plt_dcmetr, plt_cmetr, data_params)"
   ]
  }
 ],
 "metadata": {
  "kernelspec": {
   "display_name": "Python 3",
   "language": "python",
   "name": "python3"
  },
  "language_info": {
   "codemirror_mode": {
    "name": "ipython",
    "version": 3
   },
   "file_extension": ".py",
   "mimetype": "text/x-python",
   "name": "python",
   "nbconvert_exporter": "python",
   "pygments_lexer": "ipython3",
   "version": "3.11.4"
  }
 },
 "nbformat": 4,
 "nbformat_minor": 2
}
