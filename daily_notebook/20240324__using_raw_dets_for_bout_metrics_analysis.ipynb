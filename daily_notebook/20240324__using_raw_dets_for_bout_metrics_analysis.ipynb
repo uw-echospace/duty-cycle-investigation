{
 "cells": [
  {
   "cell_type": "code",
   "execution_count": 1,
   "metadata": {},
   "outputs": [],
   "source": [
    "import numpy as np\n",
    "import pandas as pd\n",
    "import scipy\n",
    "from scipy import stats\n",
    "import suncalc\n",
    "\n",
    "import dask.dataframe as dd\n",
    "from pathlib import Path\n",
    "import glob\n",
    "import re\n",
    "\n",
    "import datetime as dt\n",
    "\n",
    "import matplotlib.pyplot as plt\n",
    "from matplotlib import colors\n",
    "import soundfile as sf\n",
    "import matplotlib.patches as patches"
   ]
  },
  {
   "cell_type": "code",
   "execution_count": 2,
   "metadata": {},
   "outputs": [],
   "source": [
    "import sys\n",
    "\n",
    "sys.path.append(\"../src\")\n",
    "sys.path.append(\"../src/bout\")"
   ]
  },
  {
   "cell_type": "code",
   "execution_count": 3,
   "metadata": {},
   "outputs": [],
   "source": [
    "import clustering as clstr\n",
    "import bout as bt\n",
    "import plot as bt_plt\n",
    "import activity.subsampling as ss\n",
    "import activity.activity_assembly as actvt\n",
    "import comparison.data_assembly as comp\n",
    "import comparison.plot as complot\n",
    "import pipeline\n",
    "from core import SITE_NAMES, FREQUENCY_COLOR_MAPPINGS\n",
    "\n",
    "from cli import get_file_paths\n",
    "import pipeline"
   ]
  },
  {
   "cell_type": "code",
   "execution_count": 4,
   "metadata": {},
   "outputs": [
    {
     "name": "stdout",
     "output_type": "stream",
     "text": [
      "Carp LF\n"
     ]
    },
    {
     "data": {
      "text/plain": [
       "{'raw_SITE_folder': '/Users/adityakrishna/duty-cycle-investigation/src/../data/raw/Carp',\n",
       " 'SITE_folder': '/Users/adityakrishna/duty-cycle-investigation/src/../data/2022_bd2_summary/Carp',\n",
       " 'SITE_classes_folder': '/Users/adityakrishna/duty-cycle-investigation/src/../data/classifications/Carp',\n",
       " 'SITE_classes_file': '/Users/adityakrishna/duty-cycle-investigation/src/../data/classifications/Carp/2022_Carp_call_classes.csv',\n",
       " 'bd2_TYPE_SITE_YEAR': 'bd2__LFCarp_2022',\n",
       " 'duty_cycled_folder': '/Users/adityakrishna/duty-cycle-investigation/src/../data/2022_bd2_summary/Carp/duty_cycled',\n",
       " 'dc_dets_TYPE_SITE_summary': 'dc_dets_LFCarp_summary',\n",
       " 'dc_bouts_TYPE_SITE_summary': 'dc_bouts_LFCarp_summary',\n",
       " 'dc_inds_TYPE_SITE_summary': 'dc_inds_LFCarp_summary',\n",
       " 'dc_callrate_TYPE_SITE_summary': 'dc_callrate_LFCarp_summary',\n",
       " 'cont_callrate_TYPE_SITE_summary': 'cont_callrate_LFCarp_summary',\n",
       " 'dc_btp_TYPE_SITE_summary': 'dc_btp_LFCarp_summary',\n",
       " 'cont_btp_TYPE_SITE_summary': 'cont_btp_LFCarp_summary',\n",
       " 'dc_actind_TYPE_SITE_summary': 'dc_actind_LFCarp_summary',\n",
       " 'cont_actind_TYPE_SITE_summary': 'cont_actind_LFCarp_summary',\n",
       " 'figures_SITE_folder': '/Users/adityakrishna/duty-cycle-investigation/src/../figures/Carp',\n",
       " 'activity_det_comparisons_figname': 'activity_det_comparisons_per_dc_LFCarp',\n",
       " 'dc_det_comparisons_figname': 'dc_det_comparisons_per_night_LFCarp',\n",
       " 'activity_bout_comparisons_figname': 'activity_bout_comparisons_per_dc_LFCarp',\n",
       " 'dc_bout_comparisons_figname': 'dc_bout_comparisons_per_night_LFCarp',\n",
       " 'activity_ind_comparisons_figname': 'activity_ind_comparisons_per_dc_LFCarp',\n",
       " 'dc_ind_comparisons_figname': 'dc_ind_comparisons_per_night_LFCarp',\n",
       " 'dc_metric_comparisons_figname': 'metric_comparisons_per_night_LFCarp',\n",
       " 'presence_comparisons_figname': 'presence_comparisons_per_dc_LFCarp'}"
      ]
     },
     "execution_count": 4,
     "metadata": {},
     "output_type": "execute_result"
    }
   ],
   "source": [
    "avail = np.arange(0, 720, 6) + 6\n",
    "reset_24 = avail[np.where((24*60 % avail) == 0)[0]]\n",
    "\n",
    "cycle_lengths = [6, 18, 30, 60, 120, 180]\n",
    "percent_ons = [1/6, 1/3, 1/2, 2/3]\n",
    "data_params = dict()\n",
    "data_params[\"cycle_lengths\"] = cycle_lengths\n",
    "data_params[\"percent_ons\"] = percent_ons\n",
    "data_params['index_time_block_in_secs'] = '5'\n",
    "dc_tags = ss.get_list_of_dc_tags(data_params[\"cycle_lengths\"], data_params[\"percent_ons\"])\n",
    "\n",
    "site_key = 'Carp'\n",
    "type_keys = ['LF', 'HF']\n",
    "data_params[\"dc_tags\"] = dc_tags\n",
    "data_params[\"site_tag\"] = site_key\n",
    "data_params[\"site_name\"] = SITE_NAMES[site_key]\n",
    "data_params['recording_start'] = '0:00'\n",
    "data_params['recording_end'] = '16:00'\n",
    "data_params['metric_tag'] = 'bout_time_percentage'\n",
    "\n",
    "# for type_key in type_keys:\n",
    "type_key = 'LF'\n",
    "print(site_key, type_key)\n",
    "data_params[\"type_tag\"] = type_key\n",
    "file_paths = get_file_paths(data_params)\n",
    "file_paths"
   ]
  },
  {
   "cell_type": "code",
   "execution_count": 5,
   "metadata": {},
   "outputs": [],
   "source": [
    "activity_arr, btp_arr = comp.generate_activity_btp_for_dc_schemes_and_cont(data_params, file_paths, save=True)"
   ]
  }
 ],
 "metadata": {
  "kernelspec": {
   "display_name": "Python 3",
   "language": "python",
   "name": "python3"
  },
  "language_info": {
   "codemirror_mode": {
    "name": "ipython",
    "version": 3
   },
   "file_extension": ".py",
   "mimetype": "text/x-python",
   "name": "python",
   "nbconvert_exporter": "python",
   "pygments_lexer": "ipython3",
   "version": "3.11.4"
  }
 },
 "nbformat": 4,
 "nbformat_minor": 2
}
