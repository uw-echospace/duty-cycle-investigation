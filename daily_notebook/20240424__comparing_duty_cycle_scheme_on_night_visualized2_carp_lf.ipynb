{
 "cells": [
  {
   "cell_type": "code",
   "execution_count": 1,
   "metadata": {},
   "outputs": [],
   "source": [
    "import numpy as np\n",
    "import pandas as pd\n",
    "import scipy\n",
    "from scipy import stats\n",
    "import suncalc\n",
    "\n",
    "import dask.dataframe as dd\n",
    "from pathlib import Path\n",
    "import glob\n",
    "import re\n",
    "\n",
    "import datetime as dt\n",
    "\n",
    "import matplotlib.pyplot as plt\n",
    "from matplotlib import colors\n",
    "import soundfile as sf\n",
    "import matplotlib.patches as patches"
   ]
  },
  {
   "cell_type": "code",
   "execution_count": 2,
   "metadata": {},
   "outputs": [],
   "source": [
    "import sys\n",
    "\n",
    "sys.path.append(\"../src\")\n",
    "sys.path.append(\"../src/bout\")\n",
    "sys.path.append(\"../src/tests\")"
   ]
  },
  {
   "cell_type": "code",
   "execution_count": 3,
   "metadata": {},
   "outputs": [],
   "source": [
    "import clustering as clstr\n",
    "import bout.assembly as bt\n",
    "import plot as bt_plt\n",
    "import test_activity_metric_functions as test_actvt\n",
    "import activity.subsampling as ss\n",
    "import activity.activity_assembly as actvt\n",
    "import pipeline\n",
    "from core import SITE_NAMES, FREQUENCY_COLOR_MAPPINGS\n",
    "\n",
    "from cli import get_file_paths\n",
    "import pipeline"
   ]
  },
  {
   "cell_type": "code",
   "execution_count": 4,
   "metadata": {},
   "outputs": [],
   "source": [
    "site_key = 'Carp'\n",
    "freq_key = 'LF'\n",
    "\n",
    "data_params = dict()\n",
    "data_params['site_tag'] = site_key\n",
    "data_params['type_tag'] = freq_key\n",
    "data_params['recording_start'] = '00:00'\n",
    "data_params['recording_end'] = '16:00'\n",
    "data_params['cur_dc_tag'] = '6of6'\n",
    "data_params['cycle_length'] = int(data_params['cur_dc_tag'].split('of')[-1])\n",
    "data_params['time_on'] = int(data_params['cur_dc_tag'].split('of')[0])\n",
    "data_params['time_on_in_secs'] = 60*data_params['time_on']\n",
    "file_paths = get_file_paths(data_params)\n",
    "\n",
    "location_df = pd.read_csv(f'{file_paths[\"SITE_folder\"]}/{file_paths[\"bd2_TYPE_SITE_YEAR\"]}.csv', index_col=0)\n",
    "bout_params = bt.get_bout_params_from_location(location_df, data_params)\n",
    "dc_applied_df = ss.simulate_dutycycle_on_detections(location_df.copy(), data_params)"
   ]
  },
  {
   "cell_type": "code",
   "execution_count": 5,
   "metadata": {},
   "outputs": [],
   "source": [
    "files_from_loc = sorted(list(Path(f'../data/audiomoth_recordings/').glob(pattern=f'*/{site_key}/*.WAV')))\n",
    "file = files_from_loc[11]"
   ]
  },
  {
   "cell_type": "code",
   "execution_count": 6,
   "metadata": {},
   "outputs": [],
   "source": [
    "file_path = Path(file)\n",
    "filename = file_path.name\n",
    "audio_file = sf.SoundFile(file_path)\n",
    "fs = audio_file.samplerate\n",
    "start = 0\n",
    "duration = 1800\n",
    "audio_file.seek(int(fs*start))\n",
    "audio_seg = audio_file.read(int(fs*duration))\n",
    "vmin = 20*np.log10(np.max(audio_seg)) - 60 # hide anything below -rm_dB dB\n",
    "\n",
    "audio_features = dict()\n",
    "audio_features['file_path'] = file_path\n",
    "audio_features['audio_seg'] = audio_seg\n",
    "audio_features['sample_rate'] = fs\n",
    "audio_features['start'] = start\n",
    "audio_features['duration'] = duration\n",
    "\n",
    "spec_features = dict()\n",
    "spec_features['vmin'] = vmin\n",
    "spec_features['NFFT'] = 1024\n",
    "spec_features['cmap'] = 'jet'\n",
    "\n",
    "file_dt_start = dt.datetime.strptime(filename, '%Y%m%d_%H%M%S.WAV')\n",
    "file_dt_end = file_dt_start + pd.Timedelta(minutes=30)\n",
    "\n",
    "plot_dets = dc_applied_df.loc[(dc_applied_df['call_start_time']>=file_dt_start)&(dc_applied_df['call_end_time']<=file_dt_end)]\n",
    "plot_dets = plot_dets.loc[np.logical_and(plot_dets['start_time'] >= start, plot_dets['end_time'] <= (start+duration))]\n",
    "if not(plot_dets.empty):\n",
    "    bout_metrics = bt.generate_bout_metrics_for_location_and_freq(plot_dets, data_params, bout_params)\n",
    "    plot_bouts = bout_metrics.loc[np.logical_and(bout_metrics['start_time'] >= start, bout_metrics['end_time'] <= (start+duration))]\n",
    "else:\n",
    "    plot_bouts = pd.DataFrame()\n",
    "# bt_plt.plot_raw_metrics_over_audio_seg(audio_features, spec_features, plot_dets, plot_bouts, bout_params,  data_params)\n",
    "bt_plt.plot_normalized_metrics_over_audio_seg(audio_features, spec_features, plot_dets, plot_bouts, bout_params,  data_params)"
   ]
  }
 ],
 "metadata": {
  "kernelspec": {
   "display_name": "Python 3",
   "language": "python",
   "name": "python3"
  },
  "language_info": {
   "codemirror_mode": {
    "name": "ipython",
    "version": 3
   },
   "file_extension": ".py",
   "mimetype": "text/x-python",
   "name": "python",
   "nbconvert_exporter": "python",
   "pygments_lexer": "ipython3",
   "version": "3.11.4"
  }
 },
 "nbformat": 4,
 "nbformat_minor": 2
}
