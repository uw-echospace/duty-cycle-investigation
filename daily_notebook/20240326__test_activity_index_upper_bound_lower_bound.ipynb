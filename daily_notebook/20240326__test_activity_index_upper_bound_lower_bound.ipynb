{
 "cells": [
  {
   "cell_type": "code",
   "execution_count": 1,
   "metadata": {},
   "outputs": [],
   "source": [
    "from pathlib import Path\n",
    "import pandas as pd\n",
    "import numpy as np\n",
    "\n",
    "import matplotlib.pyplot as plt\n",
    "import datetime as dt\n",
    "from scipy import stats, signal"
   ]
  },
  {
   "cell_type": "code",
   "execution_count": 2,
   "metadata": {},
   "outputs": [],
   "source": [
    "import sys\n",
    "\n",
    "sys.path.append(\"../src\")\n",
    "sys.path.append(\"../src/tests\")\n",
    "sys.path.append(\"../src/bout\")"
   ]
  },
  {
   "cell_type": "code",
   "execution_count": 3,
   "metadata": {},
   "outputs": [],
   "source": [
    "import bout as bt\n",
    "import activity.activity_assembly as actvt\n",
    "import activity.subsampling as ss"
   ]
  },
  {
   "cell_type": "code",
   "execution_count": 4,
   "metadata": {},
   "outputs": [],
   "source": [
    "def are_there_expected_number_of_cycles(location_df, first_call_of_each_group, cycle_length, data_params):\n",
    "    first_date = pd.to_datetime(location_df['call_start_time']).iloc[0].date()\n",
    "    last_date = (pd.to_datetime(location_df['call_start_time'])).iloc[-1].date()\n",
    "    first_dt = dt.datetime.combine(first_date, pd.to_datetime(data_params['recording_start'], format=\"%H:%M\").time())\n",
    "    last_dt = dt.datetime.combine(last_date, pd.to_datetime(data_params['recording_end'], format=\"%H:%M\").time())\n",
    "\n",
    "    all_cycles = pd.date_range(first_dt, last_dt, freq=f'{cycle_length}T')\n",
    "    between_time_cycles = all_cycles[(all_cycles.indexer_between_time(data_params['recording_start'], data_params['recording_end']))]\n",
    "    \n",
    "    assert first_call_of_each_group.shape[0] <= between_time_cycles.shape[0]"
   ]
  },
  {
   "cell_type": "code",
   "execution_count": 5,
   "metadata": {},
   "outputs": [],
   "source": [
    "def all_last_calls_of_cycle_within_recording(dc_applied_df, cycle_length, time_on_in_secs):\n",
    "    resampled_cycle_length_df = dc_applied_df.resample(f'{cycle_length}T', on='cycle_ref_time', origin='start_day')\n",
    "    last_call_of_each_group = resampled_cycle_length_df.last()\n",
    "    assert last_call_of_each_group['end_time_wrt_ref'].all() < time_on_in_secs"
   ]
  },
  {
   "cell_type": "code",
   "execution_count": 34,
   "metadata": {},
   "outputs": [],
   "source": [
    "def simulate_dutycycle_on_detections(location_df, cycle_length, time_on_in_secs, data_params):\n",
    "    \"\"\"\n",
    "    Simulates a provided duty-cycling scheme on the provided location summary of concatenated bd2 outputs.\n",
    "    \"\"\" \n",
    "\n",
    "    location_df = assign_cycle_groups_to_each_call(location_df, cycle_length, data_params)\n",
    "    dc_applied_df = gather_calls_existing_in_on_windows(location_df, time_on_in_secs)\n",
    "    if not(dc_applied_df.empty):\n",
    "        all_last_calls_of_cycle_within_recording(dc_applied_df, cycle_length, time_on_in_secs)\n",
    "\n",
    "    return dc_applied_df\n",
    "\n",
    "def gather_calls_existing_in_on_windows(location_df, time_on_in_secs):\n",
    "\n",
    "    location_df.insert(0, 'end_time_wrt_ref', (location_df['call_end_time'] - location_df['cycle_ref_time']).dt.total_seconds())\n",
    "    location_df.insert(0, 'start_time_wrt_ref', (location_df['call_start_time'] - location_df['cycle_ref_time']).dt.total_seconds())\n",
    "    dc_applied_df = location_df.loc[(location_df['end_time_wrt_ref'] <= time_on_in_secs)&(location_df['start_time_wrt_ref'] >= 0)].copy()\n",
    "\n",
    "    return dc_applied_df\n",
    "\n",
    "def assign_cycle_groups_to_each_call(location_df, cycle_length, data_params):\n",
    "    location_df['ref_time'] = pd.DatetimeIndex(location_df['call_start_time'])\n",
    "    location_df['cycle_ref_time'] = pd.DatetimeIndex(location_df['call_start_time'])\n",
    "    location_df['call_end_time'] = pd.DatetimeIndex(location_df['call_end_time'])\n",
    "    location_df['call_start_time'] = pd.DatetimeIndex(location_df['call_start_time'])\n",
    "\n",
    "    resampled_cycle_length_df = location_df.resample(f'{cycle_length}T', on='cycle_ref_time', origin='start_day')\n",
    "    first_call_of_each_group = resampled_cycle_length_df.first().between_time(data_params['recording_start'], data_params['recording_end'])\n",
    "    are_there_expected_number_of_cycles(location_df, first_call_of_each_group, cycle_length, data_params)\n",
    "    location_df['cycle_ref_time'] = pd.DatetimeIndex(resampled_cycle_length_df['cycle_ref_time'].transform(lambda x: x.name))\n",
    "\n",
    "    return location_df"
   ]
  },
  {
   "cell_type": "code",
   "execution_count": 81,
   "metadata": {},
   "outputs": [],
   "source": [
    "def get_activity_index_per_cycle(location_df, cycle_length, index):\n",
    "    \"\"\"\n",
    "    Constructs a pandas Series that records the activity index observed per interval.\n",
    "    The used interval is the one stored inside data_params['bin_size']\n",
    "    The activity index time block is stored inside data_params['index_time_block_in_secs']\n",
    "    \"\"\"\n",
    "\n",
    "    location_df['ref_time'] = location_df['call_start_time']\n",
    "    temp = location_df.resample(f'{index}S', on='ref_time')['ref_time'].count()\n",
    "    temp[temp>0] = 1\n",
    "    activity_indices = temp.resample(f\"{cycle_length}T\").sum()\n",
    "    \n",
    "    return activity_indices\n",
    "\n",
    "def get_activity_index_per_time_on_index(num_blocks_presence, time_on, index_time_block):\n",
    "    return num_blocks_presence / (time_on / index_time_block)"
   ]
  },
  {
   "cell_type": "code",
   "execution_count": 8,
   "metadata": {},
   "outputs": [],
   "source": [
    "def create_initial_mock_data_from_ipis(ipis):\n",
    "    \"\"\"\n",
    "    Created a simulated dataset of calls for a period of 30-min where the provided IPIs are used to separate each call.\n",
    "    \"\"\"\n",
    "\n",
    "    mock_df = pd.DataFrame(columns=['ref_time', 'call_start_time', 'call_end_time', 'start_time', 'end_time', 'low_freq', 'high_freq', 'freq_group', 'class'])\n",
    "    recording_start = dt.datetime(2022, 6, 15, 1, 00, 0)\n",
    "    recording_end = recording_start+dt.timedelta(minutes=30)\n",
    "    call_duration = 0.01\n",
    "    for i in range(0, len(ipis)):\n",
    "        start_time = ipis[:i+1].cumsum(axis=0)[-1]+ i*call_duration\n",
    "        call_start_time = recording_start + dt.timedelta(seconds=start_time)\n",
    "        call_end_time = recording_start + dt.timedelta(seconds=start_time+call_duration)\n",
    "        ref_time = pd.to_datetime(call_start_time).floor('30T')\n",
    "        if (call_end_time <= recording_end):\n",
    "            mock_df.loc[i] = [ref_time, call_start_time, call_end_time, start_time, start_time+call_duration, 20000, 30000, 'LF', 'simulation']\n",
    "\n",
    "    return mock_df\n",
    "\n",
    "def test_num_dets_metric_using_simulated_dataset():\n",
    "    \"\"\"\n",
    "    Create a simulated dataset of calls with 5 bouts of calls where within-bout calls are separated by IPI of 90ms.\n",
    "    Bouts are separated by intervals of 5-min. \n",
    "    The BCI is set to be 150ms so we test the bout clustering functions to see if we get 5 bouts exactly.\n",
    "\n",
    "    The number of detections should be equal to the number of IPIs (including the IPI required before the first call)\n",
    "    The activity index should be equal to the number of bouts because each bout falls completely within just a single time block.\n",
    "    The measured bout duration should be equal to the derived bout duration.\n",
    "    Bout duration derived by calculating the duration of 10 calls and 9 IPIs per bout.\n",
    "    \"\"\"\n",
    "\n",
    "    points = 50\n",
    "    t = np.linspace(0, 1, points, endpoint=False)\n",
    "\n",
    "    A = 150\n",
    "    mock_square_ipis = A*(signal.square(2 * np.pi * 5 * t, 1/points) + 1)\n",
    "    call_duration = 0.01\n",
    "    desired_ipi = 0.09\n",
    "\n",
    "    mock_square_ipis[mock_square_ipis==0] = desired_ipi\n",
    "    mock_bout_df = create_initial_mock_data_from_ipis(mock_square_ipis)\n",
    "\n",
    "    data_params = dict()\n",
    "    data_params['resolution_in_min'] = '30'\n",
    "    data_params[\"index_time_block_in_secs\"] = '5'\n",
    "    data_params['recording_start'] = '00:00'\n",
    "    data_params['recording_end'] = '16:00'\n",
    "    data_params['cur_dc_tag'] = '30of30'\n",
    "    data_params['cycle_length'] = int(data_params['cur_dc_tag'].split('of')[-1])\n",
    "    data_params['time_on'] = int(data_params['cur_dc_tag'].split('of')[0])\n",
    "    data_params['time_on_in_secs'] = 60*data_params['time_on']\n",
    "\n",
    "    mock_bout_df = simulate_dutycycle_on_detections(mock_bout_df, data_params['cycle_length'], data_params['time_on_in_secs'], data_params)\n",
    "    bout_params = dict()\n",
    "    bout_params['LF1_bci'] = 150\n",
    "    tagged_dets = bt.classify_bouts_in_bd2_predictions_for_freqgroups(mock_bout_df, bout_params)\n",
    "    \n",
    "    test_preds = tagged_dets.copy()\n",
    "    assert(get_activity_index_per_cycle(test_preds, data_params['cycle_length'], data_params[\"index_time_block_in_secs\"]).sum() == points)"
   ]
  },
  {
   "cell_type": "code",
   "execution_count": 9,
   "metadata": {},
   "outputs": [],
   "source": [
    "def repeat_init_30_min_mock_to_date_range(mock_df, periods):\n",
    "    sum_df = mock_df.copy()\n",
    "    df_to_concatenate = mock_df.copy()\n",
    "\n",
    "    for i in range(len(periods)):\n",
    "        for col in df_to_concatenate.columns:\n",
    "            if type(df_to_concatenate[col].values[0]) == np.datetime64:\n",
    "                df_to_concatenate[col] = df_to_concatenate[col] + pd.Timedelta(minutes=30)\n",
    "        sum_df = pd.concat([sum_df, df_to_concatenate])\n",
    "\n",
    "    return sum_df"
   ]
  },
  {
   "cell_type": "code",
   "execution_count": 10,
   "metadata": {},
   "outputs": [
    {
     "data": {
      "image/png": "[encoded data removed]",
      "text/plain": [
       "<Figure size 800x400 with 1 Axes>"
      ]
     },
     "metadata": {},
     "output_type": "display_data"
    }
   ],
   "source": [
    "points = 100\n",
    "desired_num_bouts = 5\n",
    "calls_per_bout = points / desired_num_bouts\n",
    "t = np.linspace(0, 1, points, endpoint=False)\n",
    "\n",
    "call_duration = 0.01\n",
    "desired_ipi = 0.09\n",
    "bout_break_time = 360 - ((calls_per_bout*call_duration)+((calls_per_bout-1)*desired_ipi))\n",
    "A = bout_break_time/2\n",
    "mock_square_ipis = A*(signal.square(2 * np.pi * desired_num_bouts * t, duty=1/points) + 1)\n",
    "mock_square_ipis[0] = desired_ipi\n",
    "mock_square_ipis[mock_square_ipis==0] = desired_ipi\n",
    "\n",
    "plt.figure(figsize=(8, 4))\n",
    "plt.rcParams.update({'font.size':16})\n",
    "plt.title('Mock IPIs we use in simulated dataset for bouts')\n",
    "plt.plot(mock_square_ipis, color='blue', marker='.', alpha=0.8, linestyle='dashed', label='square mock IPIs')\n",
    "plt.grid(which='both')\n",
    "plt.ylabel('IPI duration (s)')\n",
    "plt.xlabel('Simulated Call Index')\n",
    "plt.legend(loc='upper right')\n",
    "plt.show()"
   ]
  },
  {
   "cell_type": "code",
   "execution_count": 11,
   "metadata": {},
   "outputs": [],
   "source": [
    "mock_df = create_initial_mock_data_from_ipis(mock_square_ipis)\n",
    "periods = pd.date_range(dt.datetime(2022,6,15,1,30,0), dt.datetime(2022,10,17,16,0,0),freq='30T', inclusive='left')\n",
    "sum_df = repeat_init_30_min_mock_to_date_range(mock_df, periods)"
   ]
  },
  {
   "cell_type": "code",
   "execution_count": 24,
   "metadata": {},
   "outputs": [
    {
     "data": {
      "text/html": [
       "<div>\n",
       "<style scoped>\n",
       "    .dataframe tbody tr th:only-of-type {\n",
       "        vertical-align: middle;\n",
       "    }\n",
       "\n",
       "    .dataframe tbody tr th {\n",
       "        vertical-align: top;\n",
       "    }\n",
       "\n",
       "    .dataframe thead th {\n",
       "        text-align: right;\n",
       "    }\n",
       "</style>\n",
       "<table border=\"1\" class=\"dataframe\">\n",
       "  <thead>\n",
       "    <tr style=\"text-align: right;\">\n",
       "      <th></th>\n",
       "      <th>ref_time</th>\n",
       "      <th>call_start_time</th>\n",
       "      <th>call_end_time</th>\n",
       "      <th>start_time</th>\n",
       "      <th>end_time</th>\n",
       "      <th>low_freq</th>\n",
       "      <th>high_freq</th>\n",
       "      <th>freq_group</th>\n",
       "      <th>class</th>\n",
       "    </tr>\n",
       "  </thead>\n",
       "  <tbody>\n",
       "    <tr>\n",
       "      <th>0</th>\n",
       "      <td>2022-06-15 01:00:00</td>\n",
       "      <td>2022-06-15 01:00:00.090</td>\n",
       "      <td>2022-06-15 01:00:00.100</td>\n",
       "      <td>0.09</td>\n",
       "      <td>0.1</td>\n",
       "      <td>20000</td>\n",
       "      <td>30000</td>\n",
       "      <td>LF</td>\n",
       "      <td>simulation</td>\n",
       "    </tr>\n",
       "    <tr>\n",
       "      <th>1</th>\n",
       "      <td>2022-06-15 01:00:00</td>\n",
       "      <td>2022-06-15 01:00:00.190</td>\n",
       "      <td>2022-06-15 01:00:00.200</td>\n",
       "      <td>0.19</td>\n",
       "      <td>0.2</td>\n",
       "      <td>20000</td>\n",
       "      <td>30000</td>\n",
       "      <td>LF</td>\n",
       "      <td>simulation</td>\n",
       "    </tr>\n",
       "    <tr>\n",
       "      <th>2</th>\n",
       "      <td>2022-06-15 01:00:00</td>\n",
       "      <td>2022-06-15 01:00:00.290</td>\n",
       "      <td>2022-06-15 01:00:00.300</td>\n",
       "      <td>0.29</td>\n",
       "      <td>0.3</td>\n",
       "      <td>20000</td>\n",
       "      <td>30000</td>\n",
       "      <td>LF</td>\n",
       "      <td>simulation</td>\n",
       "    </tr>\n",
       "    <tr>\n",
       "      <th>3</th>\n",
       "      <td>2022-06-15 01:00:00</td>\n",
       "      <td>2022-06-15 01:00:00.390</td>\n",
       "      <td>2022-06-15 01:00:00.400</td>\n",
       "      <td>0.39</td>\n",
       "      <td>0.4</td>\n",
       "      <td>20000</td>\n",
       "      <td>30000</td>\n",
       "      <td>LF</td>\n",
       "      <td>simulation</td>\n",
       "    </tr>\n",
       "    <tr>\n",
       "      <th>4</th>\n",
       "      <td>2022-06-15 01:00:00</td>\n",
       "      <td>2022-06-15 01:00:00.490</td>\n",
       "      <td>2022-06-15 01:00:00.500</td>\n",
       "      <td>0.49</td>\n",
       "      <td>0.5</td>\n",
       "      <td>20000</td>\n",
       "      <td>30000</td>\n",
       "      <td>LF</td>\n",
       "      <td>simulation</td>\n",
       "    </tr>\n",
       "    <tr>\n",
       "      <th>...</th>\n",
       "      <td>...</td>\n",
       "      <td>...</td>\n",
       "      <td>...</td>\n",
       "      <td>...</td>\n",
       "      <td>...</td>\n",
       "      <td>...</td>\n",
       "      <td>...</td>\n",
       "      <td>...</td>\n",
       "      <td>...</td>\n",
       "    </tr>\n",
       "    <tr>\n",
       "      <th>95</th>\n",
       "      <td>2022-10-17 15:30:00</td>\n",
       "      <td>2022-10-17 15:54:01.590</td>\n",
       "      <td>2022-10-17 15:54:01.600</td>\n",
       "      <td>1441.59</td>\n",
       "      <td>1441.6</td>\n",
       "      <td>20000</td>\n",
       "      <td>30000</td>\n",
       "      <td>LF</td>\n",
       "      <td>simulation</td>\n",
       "    </tr>\n",
       "    <tr>\n",
       "      <th>96</th>\n",
       "      <td>2022-10-17 15:30:00</td>\n",
       "      <td>2022-10-17 15:54:01.690</td>\n",
       "      <td>2022-10-17 15:54:01.700</td>\n",
       "      <td>1441.69</td>\n",
       "      <td>1441.7</td>\n",
       "      <td>20000</td>\n",
       "      <td>30000</td>\n",
       "      <td>LF</td>\n",
       "      <td>simulation</td>\n",
       "    </tr>\n",
       "    <tr>\n",
       "      <th>97</th>\n",
       "      <td>2022-10-17 15:30:00</td>\n",
       "      <td>2022-10-17 15:54:01.790</td>\n",
       "      <td>2022-10-17 15:54:01.800</td>\n",
       "      <td>1441.79</td>\n",
       "      <td>1441.8</td>\n",
       "      <td>20000</td>\n",
       "      <td>30000</td>\n",
       "      <td>LF</td>\n",
       "      <td>simulation</td>\n",
       "    </tr>\n",
       "    <tr>\n",
       "      <th>98</th>\n",
       "      <td>2022-10-17 15:30:00</td>\n",
       "      <td>2022-10-17 15:54:01.890</td>\n",
       "      <td>2022-10-17 15:54:01.900</td>\n",
       "      <td>1441.89</td>\n",
       "      <td>1441.9</td>\n",
       "      <td>20000</td>\n",
       "      <td>30000</td>\n",
       "      <td>LF</td>\n",
       "      <td>simulation</td>\n",
       "    </tr>\n",
       "    <tr>\n",
       "      <th>99</th>\n",
       "      <td>2022-10-17 15:30:00</td>\n",
       "      <td>2022-10-17 15:54:01.990</td>\n",
       "      <td>2022-10-17 15:54:02.000</td>\n",
       "      <td>1441.99</td>\n",
       "      <td>1442.0</td>\n",
       "      <td>20000</td>\n",
       "      <td>30000</td>\n",
       "      <td>LF</td>\n",
       "      <td>simulation</td>\n",
       "    </tr>\n",
       "  </tbody>\n",
       "</table>\n",
       "<p>598200 rows × 9 columns</p>\n",
       "</div>"
      ],
      "text/plain": [
       "              ref_time         call_start_time           call_end_time  \\\n",
       "0  2022-06-15 01:00:00 2022-06-15 01:00:00.090 2022-06-15 01:00:00.100   \n",
       "1  2022-06-15 01:00:00 2022-06-15 01:00:00.190 2022-06-15 01:00:00.200   \n",
       "2  2022-06-15 01:00:00 2022-06-15 01:00:00.290 2022-06-15 01:00:00.300   \n",
       "3  2022-06-15 01:00:00 2022-06-15 01:00:00.390 2022-06-15 01:00:00.400   \n",
       "4  2022-06-15 01:00:00 2022-06-15 01:00:00.490 2022-06-15 01:00:00.500   \n",
       "..                 ...                     ...                     ...   \n",
       "95 2022-10-17 15:30:00 2022-10-17 15:54:01.590 2022-10-17 15:54:01.600   \n",
       "96 2022-10-17 15:30:00 2022-10-17 15:54:01.690 2022-10-17 15:54:01.700   \n",
       "97 2022-10-17 15:30:00 2022-10-17 15:54:01.790 2022-10-17 15:54:01.800   \n",
       "98 2022-10-17 15:30:00 2022-10-17 15:54:01.890 2022-10-17 15:54:01.900   \n",
       "99 2022-10-17 15:30:00 2022-10-17 15:54:01.990 2022-10-17 15:54:02.000   \n",
       "\n",
       "    start_time  end_time  low_freq  high_freq freq_group       class  \n",
       "0         0.09       0.1     20000      30000         LF  simulation  \n",
       "1         0.19       0.2     20000      30000         LF  simulation  \n",
       "2         0.29       0.3     20000      30000         LF  simulation  \n",
       "3         0.39       0.4     20000      30000         LF  simulation  \n",
       "4         0.49       0.5     20000      30000         LF  simulation  \n",
       "..         ...       ...       ...        ...        ...         ...  \n",
       "95     1441.59    1441.6     20000      30000         LF  simulation  \n",
       "96     1441.69    1441.7     20000      30000         LF  simulation  \n",
       "97     1441.79    1441.8     20000      30000         LF  simulation  \n",
       "98     1441.89    1441.9     20000      30000         LF  simulation  \n",
       "99     1441.99    1442.0     20000      30000         LF  simulation  \n",
       "\n",
       "[598200 rows x 9 columns]"
      ]
     },
     "execution_count": 24,
     "metadata": {},
     "output_type": "execute_result"
    }
   ],
   "source": [
    "sum_df"
   ]
  },
  {
   "cell_type": "code",
   "execution_count": 60,
   "metadata": {},
   "outputs": [],
   "source": [
    "data_params = dict()\n",
    "data_params['resolution_in_min'] = '30'\n",
    "data_params[\"index_time_block_in_secs\"] = 5\n",
    "data_params['recording_start'] = '00:00'\n",
    "data_params['recording_end'] = '16:00'\n",
    "data_params['cur_dc_tag'] = '6of6'\n",
    "data_params['cycle_length'] = int(data_params['cur_dc_tag'].split('of')[-1])\n",
    "data_params['time_on'] = int(data_params['cur_dc_tag'].split('of')[0])\n",
    "data_params['time_on_in_secs'] = 60*data_params['time_on']\n",
    "\n",
    "cont_sum_df = simulate_dutycycle_on_detections(sum_df.copy(), data_params['cycle_length'], data_params['time_on_in_secs'], data_params)\n",
    "cont_act_inds = get_activity_index_per_cycle(cont_sum_df, data_params['cycle_length'], data_params[\"index_time_block_in_secs\"])"
   ]
  },
  {
   "cell_type": "code",
   "execution_count": 83,
   "metadata": {},
   "outputs": [
    {
     "data": {
      "text/plain": [
       "ref_time\n",
       "2022-06-15 01:00:00    0.013889\n",
       "2022-06-15 01:06:00    0.013889\n",
       "2022-06-15 01:12:00    0.013889\n",
       "2022-06-15 01:18:00    0.013889\n",
       "2022-06-15 01:24:00    0.013889\n",
       "                         ...   \n",
       "2022-10-17 15:30:00    0.013889\n",
       "2022-10-17 15:36:00    0.013889\n",
       "2022-10-17 15:42:00    0.013889\n",
       "2022-10-17 15:48:00    0.013889\n",
       "2022-10-17 15:54:00    0.013889\n",
       "Freq: 6T, Name: ref_time, Length: 29910, dtype: float64"
      ]
     },
     "execution_count": 83,
     "metadata": {},
     "output_type": "execute_result"
    }
   ],
   "source": [
    "cont_act_ind_p = get_activity_index_per_time_on_index(cont_act_inds, 60*data_params['cycle_length'], data_params[\"index_time_block_in_secs\"])\n",
    "cont_act_ind_p"
   ]
  },
  {
   "cell_type": "code",
   "execution_count": 74,
   "metadata": {},
   "outputs": [],
   "source": [
    "data_params = dict()\n",
    "data_params['resolution_in_min'] = '30'\n",
    "data_params[\"index_time_block_in_secs\"] = 5\n",
    "data_params['recording_start'] = '00:00'\n",
    "data_params['recording_end'] = '16:00'\n",
    "data_params['cur_dc_tag'] = '1of6'\n",
    "data_params['cycle_length'] = int(data_params['cur_dc_tag'].split('of')[-1])\n",
    "data_params['time_on'] = int(data_params['cur_dc_tag'].split('of')[0])\n",
    "data_params['time_on_in_secs'] = 60*data_params['time_on']\n",
    "\n",
    "dc_applied_df1 = simulate_dutycycle_on_detections(sum_df.copy(), data_params['cycle_length'], data_params['time_on_in_secs'], data_params)\n",
    "dc_act_inds1 = get_activity_index_per_cycle(dc_applied_df1, data_params['cycle_length'], data_params[\"index_time_block_in_secs\"])"
   ]
  },
  {
   "cell_type": "code",
   "execution_count": 84,
   "metadata": {},
   "outputs": [
    {
     "data": {
      "text/plain": [
       "ref_time\n",
       "2022-06-15 01:00:00    0.083333\n",
       "2022-06-15 01:06:00    0.083333\n",
       "2022-06-15 01:12:00    0.083333\n",
       "2022-06-15 01:18:00    0.083333\n",
       "2022-06-15 01:24:00    0.083333\n",
       "                         ...   \n",
       "2022-10-17 15:30:00    0.083333\n",
       "2022-10-17 15:36:00    0.083333\n",
       "2022-10-17 15:42:00    0.083333\n",
       "2022-10-17 15:48:00    0.083333\n",
       "2022-10-17 15:54:00    0.083333\n",
       "Freq: 6T, Name: ref_time, Length: 29910, dtype: float64"
      ]
     },
     "execution_count": 84,
     "metadata": {},
     "output_type": "execute_result"
    }
   ],
   "source": [
    "dc_act_inds_p1 = get_activity_index_per_time_on_index(dc_act_inds1, data_params['time_on_in_secs'], data_params[\"index_time_block_in_secs\"])\n",
    "dc_act_inds_p1"
   ]
  },
  {
   "cell_type": "code",
   "execution_count": 88,
   "metadata": {},
   "outputs": [],
   "source": [
    "assert (6*cont_act_ind_p == dc_act_inds_p1).all()"
   ]
  },
  {
   "cell_type": "code",
   "execution_count": 67,
   "metadata": {},
   "outputs": [],
   "source": [
    "data_params = dict()\n",
    "data_params['resolution_in_min'] = '30'\n",
    "data_params[\"index_time_block_in_secs\"] = 5\n",
    "data_params['recording_start'] = '00:00'\n",
    "data_params['recording_end'] = '16:00'\n",
    "data_params['cur_dc_tag'] = '30of30'\n",
    "data_params['cycle_length'] = int(data_params['cur_dc_tag'].split('of')[-1])\n",
    "data_params['time_on'] = int(data_params['cur_dc_tag'].split('of')[0])\n",
    "data_params['time_on_in_secs'] = 60*data_params['time_on']\n",
    "\n",
    "cont_sum_df2 = simulate_dutycycle_on_detections(sum_df.copy(), data_params['cycle_length'], data_params['time_on_in_secs'], data_params)\n",
    "cont_act_inds2 = get_activity_index_per_cycle(cont_sum_df2, data_params['cycle_length'], data_params[\"index_time_block_in_secs\"])"
   ]
  },
  {
   "cell_type": "code",
   "execution_count": 68,
   "metadata": {},
   "outputs": [
    {
     "data": {
      "text/plain": [
       "ref_time\n",
       "2022-06-15 01:00:00    0.013889\n",
       "2022-06-15 01:30:00    0.013889\n",
       "2022-06-15 02:00:00    0.013889\n",
       "2022-06-15 02:30:00    0.013889\n",
       "2022-06-15 03:00:00    0.013889\n",
       "                         ...   \n",
       "2022-10-17 13:30:00    0.013889\n",
       "2022-10-17 14:00:00    0.013889\n",
       "2022-10-17 14:30:00    0.013889\n",
       "2022-10-17 15:00:00    0.013889\n",
       "2022-10-17 15:30:00    0.013889\n",
       "Freq: 30T, Name: ref_time, Length: 5982, dtype: float64"
      ]
     },
     "execution_count": 68,
     "metadata": {},
     "output_type": "execute_result"
    }
   ],
   "source": [
    "cont_act_inds2 / (data_params['time_on_in_secs'] / data_params[\"index_time_block_in_secs\"])"
   ]
  },
  {
   "cell_type": "code",
   "execution_count": 70,
   "metadata": {},
   "outputs": [],
   "source": [
    "data_params = dict()\n",
    "data_params['resolution_in_min'] = '30'\n",
    "data_params[\"index_time_block_in_secs\"] = 5\n",
    "data_params['recording_start'] = '00:00'\n",
    "data_params['recording_end'] = '16:00'\n",
    "data_params['cur_dc_tag'] = '6of30'\n",
    "data_params['cycle_length'] = int(data_params['cur_dc_tag'].split('of')[-1])\n",
    "data_params['time_on'] = int(data_params['cur_dc_tag'].split('of')[0])\n",
    "data_params['time_on_in_secs'] = 60*data_params['time_on']\n",
    "\n",
    "dc_applied_df2 = simulate_dutycycle_on_detections(sum_df.copy(), data_params['cycle_length'], data_params['time_on_in_secs'], data_params)\n",
    "dc_act_inds2 = get_activity_index_per_cycle(dc_applied_df2, data_params['cycle_length'], data_params[\"index_time_block_in_secs\"])"
   ]
  },
  {
   "cell_type": "code",
   "execution_count": 71,
   "metadata": {},
   "outputs": [
    {
     "data": {
      "text/plain": [
       "ref_time\n",
       "2022-06-15 01:00:00    0.013889\n",
       "2022-06-15 01:30:00    0.013889\n",
       "2022-06-15 02:00:00    0.013889\n",
       "2022-06-15 02:30:00    0.013889\n",
       "2022-06-15 03:00:00    0.013889\n",
       "                         ...   \n",
       "2022-10-17 13:30:00    0.013889\n",
       "2022-10-17 14:00:00    0.013889\n",
       "2022-10-17 14:30:00    0.013889\n",
       "2022-10-17 15:00:00    0.013889\n",
       "2022-10-17 15:30:00    0.013889\n",
       "Freq: 30T, Name: ref_time, Length: 5982, dtype: float64"
      ]
     },
     "execution_count": 71,
     "metadata": {},
     "output_type": "execute_result"
    }
   ],
   "source": [
    "dc_act_inds2 / (data_params['time_on_in_secs'] / data_params[\"index_time_block_in_secs\"])"
   ]
  }
 ],
 "metadata": {
  "kernelspec": {
   "display_name": "Python 3",
   "language": "python",
   "name": "python3"
  },
  "language_info": {
   "codemirror_mode": {
    "name": "ipython",
    "version": 3
   },
   "file_extension": ".py",
   "mimetype": "text/x-python",
   "name": "python",
   "nbconvert_exporter": "python",
   "pygments_lexer": "ipython3",
   "version": "3.11.4"
  }
 },
 "nbformat": 4,
 "nbformat_minor": 2
}
