{
 "cells": [
  {
   "cell_type": "code",
   "execution_count": 1,
   "metadata": {},
   "outputs": [],
   "source": [
    "import numpy as np\n",
    "import pandas as pd\n",
    "import scipy\n",
    "from scipy import stats\n",
    "import suncalc\n",
    "\n",
    "import dask.dataframe as dd\n",
    "from pathlib import Path\n",
    "import glob\n",
    "import re\n",
    "\n",
    "import datetime as dt\n",
    "\n",
    "import matplotlib.pyplot as plt\n",
    "from matplotlib import colors\n",
    "import soundfile as sf\n",
    "import matplotlib.patches as patches"
   ]
  },
  {
   "cell_type": "code",
   "execution_count": 2,
   "metadata": {},
   "outputs": [],
   "source": [
    "import sys\n",
    "\n",
    "sys.path.append(\"../src\")\n",
    "sys.path.append(\"../src/activity\")"
   ]
  },
  {
   "cell_type": "code",
   "execution_count": 3,
   "metadata": {},
   "outputs": [],
   "source": [
    "import subsampling as ss\n",
    "import activity_assembly as actvt\n",
    "import bout as bt\n",
    "from core import SITE_NAMES, FREQ_GROUPS, SEATTLE_LATITUDE, SEATTLE_LONGITUDE\n",
    "\n",
    "from cli import get_file_paths\n",
    "import plot\n",
    "import pipeline"
   ]
  },
  {
   "cell_type": "code",
   "execution_count": 4,
   "metadata": {},
   "outputs": [
    {
     "data": {
      "text/plain": [
       "{0: 'w', 1: 'r', 2: 'b', 3: 'g', 4: 'orange', 5: 'c', 6: 'pink', 7: 'k'}"
      ]
     },
     "execution_count": 4,
     "metadata": {},
     "output_type": "execute_result"
    }
   ],
   "source": [
    "POINT_CMAP = {0:'w',1:'r',2:'b',3:'g',4:'orange',5:'c',6:'pink',7:'k'}\n",
    "POINT_CMAP"
   ]
  },
  {
   "cell_type": "code",
   "execution_count": 5,
   "metadata": {},
   "outputs": [
    {
     "data": {
      "text/plain": [
       "array([  6,  12,  18,  24,  30,  36,  48,  60,  72,  90,  96, 120, 144,\n",
       "       180, 240, 288, 360, 480, 720])"
      ]
     },
     "execution_count": 5,
     "metadata": {},
     "output_type": "execute_result"
    }
   ],
   "source": [
    "avail = np.arange(0, 720, 6) + 6\n",
    "reset_24 = avail[np.where((24*60 % avail) == 0)[0]]\n",
    "reset_24"
   ]
  },
  {
   "cell_type": "code",
   "execution_count": 6,
   "metadata": {},
   "outputs": [],
   "source": [
    "cycle_lengths = [6, 18, 30, 60, 144, 180]\n",
    "percent_ons = [1/6, 1/3, 1/2, 2/3]\n",
    "data_params = dict()\n",
    "data_params[\"cycle_lengths\"] = cycle_lengths\n",
    "data_params[\"percent_ons\"] = percent_ons\n",
    "data_params['index_time_block_in_secs'] = '5'\n",
    "dc_tags = ss.get_list_of_dc_tags(data_params[\"cycle_lengths\"], data_params[\"percent_ons\"])"
   ]
  },
  {
   "cell_type": "code",
   "execution_count": 7,
   "metadata": {},
   "outputs": [
    {
     "name": "stdout",
     "output_type": "stream",
     "text": [
      "Carp LF\n"
     ]
    },
    {
     "data": {
      "text/plain": [
       "{'raw_SITE_folder': '/Users/adityakrishna/duty-cycle-investigation/src/../data/raw/Carp',\n",
       " 'SITE_folder': '/Users/adityakrishna/duty-cycle-investigation/src/../data/2022_bd2_summary/Carp',\n",
       " 'SITE_classes_folder': '/Users/adityakrishna/duty-cycle-investigation/src/../data/classifications/Carp',\n",
       " 'SITE_classes_file': '/Users/adityakrishna/duty-cycle-investigation/src/../data/classifications/Carp/2022_Carp_call_classes.csv',\n",
       " 'bd2_TYPE_SITE_YEAR': 'bd2__LFCarp_2022',\n",
       " 'duty_cycled_folder': '/Users/adityakrishna/duty-cycle-investigation/src/../data/2022_bd2_summary/Carp/duty_cycled',\n",
       " 'dc_dets_TYPE_SITE_summary': 'dc_dets_LFCarp_summary',\n",
       " 'dc_bouts_TYPE_SITE_summary': 'dc_bouts_LFCarp_summary',\n",
       " 'dc_inds_TYPE_SITE_summary': 'dc_inds_LFCarp_summary',\n",
       " 'dc_callrate_TYPE_SITE_summary': 'dc_callrate_LFCarp_summary',\n",
       " 'cont_callrate_TYPE_SITE_summary': 'cont_callrate_LFCarp_summary',\n",
       " 'dc_btp_TYPE_SITE_summary': 'dc_btp_LFCarp_summary',\n",
       " 'cont_btp_TYPE_SITE_summary': 'cont_btp_LFCarp_summary',\n",
       " 'figures_SITE_folder': '/Users/adityakrishna/duty-cycle-investigation/src/../figures/Carp',\n",
       " 'activity_det_comparisons_figname': 'activity_det_comparisons_per_dc_LFCarp',\n",
       " 'dc_det_comparisons_figname': 'dc_det_comparisons_per_night_LFCarp',\n",
       " 'activity_bout_comparisons_figname': 'activity_bout_comparisons_per_dc_LFCarp',\n",
       " 'dc_bout_comparisons_figname': 'dc_bout_comparisons_per_night_LFCarp',\n",
       " 'activity_ind_comparisons_figname': 'activity_ind_comparisons_per_dc_LFCarp',\n",
       " 'dc_ind_comparisons_figname': 'dc_ind_comparisons_per_night_LFCarp',\n",
       " 'dc_metric_comparisons_figname': 'metric_comparisons_per_night_LFCarp',\n",
       " 'presence_comparisons_figname': 'presence_comparisons_per_dc_LFCarp'}"
      ]
     },
     "execution_count": 7,
     "metadata": {},
     "output_type": "execute_result"
    }
   ],
   "source": [
    "site_key = 'Carp'\n",
    "type_keys = ['LF', 'HF']\n",
    "data_params[\"dc_tags\"] = dc_tags\n",
    "data_params[\"site_tag\"] = site_key\n",
    "data_params['cur_dc_tag'] = '30of30'\n",
    "data_params[\"site_name\"] = SITE_NAMES[site_key]\n",
    "\n",
    "# for type_key in type_keys:\n",
    "type_key = 'LF'\n",
    "print(site_key, type_key)\n",
    "data_params[\"type_tag\"] = type_key\n",
    "file_paths = get_file_paths(data_params)\n",
    "file_paths"
   ]
  },
  {
   "cell_type": "code",
   "execution_count": 23,
   "metadata": {},
   "outputs": [],
   "source": [
    "def plot_indiv_dc_control_comp_over_cycle(single_col_dc_metr1, single_col_c_metr, data_params):\n",
    "    dc_tag_split = re.findall(r\"\\d+\", single_col_dc_metr1.columns[0])\n",
    "    total = int(dc_tag_split[-1])\n",
    "    single_col_dc_metr1.index = pd.DatetimeIndex(single_col_dc_metr1.index)\n",
    "    dc_metr1 = pd.pivot_table(single_col_dc_metr1, index=(single_col_dc_metr1.index.time), \n",
    "                        columns=single_col_dc_metr1.index.date, \n",
    "                        values=single_col_dc_metr1.columns[0])\n",
    "    dctag1 = re.search(r\"\\d+of\\d+\", single_col_dc_metr1.columns[0])[0]\n",
    "    metrictag1 = (single_col_dc_metr1.columns[0]).split()[0]\n",
    "    single_col_c_metr.index = pd.DatetimeIndex(single_col_c_metr.index)\n",
    "    paired_col_c_metr = single_col_c_metr[(~single_col_dc_metr1.isna()).values]\n",
    "    c_metr = pd.pivot_table(paired_col_c_metr, index=(paired_col_c_metr.index.time), \n",
    "                    columns=paired_col_c_metr.index.date, \n",
    "                    values=paired_col_c_metr.columns[0])\n",
    "    plt.title(f'{dctag1} and continuous scheme')\n",
    "    plt.plot([0, np.amax(c_metr)], [0, np.amax(c_metr)], linestyle='dashed', color='k')\n",
    "    colors = np.tile(np.arange(0, c_metr.shape[0]),(c_metr.shape[1],1)).T\n",
    "    labels = pd.to_datetime(c_metr.index, format='%H:%M:%S').strftime('%H:%M')\n",
    "    sc = plt.scatter(c_metr, dc_metr1, c=colors, cmap='YlOrRd', edgecolors='k', s=50, alpha=0.8)\n",
    "    cbar = plt.colorbar(sc, ticks=[0, (colors.shape[0]-1)//2, colors.shape[0]-1])\n",
    "    cbar.ax.set_yticklabels([labels[0], labels[len(labels)//2], labels[-1]])\n",
    "    plt.xlabel(f'Continuous Measured {metrictag1}')\n",
    "    plt.xscale('log')\n",
    "    plt.yscale('log')\n",
    "    plt.xlim(1e-3, 2e0)\n",
    "    plt.ylim(1e-3, 2e0)\n",
    "    plt.ylabel(f'DC Measured {metrictag1}')\n",
    "    plt.grid(which='both')"
   ]
  },
  {
   "cell_type": "code",
   "execution_count": 9,
   "metadata": {},
   "outputs": [],
   "source": [
    "def are_there_expected_number_of_cycles(location_df, num_of_detections, cycle_length):\n",
    "    first_date = pd.to_datetime(location_df['call_start_time']).iloc[0].date()\n",
    "    last_date = (pd.to_datetime(location_df['call_start_time'])).iloc[-1].date()\n",
    "    first_dt = dt.datetime.combine(first_date, pd.to_datetime(data_params['recording_start'], format=\"%H:%M\").time())\n",
    "    last_dt = dt.datetime.combine(last_date, pd.to_datetime(data_params['recording_end'], format=\"%H:%M\").time())\n",
    "\n",
    "    all_cycles = pd.date_range(first_dt, last_dt, freq=f'{cycle_length}T')\n",
    "    between_time_cycles = all_cycles[(all_cycles.indexer_between_time(data_params['recording_start'], data_params['recording_end']))]\n",
    "    \n",
    "    assert num_of_detections.shape[0] <= between_time_cycles.shape[0]"
   ]
  },
  {
   "cell_type": "code",
   "execution_count": 10,
   "metadata": {},
   "outputs": [],
   "source": [
    "def all_last_calls_of_cycle_within_recording(dc_applied_df, cycle_length, time_on_in_secs):\n",
    "    resampled_cycle_length_df = dc_applied_df.resample(f'{cycle_length}T', on='cycle_ref_time', origin='start_day')\n",
    "    last_call_of_each_group = resampled_cycle_length_df.last()\n",
    "    assert last_call_of_each_group['end_time_wrt_ref'].all() < time_on_in_secs"
   ]
  },
  {
   "cell_type": "code",
   "execution_count": 11,
   "metadata": {},
   "outputs": [],
   "source": [
    "def simulate_dutycycle_on_detections(location_df, cycle_length, time_on_in_secs, data_params):\n",
    "    \"\"\"\n",
    "    Simulates a provided duty-cycling scheme on the provided location summary of concatenated bd2 outputs.\n",
    "    \"\"\" \n",
    "\n",
    "    location_df = assign_cycle_groups_to_each_call(location_df, cycle_length, data_params)\n",
    "    dc_applied_df = gather_calls_existing_in_on_windows(location_df, time_on_in_secs)\n",
    "    all_last_calls_of_cycle_within_recording(dc_applied_df, cycle_length, time_on_in_secs)\n",
    "\n",
    "    return dc_applied_df\n",
    "\n",
    "def gather_calls_existing_in_on_windows(location_df, time_on_in_secs):\n",
    "\n",
    "    location_df.insert(0, 'end_time_wrt_ref', (location_df['call_end_time'] - location_df['cycle_ref_time']).dt.total_seconds())\n",
    "    location_df.insert(0, 'start_time_wrt_ref', (location_df['call_start_time'] - location_df['cycle_ref_time']).dt.total_seconds())\n",
    "    dc_applied_df = location_df.loc[(location_df['end_time_wrt_ref'] <= time_on_in_secs)&(location_df['start_time_wrt_ref'] >= 0)].copy()\n",
    "\n",
    "    return dc_applied_df\n",
    "\n",
    "def assign_cycle_groups_to_each_call(location_df, cycle_length, data_params):\n",
    "    location_df['ref_time'] = pd.DatetimeIndex(location_df['call_start_time'])\n",
    "    location_df['cycle_ref_time'] = pd.DatetimeIndex(location_df['call_start_time'])\n",
    "    location_df['call_end_time'] = pd.DatetimeIndex(location_df['call_end_time'])\n",
    "    location_df['call_start_time'] = pd.DatetimeIndex(location_df['call_start_time'])\n",
    "\n",
    "    resampled_cycle_length_df = location_df.resample(f'{cycle_length}T', on='cycle_ref_time', origin='start_day')\n",
    "    first_call_of_each_group = resampled_cycle_length_df.first().between_time(data_params['recording_start'], data_params['recording_end'])\n",
    "    are_there_expected_number_of_cycles(location_df, first_call_of_each_group, cycle_length)\n",
    "    location_df['cycle_ref_time'] = pd.DatetimeIndex(resampled_cycle_length_df['cycle_ref_time'].transform(lambda x: x.name))\n",
    "\n",
    "    return location_df"
   ]
  },
  {
   "cell_type": "code",
   "execution_count": 12,
   "metadata": {},
   "outputs": [],
   "source": [
    "def get_activity_index_per_cycle(location_df, cycle_length, index):\n",
    "    \"\"\"\n",
    "    Constructs a pandas Series that records the activity index observed per interval.\n",
    "    The used interval is the one stored inside data_params['bin_size']\n",
    "    The activity index time block is stored inside data_params['index_time_block_in_secs']\n",
    "    \"\"\"\n",
    "\n",
    "    location_df['ref_time'] = location_df['call_start_time']\n",
    "    temp = location_df.resample(f'{index}S', on='ref_time')['ref_time'].count()\n",
    "    temp[temp>0] = 1\n",
    "    activity_indices = temp.resample(f\"{cycle_length}T\").sum()\n",
    "    \n",
    "    return activity_indices\n",
    "\n",
    "def get_activity_index_per_available_index(num_blocks_presence, time_on, index_time_block):\n",
    "    return num_blocks_presence / (time_on / index_time_block)\n",
    "\n",
    "def filter_and_prepare_metric(metric, dc_tag, data_params):\n",
    "\n",
    "    col_name = f\"{data_params['metric_tag']} ({dc_tag})\"\n",
    "    incomplete_activity_arr = pd.DataFrame(metric.values, index=metric.index, columns=[col_name])\n",
    "    activity_arr = incomplete_activity_arr.between_time(data_params['recording_start'], data_params['recording_end'], inclusive='left')\n",
    "\n",
    "    return pd.DataFrame(list(zip(activity_arr.index, activity_arr[col_name].values)), columns=[\"datetime_UTC\", col_name])"
   ]
  },
  {
   "cell_type": "code",
   "execution_count": 13,
   "metadata": {},
   "outputs": [],
   "source": [
    "def does_duty_cycled_df_have_less_dets_than_original(dc_applied_df, location_df):\n",
    "    assert dc_applied_df.shape[0] < location_df.shape[0]"
   ]
  },
  {
   "cell_type": "code",
   "execution_count": 14,
   "metadata": {},
   "outputs": [],
   "source": [
    "def generate_activity_index_percent_for_dc_schemes(data_params, file_paths):\n",
    "    activity_arr = pd.DataFrame()\n",
    "    location_df = pd.read_csv(f'{file_paths[\"SITE_folder\"]}/{file_paths[\"bd2_TYPE_SITE_YEAR\"]}.csv', index_col=0)\n",
    "\n",
    "    dc_schemes = data_params['dc_tags'][1:]\n",
    "    cont_scheme = data_params['dc_tags'][0]\n",
    "    for dc_tag in dc_schemes:\n",
    "        cycle_length_in_mins = int(dc_tag.split('of')[1])\n",
    "        time_on_in_mins = int(dc_tag.split('of')[0])\n",
    "        time_on_in_secs = (60*time_on_in_mins)\n",
    "        \n",
    "        dc_applied_df = simulate_dutycycle_on_detections(location_df.copy(), cycle_length_in_mins, \n",
    "                                                         time_on_in_secs, data_params)\n",
    "        does_duty_cycled_df_have_less_dets_than_original(dc_applied_df, location_df)\n",
    "\n",
    "        num_blocks_of_presence = get_activity_index_per_cycle(dc_applied_df, cycle_length_in_mins, data_params['index_time_block'])        \n",
    "        activity_ind_percent = get_activity_index_per_available_index(num_blocks_of_presence, time_on_in_secs, data_params['index_time_block'])\n",
    "        ind_percent_dc_column = filter_and_prepare_metric(activity_ind_percent, dc_tag, data_params)\n",
    "        ind_percent_dc_column = ind_percent_dc_column.set_index(\"datetime_UTC\")\n",
    "        are_there_expected_number_of_cycles(dc_applied_df, ind_percent_dc_column, cycle_length_in_mins)\n",
    "        \n",
    "        activity_arr = pd.concat([activity_arr, ind_percent_dc_column], axis=1)\n",
    "\n",
    "    return activity_arr\n",
    "\n",
    "def get_continuous_activity_index_partitioned_for_dc_scheme(metric_col_name, file_paths, data_params):\n",
    "    dc_tag_split = re.findall(r\"\\d+\", metric_col_name)\n",
    "    dc_tag = re.findall(r\"\\d+of\\d+\", metric_col_name)[0]\n",
    "    cycle_length = int(dc_tag_split[-1])\n",
    "    cycle_length_in_secs = 60*cycle_length\n",
    "\n",
    "    location_df = pd.read_csv(f'{file_paths[\"SITE_folder\"]}/{file_paths[\"bd2_TYPE_SITE_YEAR\"]}.csv', index_col=0)\n",
    "    location_df = assign_cycle_groups_to_each_call(location_df, cycle_length, data_params)\n",
    "    num_blocks_of_presence = get_activity_index_per_cycle(location_df, cycle_length, data_params['index_time_block'])\n",
    "    activity_ind_percent = get_activity_index_per_available_index(num_blocks_of_presence, cycle_length_in_secs, data_params['index_time_block'])\n",
    "    ind_percent_cont_column = filter_and_prepare_metric(activity_ind_percent, dc_tag, data_params)\n",
    "    ind_percent_cont_column = ind_percent_cont_column.set_index(\"datetime_UTC\")\n",
    "    are_there_expected_number_of_cycles(location_df, ind_percent_cont_column, cycle_length)\n",
    "\n",
    "    return ind_percent_cont_column"
   ]
  },
  {
   "cell_type": "code",
   "execution_count": 15,
   "metadata": {},
   "outputs": [],
   "source": [
    "def does_reindexed_match_original_at_original_indices(metric_for_scheme_for_comparison, metric_for_scheme):\n",
    "    assert (metric_for_scheme_for_comparison.loc[metric_for_scheme.index].compare(metric_for_scheme).empty)\n",
    "\n",
    "def do_calls_exist_in_reindexed_version(metric_for_scheme_for_comparison):\n",
    "    assert metric_for_scheme_for_comparison.values.all() >= 0"
   ]
  },
  {
   "cell_type": "code",
   "execution_count": 16,
   "metadata": {},
   "outputs": [],
   "source": [
    "def get_associated_metric_for_cont_column(metric_for_scheme, call_rate_cont_column):\n",
    "    metric_for_scheme_for_comparison = metric_for_scheme.reindex(call_rate_cont_column.index, fill_value=0)\n",
    "    does_reindexed_match_original_at_original_indices(metric_for_scheme_for_comparison, metric_for_scheme)\n",
    "    do_calls_exist_in_reindexed_version(metric_for_scheme_for_comparison)\n",
    "\n",
    "    return metric_for_scheme\n",
    "\n",
    "def select_dates_from_metrics(metric_for_scheme_for_comparison, call_rate_cont_column, data_params):\n",
    "    plt_dcmetr = metric_for_scheme_for_comparison.loc[data_params['start']:data_params['end']].copy()\n",
    "    plt_cmetr = call_rate_cont_column.loc[data_params['start']:data_params['end']].copy()\n",
    "\n",
    "    return plt_dcmetr, plt_cmetr"
   ]
  },
  {
   "cell_type": "code",
   "execution_count": 17,
   "metadata": {},
   "outputs": [],
   "source": [
    "data_params['metric_tag'] = 'activity_index'\n",
    "data_params['index_time_block'] = 5\n",
    "data_params['recording_start'] = '00:00'\n",
    "data_params['recording_end'] = '16:00'"
   ]
  },
  {
   "cell_type": "code",
   "execution_count": 18,
   "metadata": {},
   "outputs": [],
   "source": [
    "activity_arr = generate_activity_index_percent_for_dc_schemes(data_params, file_paths)\n",
    "\n",
    "metric_for_scheme = pd.DataFrame(activity_arr.iloc[:,3].dropna())\n",
    "metric_col_name = metric_for_scheme.columns[0]\n",
    "call_rate_cont_column = get_continuous_activity_index_partitioned_for_dc_scheme(metric_col_name, file_paths, data_params)\n",
    "\n",
    "metric_for_scheme_for_comparison = get_associated_metric_for_cont_column(metric_for_scheme, call_rate_cont_column)\n",
    "\n",
    "data_params['start'] = dt.datetime(2022, 8, 10, 0, 0, 0)\n",
    "data_params['end'] = dt.datetime(2022, 8, 16, 16, 0, 0)\n",
    "\n",
    "plt_dcmetr, plt_cmetr = select_dates_from_metrics(metric_for_scheme_for_comparison, call_rate_cont_column, data_params)"
   ]
  },
  {
   "cell_type": "code",
   "execution_count": 24,
   "metadata": {},
   "outputs": [
    {
     "data": {
      "image/png": "[encoded data removed]",
      "text/plain": [
       "<Figure size 640x480 with 2 Axes>"
      ]
     },
     "metadata": {},
     "output_type": "display_data"
    }
   ],
   "source": [
    "plot_indiv_dc_control_comp_over_cycle(plt_dcmetr, plt_cmetr, data_params)"
   ]
  }
 ],
 "metadata": {
  "kernelspec": {
   "display_name": "Python 3",
   "language": "python",
   "name": "python3"
  },
  "language_info": {
   "codemirror_mode": {
    "name": "ipython",
    "version": 3
   },
   "file_extension": ".py",
   "mimetype": "text/x-python",
   "name": "python",
   "nbconvert_exporter": "python",
   "pygments_lexer": "ipython3",
   "version": "3.11.4"
  }
 },
 "nbformat": 4,
 "nbformat_minor": 2
}
