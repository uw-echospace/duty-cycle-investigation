{
 "cells": [
  {
   "cell_type": "code",
   "execution_count": 1,
   "metadata": {},
   "outputs": [],
   "source": [
    "import numpy as np\n",
    "import pandas as pd\n",
    "import scipy\n",
    "from scipy import stats\n",
    "import datetime as dt\n",
    "\n",
    "import matplotlib.pyplot as plt\n",
    "from matplotlib import colors\n",
    "import soundfile as sf\n",
    "import matplotlib.patches as patches\n",
    "from pathlib import Path"
   ]
  },
  {
   "cell_type": "code",
   "execution_count": 2,
   "metadata": {},
   "outputs": [],
   "source": [
    "import sys\n",
    "\n",
    "sys.path.append(\"../src\")\n",
    "sys.path.append(\"../src/activity\")"
   ]
  },
  {
   "cell_type": "code",
   "execution_count": 3,
   "metadata": {},
   "outputs": [],
   "source": [
    "from core import SITE_NAMES, FREQ_GROUPS\n",
    "from cli import get_file_paths\n",
    "\n",
    "import subsampling as ss\n",
    "import plot\n",
    "import pipeline"
   ]
  },
  {
   "cell_type": "code",
   "execution_count": 4,
   "metadata": {},
   "outputs": [
    {
     "data": {
      "text/plain": [
       "array([  6,  12,  18,  24,  30,  36,  48,  60,  72,  90,  96, 120, 144,\n",
       "       180, 240, 288, 360, 480, 720])"
      ]
     },
     "execution_count": 4,
     "metadata": {},
     "output_type": "execute_result"
    }
   ],
   "source": [
    "avail = np.arange(0, 720, 6) + 6\n",
    "reset_24 = avail[np.where((24*60 % avail) == 0)[0]]\n",
    "reset_24"
   ]
  },
  {
   "cell_type": "code",
   "execution_count": 5,
   "metadata": {},
   "outputs": [
    {
     "name": "stdout",
     "output_type": "stream",
     "text": [
      "Carp \n",
      "Carp LF\n",
      "Carp HF\n"
     ]
    }
   ],
   "source": [
    "cycle_lengths = reset_24\n",
    "percent_ons = [1/6, 1/3, 1/2, 2/3]\n",
    "specific_dc_tag = \"30of30\"\n",
    "\n",
    "data_params = dict()\n",
    "data_params[\"cycle_lengths\"] = cycle_lengths\n",
    "data_params[\"percent_ons\"] = percent_ons\n",
    "dc_tags = ss.get_list_of_dc_tags(data_params[\"cycle_lengths\"], data_params[\"percent_ons\"])\n",
    "data_params[\"dc_tags\"] = dc_tags\n",
    "data_params[\"cur_dc_tag\"] = specific_dc_tag\n",
    "data_params['bin_size'] = '30'\n",
    "data_params['recording_start'] = '00:00'\n",
    "data_params['recording_end'] = '16:00'\n",
    "\n",
    "pipeline_params = dict()\n",
    "pipeline_params['assemble_location_summary'] = False\n",
    "pipeline_params[\"read_csv\"] = False\n",
    "pipeline_params['use_threshold_to_group'] = False\n",
    "pipeline_params['use_kmeans_to_group'] = True\n",
    "pipeline_params[\"save_activity_grid\"] = False\n",
    "pipeline_params[\"save_presence_grid\"] = False\n",
    "pipeline_params[\"save_dc_night_comparisons\"] = False\n",
    "pipeline_params[\"save_activity_dc_comparisons\"] = False\n",
    "pipeline_params[\"save_presence_dc_comparisons\"] = False\n",
    "pipeline_params[\"show_plots\"] = True\n",
    "pipeline_params[\"show_PST\"] = True\n",
    "\n",
    "site_keys = ['Carp']\n",
    "type_keys = ['', 'LF', 'HF']\n",
    "for site_key in site_keys:\n",
    "    for type_key in type_keys:\n",
    "        print(site_key, type_key)\n",
    "\n",
    "        data_params[\"site_name\"] = SITE_NAMES[site_key]\n",
    "        data_params[\"site_tag\"] = site_key\n",
    "        data_params[\"type_tag\"] = type_key\n",
    "\n",
    "        file_paths = get_file_paths(data_params)\n",
    "\n",
    "        activity_bouts_arr = pipeline.run_for_bouts(data_params, pipeline_params, file_paths)\n",
    "        # plot.plot_dc_bout_activity_comparisons_per_scheme(activity_bouts_arr, data_params, pipeline_params, file_paths)\n",
    "        # plot.plot_dc_presence_comparisons_per_scheme(activity_bouts_arr, data_params, pipeline_params, file_paths)"
   ]
  }
 ],
 "metadata": {
  "kernelspec": {
   "display_name": "Python 3",
   "language": "python",
   "name": "python3"
  },
  "language_info": {
   "codemirror_mode": {
    "name": "ipython",
    "version": 3
   },
   "file_extension": ".py",
   "mimetype": "text/x-python",
   "name": "python",
   "nbconvert_exporter": "python",
   "pygments_lexer": "ipython3",
   "version": "3.11.4"
  },
  "orig_nbformat": 4
 },
 "nbformat": 4,
 "nbformat_minor": 2
}
