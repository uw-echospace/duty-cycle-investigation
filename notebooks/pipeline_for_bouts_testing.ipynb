{
 "cells": [
  {
   "cell_type": "code",
   "execution_count": null,
   "metadata": {},
   "outputs": [],
   "source": [
    "import numpy as np\n",
    "import pandas as pd\n",
    "import scipy\n",
    "from scipy import stats\n",
    "import datetime as dt\n",
    "\n",
    "import matplotlib.pyplot as plt\n",
    "from matplotlib import colors\n",
    "import soundfile as sf\n",
    "import matplotlib.patches as patches\n",
    "from pathlib import Path"
   ]
  },
  {
   "cell_type": "code",
   "execution_count": null,
   "metadata": {},
   "outputs": [],
   "source": [
    "import sys\n",
    "\n",
    "sys.path.append(\"../src\")"
   ]
  },
  {
   "cell_type": "code",
   "execution_count": null,
   "metadata": {},
   "outputs": [],
   "source": [
    "from core import SITE_NAMES, DC_COLOR_MAPPINGS, FREQ_GROUPS\n",
    "from cli import get_file_paths\n",
    "\n",
    "import bout_clustering as bt_clustering\n",
    "import bout_plotting as bt_plt\n",
    "import subsampling as ss\n",
    "import data_handling as dh\n",
    "import plotting\n",
    "import pipeline"
   ]
  },
  {
   "cell_type": "code",
   "execution_count": null,
   "metadata": {},
   "outputs": [],
   "source": [
    "cycle_lengths = [1800, 360]\n",
    "percent_ons = [0.1667]\n",
    "specific_dc_tag = \"1800of1800\"\n",
    "\n",
    "data_params = dict()\n",
    "data_params[\"cycle_lengths\"] = cycle_lengths\n",
    "data_params[\"percent_ons\"] = percent_ons\n",
    "dc_tags = ss.get_list_of_dc_tags(data_params[\"cycle_lengths\"], data_params[\"percent_ons\"])\n",
    "data_params[\"dc_tags\"] = dc_tags\n",
    "data_params[\"cur_dc_tag\"] = specific_dc_tag\n",
    "data_params['resolution_in_min'] = '30'\n",
    "data_params['recording_start'] = '02:00'\n",
    "data_params['recording_end'] = '13:30'\n",
    "\n",
    "pipeline_params = dict()\n",
    "pipeline_params['assemble_location_summary'] = True\n",
    "pipeline_params[\"read_csv\"] = False\n",
    "pipeline_params[\"save_activity_grid\"] = True\n",
    "pipeline_params[\"save_presence_grid\"] = True\n",
    "pipeline_params[\"save_dc_night_comparisons\"] = True\n",
    "pipeline_params[\"save_activity_dc_comparisons\"] = True\n",
    "pipeline_params[\"save_presence_dc_comparisons\"] = True\n",
    "pipeline_params[\"show_plots\"] = True\n",
    "pipeline_params[\"show_PST\"] = True\n",
    "\n",
    "for site_key in FREQ_GROUPS.keys():\n",
    "    for type_key in FREQ_GROUPS[site_key].keys():\n",
    "        print(site_key, type_key)\n",
    "\n",
    "        data_params[\"site_name\"] = SITE_NAMES[site_key]\n",
    "        data_params[\"site_tag\"] = site_key\n",
    "        data_params[\"type_tag\"] = type_key\n",
    "\n",
    "        data_params[\"site_name\"] = SITE_NAMES[site_key]\n",
    "        data_params[\"site_tag\"] = site_key\n",
    "        data_params[\"type_tag\"] = type_key\n",
    "\n",
    "        file_paths = get_file_paths(data_params)\n",
    "        activity_bouts_arr = pipeline.run_for_bouts(data_params, pipeline_params, file_paths)\n",
    "        plotting.plot_activity_grid_for_bouts(dh.construct_activity_grid_for_bouts(activity_bouts_arr, data_params['cur_dc_tag']), data_params, pipeline_params, file_paths)\n",
    "        plotting.plot_dc_bout_activity_comparisons_per_scheme(activity_bouts_arr, data_params, pipeline_params, file_paths)"
   ]
  }
 ],
 "metadata": {
  "kernelspec": {
   "display_name": "Python 3",
   "language": "python",
   "name": "python3"
  },
  "language_info": {
   "codemirror_mode": {
    "name": "ipython",
    "version": 3
   },
   "file_extension": ".py",
   "mimetype": "text/x-python",
   "name": "python",
   "nbconvert_exporter": "python",
   "pygments_lexer": "ipython3",
   "version": "3.11.4"
  },
  "orig_nbformat": 4
 },
 "nbformat": 4,
 "nbformat_minor": 2
}
